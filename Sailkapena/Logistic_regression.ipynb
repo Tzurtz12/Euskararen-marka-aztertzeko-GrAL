{
 "cells": [
  {
   "cell_type": "markdown",
   "id": "21599f64-0604-4517-bc24-e1bfc6698b54",
   "metadata": {},
   "source": [
    "# Logistic regression:\n",
    "\n",
    "Testuen sailkapena gaika:\n",
    "* Gizartea --> 0\n",
    "* Politika --> 1\n",
    "* Kirola --> 2\n",
    "* Zientzia eta teknologia --> 3\n",
    "* Ekonomia --> 4\n",
    "* Historia --> 5\n",
    "* Geografia --> 6"
   ]
  },
  {
   "cell_type": "code",
   "execution_count": 1,
   "id": "f00a91e9-dbe7-4b90-b833-3a4d7a62ebc8",
   "metadata": {},
   "outputs": [],
   "source": [
    "import numpy as np\n",
    "from sklearn.model_selection import GridSearchCV\n",
    "from sklearn.utils._testing import ignore_warnings\n",
    "from sklearn.exceptions import ConvergenceWarning\n",
    "from sklearn.model_selection import train_test_split\n",
    "from sklearn.linear_model import LogisticRegression\n",
    "from sklearn.metrics import accuracy_score"
   ]
  },
  {
   "cell_type": "code",
   "execution_count": 2,
   "id": "21ac1c55-5774-47f9-a70b-f2516e041e3e",
   "metadata": {},
   "outputs": [],
   "source": [
    "with open('Data def/X_train.bin', 'rb') as f:\n",
    "    X_train = np.load(f)\n",
    "with open('Data def/X_test.bin', 'rb') as f:\n",
    "    X_test = np.load(f)\n",
    "with open('Data def/y_train.bin', 'rb') as f:\n",
    "    y_train = np.load(f)\n",
    "with open('Data def/y_test.bin', 'rb') as f:\n",
    "    y_test = np.load(f)\n",
    "class Dataset:\n",
    "    def __init__(self, X_train, X_test, y_train, y_test):\n",
    "        self.X_train = X_train\n",
    "        self.X_test = X_test\n",
    "        self.y_train = y_train\n",
    "        self.y_test = y_test\n",
    "data = Dataset(X_train, X_test, y_train, y_test)"
   ]
  },
  {
   "cell_type": "code",
   "execution_count": 13,
   "id": "940f698d-c7c0-4904-a284-a57c953fdf2d",
   "metadata": {},
   "outputs": [
    {
     "name": "stdout",
     "output_type": "stream",
     "text": [
      "1326\n",
      "1326\n"
     ]
    }
   ],
   "source": [
    "print(len(X_test))\n",
    "print(len(data.X_test))"
   ]
  },
  {
   "cell_type": "code",
   "execution_count": 3,
   "id": "1606c78c-3081-4d00-aa2f-bc3374beb631",
   "metadata": {},
   "outputs": [],
   "source": [
    "def score(data, model):\n",
    "    y_pred = model.predict(data.X_test)\n",
    "    return accuracy_score(data.y_test, y_pred)\n",
    "    \n",
    "@ignore_warnings(category=ConvergenceWarning)\n",
    "def fit_score(data, model):\n",
    "    model.fit(data.X_train, data.y_train)\n",
    "    return score(data, model)"
   ]
  },
  {
   "cell_type": "code",
   "execution_count": 19,
   "id": "0fd10f5c-9ff1-4a2e-9376-b470939db82d",
   "metadata": {},
   "outputs": [
    {
     "name": "stdout",
     "output_type": "stream",
     "text": [
      "Accuracy: 90.5%\n"
     ]
    },
    {
     "name": "stderr",
     "output_type": "stream",
     "text": [
      "/opt/conda/lib/python3.12/site-packages/sklearn/linear_model/_logistic.py:465: ConvergenceWarning: lbfgs failed to converge (status=1):\n",
      "STOP: TOTAL NO. OF ITERATIONS REACHED LIMIT.\n",
      "\n",
      "Increase the number of iterations (max_iter) or scale the data as shown in:\n",
      "    https://scikit-learn.org/stable/modules/preprocessing.html\n",
      "Please also refer to the documentation for alternative solver options:\n",
      "    https://scikit-learn.org/stable/modules/linear_model.html#logistic-regression\n",
      "  n_iter_i = _check_optimize_result(\n"
     ]
    }
   ],
   "source": [
    "#@ignore_warnings(category=ConvergenceWarning)\n",
    "model = LogisticRegression()\n",
    "model.fit(X_train, y_train)\n",
    "y_pred = model.predict(X_test)\n",
    "print(f'Accuracy: {accuracy_score(y_test, y_pred)*100:.1f}%')"
   ]
  },
  {
   "cell_type": "code",
   "execution_count": 4,
   "id": "d3f4c05d-57a8-4784-92f4-be9b91b1a9ee",
   "metadata": {},
   "outputs": [],
   "source": [
    "@ignore_warnings(category=ConvergenceWarning)\n",
    "def search_hyperparameters(data, model, param_grid, cv=5, verbose=0):\n",
    "    grid_search = GridSearchCV(estimator=model, param_grid=param_grid,\n",
    "                               cv=cv,scoring='accuracy',verbose=verbose\n",
    "    )\n",
    "    grid_search.fit(data.X_train,data.y_train)\n",
    "    return grid_search"
   ]
  },
  {
   "cell_type": "markdown",
   "id": "3f483483-8614-40e1-b346-c352f1df1e5d",
   "metadata": {},
   "source": [
    "https://scikit-learn.org/stable/modules/generated/sklearn.linear_model.LogisticRegression.html\n",
    "\n",
    "‘lbfgs’, ‘liblinear’, ‘newton-cg’, ‘newton-cholesky’, ‘sag’, ‘saga’"
   ]
  },
  {
   "cell_type": "code",
   "execution_count": 59,
   "id": "88296b75-b330-4645-a8c6-d68a8c03dff3",
   "metadata": {},
   "outputs": [
    {
     "name": "stdout",
     "output_type": "stream",
     "text": [
      "Fitting 5 folds for each of 18 candidates, totalling 90 fits\n",
      "[CV] END ..............................C=1e-05, solver=lbfgs; total time=  29.9s\n",
      "[CV] END ..............................C=1e-05, solver=lbfgs; total time=  28.5s\n",
      "[CV] END ..............................C=1e-05, solver=lbfgs; total time=  29.6s\n",
      "[CV] END ..............................C=1e-05, solver=lbfgs; total time=  28.4s\n",
      "[CV] END ..............................C=1e-05, solver=lbfgs; total time=  29.8s\n",
      "[CV] END ..........................C=1e-05, solver=newton-cg; total time= 1.1min\n",
      "[CV] END ..........................C=1e-05, solver=newton-cg; total time= 1.3min\n",
      "[CV] END ..........................C=1e-05, solver=newton-cg; total time= 1.0min\n",
      "[CV] END ..........................C=1e-05, solver=newton-cg; total time=  58.7s\n",
      "[CV] END ..........................C=1e-05, solver=newton-cg; total time= 1.1min\n",
      "[CV] END ..........................C=1e-05, solver=liblinear; total time= 1.4min\n",
      "[CV] END ..........................C=1e-05, solver=liblinear; total time= 1.4min\n",
      "[CV] END ..........................C=1e-05, solver=liblinear; total time= 1.2min\n",
      "[CV] END ..........................C=1e-05, solver=liblinear; total time= 1.2min\n",
      "[CV] END ..........................C=1e-05, solver=liblinear; total time= 1.3min\n",
      "[CV] END .............................C=0.0001, solver=lbfgs; total time=  28.1s\n",
      "[CV] END .............................C=0.0001, solver=lbfgs; total time=  29.4s\n",
      "[CV] END .............................C=0.0001, solver=lbfgs; total time=  29.2s\n",
      "[CV] END .............................C=0.0001, solver=lbfgs; total time=  32.4s\n",
      "[CV] END .............................C=0.0001, solver=lbfgs; total time=  29.6s\n",
      "[CV] END .........................C=0.0001, solver=newton-cg; total time=  25.9s\n",
      "[CV] END .........................C=0.0001, solver=newton-cg; total time=  26.6s\n",
      "[CV] END .........................C=0.0001, solver=newton-cg; total time=  26.4s\n",
      "[CV] END .........................C=0.0001, solver=newton-cg; total time=  23.7s\n",
      "[CV] END .........................C=0.0001, solver=newton-cg; total time=  26.1s\n",
      "[CV] END .........................C=0.0001, solver=liblinear; total time= 2.3min\n",
      "[CV] END .........................C=0.0001, solver=liblinear; total time= 1.5min\n",
      "[CV] END .........................C=0.0001, solver=liblinear; total time= 1.5min\n",
      "[CV] END .........................C=0.0001, solver=liblinear; total time= 1.7min\n",
      "[CV] END .........................C=0.0001, solver=liblinear; total time= 1.7min\n",
      "[CV] END ..............................C=0.001, solver=lbfgs; total time=  30.5s\n",
      "[CV] END ..............................C=0.001, solver=lbfgs; total time=  28.0s\n",
      "[CV] END ..............................C=0.001, solver=lbfgs; total time=  32.5s\n",
      "[CV] END ..............................C=0.001, solver=lbfgs; total time=  30.4s\n",
      "[CV] END ..............................C=0.001, solver=lbfgs; total time=  31.1s\n",
      "[CV] END ..........................C=0.001, solver=newton-cg; total time=  25.0s\n",
      "[CV] END ..........................C=0.001, solver=newton-cg; total time=  25.2s\n",
      "[CV] END ..........................C=0.001, solver=newton-cg; total time=  22.9s\n",
      "[CV] END ..........................C=0.001, solver=newton-cg; total time=  27.5s\n",
      "[CV] END ..........................C=0.001, solver=newton-cg; total time=  26.3s\n",
      "[CV] END ..........................C=0.001, solver=liblinear; total time= 2.2min\n",
      "[CV] END ..........................C=0.001, solver=liblinear; total time= 1.8min\n",
      "[CV] END ..........................C=0.001, solver=liblinear; total time= 2.2min\n",
      "[CV] END ..........................C=0.001, solver=liblinear; total time= 1.8min\n",
      "[CV] END ..........................C=0.001, solver=liblinear; total time= 1.8min\n",
      "[CV] END ...............................C=0.01, solver=lbfgs; total time=  29.8s\n",
      "[CV] END ...............................C=0.01, solver=lbfgs; total time=  30.2s\n",
      "[CV] END ...............................C=0.01, solver=lbfgs; total time=  27.4s\n",
      "[CV] END ...............................C=0.01, solver=lbfgs; total time=  30.4s\n",
      "[CV] END ...............................C=0.01, solver=lbfgs; total time=  30.3s\n",
      "[CV] END ...........................C=0.01, solver=newton-cg; total time=  31.6s\n",
      "[CV] END ...........................C=0.01, solver=newton-cg; total time=  29.7s\n",
      "[CV] END ...........................C=0.01, solver=newton-cg; total time=  28.8s\n",
      "[CV] END ...........................C=0.01, solver=newton-cg; total time=  27.5s\n",
      "[CV] END ...........................C=0.01, solver=newton-cg; total time=  28.8s\n",
      "[CV] END ...........................C=0.01, solver=liblinear; total time= 2.5min\n",
      "[CV] END ...........................C=0.01, solver=liblinear; total time= 1.9min\n",
      "[CV] END ...........................C=0.01, solver=liblinear; total time= 2.0min\n",
      "[CV] END ...........................C=0.01, solver=liblinear; total time= 2.0min\n",
      "[CV] END ...........................C=0.01, solver=liblinear; total time= 2.0min\n",
      "[CV] END ................................C=0.1, solver=lbfgs; total time=  31.1s\n",
      "[CV] END ................................C=0.1, solver=lbfgs; total time=  30.8s\n",
      "[CV] END ................................C=0.1, solver=lbfgs; total time=  30.0s\n",
      "[CV] END ................................C=0.1, solver=lbfgs; total time=  27.1s\n",
      "[CV] END ................................C=0.1, solver=lbfgs; total time=  30.6s\n",
      "[CV] END ............................C=0.1, solver=newton-cg; total time=  27.3s\n",
      "[CV] END ............................C=0.1, solver=newton-cg; total time=  27.6s\n",
      "[CV] END ............................C=0.1, solver=newton-cg; total time=  24.0s\n",
      "[CV] END ............................C=0.1, solver=newton-cg; total time=  33.1s\n",
      "[CV] END ............................C=0.1, solver=newton-cg; total time=  27.1s\n",
      "[CV] END ............................C=0.1, solver=liblinear; total time= 2.5min\n",
      "[CV] END ............................C=0.1, solver=liblinear; total time= 1.7min\n",
      "[CV] END ............................C=0.1, solver=liblinear; total time= 2.4min\n",
      "[CV] END ............................C=0.1, solver=liblinear; total time= 2.1min\n",
      "[CV] END ............................C=0.1, solver=liblinear; total time= 1.9min\n",
      "[CV] END ..................................C=1, solver=lbfgs; total time=  27.3s\n",
      "[CV] END ..................................C=1, solver=lbfgs; total time=  31.3s\n",
      "[CV] END ..................................C=1, solver=lbfgs; total time=  31.1s\n",
      "[CV] END ..................................C=1, solver=lbfgs; total time=  28.0s\n",
      "[CV] END ..................................C=1, solver=lbfgs; total time=  29.7s\n",
      "[CV] END ..............................C=1, solver=newton-cg; total time=  29.0s\n",
      "[CV] END ..............................C=1, solver=newton-cg; total time=  27.4s\n",
      "[CV] END ..............................C=1, solver=newton-cg; total time=  29.1s\n",
      "[CV] END ..............................C=1, solver=newton-cg; total time=  25.6s\n",
      "[CV] END ..............................C=1, solver=newton-cg; total time=  27.1s\n",
      "[CV] END ..............................C=1, solver=liblinear; total time= 2.2min\n",
      "[CV] END ..............................C=1, solver=liblinear; total time= 1.8min\n",
      "[CV] END ..............................C=1, solver=liblinear; total time= 1.7min\n",
      "[CV] END ..............................C=1, solver=liblinear; total time= 1.8min\n",
      "[CV] END ..............................C=1, solver=liblinear; total time= 1.9min\n",
      "grid_search.best_params_ = {'C': 1e-05, 'solver': 'liblinear'}\n",
      "grid_search.best_score_ = np.float64(0.9183609268578948)\n"
     ]
    }
   ],
   "source": [
    "@ignore_warnings(category=ConvergenceWarning)\n",
    "def search_hyperparameters(data, model, param_grid, cv=5, verbose=0):\n",
    "    grid_search = GridSearchCV(estimator=model, param_grid=param_grid,\n",
    "                               cv=cv,scoring='accuracy',verbose=verbose\n",
    "    )\n",
    "    grid_search.fit(data.X_train,data.y_train)\n",
    "    return grid_search\n",
    "\n",
    "params = {'C': [1e-5, 1e-4, 1e-3, 0.01, 0.1, 1], 'solver': ['lbfgs', 'newton-cg','liblinear']}\n",
    "model = LogisticRegression(random_state=42)\n",
    "grid_search = search_hyperparameters(data, model, params, verbose=2)\n",
    "print(f'{grid_search.best_params_ = }')\n",
    "print(f'{grid_search.best_score_ = }')"
   ]
  },
  {
   "cell_type": "code",
   "execution_count": 60,
   "id": "b42a27fb-99a3-4c40-8c53-ae041a4543bf",
   "metadata": {},
   "outputs": [
    {
     "name": "stdout",
     "output_type": "stream",
     "text": [
      "{'C': 1e-05, 'solver': 'liblinear'}\n"
     ]
    }
   ],
   "source": [
    "print(grid_search.best_params_)"
   ]
  },
  {
   "cell_type": "code",
   "execution_count": 21,
   "id": "83e9d22b-8009-4e87-a051-03a98a2df431",
   "metadata": {},
   "outputs": [
    {
     "name": "stdout",
     "output_type": "stream",
     "text": [
      "Fitting 5 folds for each of 3 candidates, totalling 15 fits\n",
      "[CV] END ..........................C=1e-07, solver=liblinear; total time=  29.8s\n",
      "[CV] END ..........................C=1e-07, solver=liblinear; total time=  34.3s\n",
      "[CV] END ..........................C=1e-07, solver=liblinear; total time=  28.0s\n",
      "[CV] END ..........................C=1e-07, solver=liblinear; total time=  28.6s\n",
      "[CV] END ..........................C=1e-07, solver=liblinear; total time=  31.1s\n",
      "[CV] END ..........................C=1e-06, solver=liblinear; total time=  54.6s\n",
      "[CV] END ..........................C=1e-06, solver=liblinear; total time=  50.3s\n",
      "[CV] END ..........................C=1e-06, solver=liblinear; total time=  54.0s\n",
      "[CV] END ..........................C=1e-06, solver=liblinear; total time=  54.2s\n",
      "[CV] END ..........................C=1e-06, solver=liblinear; total time=  46.2s\n",
      "[CV] END ..........................C=1e-05, solver=liblinear; total time= 1.4min\n",
      "[CV] END ..........................C=1e-05, solver=liblinear; total time= 1.4min\n",
      "[CV] END ..........................C=1e-05, solver=liblinear; total time= 1.2min\n",
      "[CV] END ..........................C=1e-05, solver=liblinear; total time= 1.2min\n",
      "[CV] END ..........................C=1e-05, solver=liblinear; total time= 1.3min\n",
      "grid_search.best_params_ = {'C': 1e-05, 'solver': 'liblinear'}\n",
      "grid_search.best_score_ = np.float64(0.9183609268578948)\n"
     ]
    }
   ],
   "source": [
    "params = {'C': [1e-7, 1e-6, 1e-5], 'solver': ['liblinear']}\n",
    "model = LogisticRegression(random_state=42)\n",
    "grid_search = search_hyperparameters(data, model, params, verbose=2)\n",
    "print(f'{grid_search.best_params_ = }')\n",
    "print(f'{grid_search.best_score_ = }')"
   ]
  },
  {
   "cell_type": "code",
   "execution_count": 22,
   "id": "438ca599-be8d-4001-ab79-8d6dd0205421",
   "metadata": {},
   "outputs": [
    {
     "name": "stdout",
     "output_type": "stream",
     "text": [
      "Accuracy: 92.2%\n"
     ]
    }
   ],
   "source": [
    "model = LogisticRegression(random_state=42, **grid_search.best_params_) # {'C': 0.01, 'solver': 'lbfgs'}\n",
    "print(f'Accuracy: {fit_score(data, model)*100:.1f}%')"
   ]
  },
  {
   "cell_type": "code",
   "execution_count": 62,
   "id": "68a8967e-ae8f-4bbd-9890-6136847172f2",
   "metadata": {},
   "outputs": [
    {
     "name": "stdout",
     "output_type": "stream",
     "text": [
      "Accuracy: 90.5%\n"
     ]
    }
   ],
   "source": [
    "model = LogisticRegression(random_state=42 ) # {'C': 1, 'solver': 'lbfgs'}\n",
    "print(f'Accuracy: {fit_score(data, model)*100:.1f}%')"
   ]
  },
  {
   "cell_type": "markdown",
   "id": "bdf53abd-9c96-4231-b1e1-cfb114f5a85a",
   "metadata": {},
   "source": [
    "Grid-aren bitartez %2 handitu da zehaztasuna."
   ]
  },
  {
   "cell_type": "markdown",
   "id": "422dd92e-a95e-46e5-a1ec-d0a2465213c1",
   "metadata": {},
   "source": [
    "### Ereduaren probak"
   ]
  },
  {
   "cell_type": "code",
   "execution_count": 5,
   "id": "082adfcb-93b6-4f03-92f2-6d43dff94731",
   "metadata": {},
   "outputs": [],
   "source": [
    "def sailkapena(esaldi, model):\n",
    "    pred = model.predict(esaldi)\n",
    "    match pred[0]:\n",
    "        case 0.0:\n",
    "            return(\"Gizartea\")\n",
    "        case 1.0:\n",
    "            return(\"Politika\")\n",
    "        case 2.0:\n",
    "            return(\"Kirola\")\n",
    "        case 3.0:\n",
    "            return(\"Zientzia eta teknologia\")\n",
    "        case 4.0:\n",
    "            return(\"Ekonomia\")\n",
    "        case 5.0:\n",
    "            return(\"Historia\")\n",
    "        case 6.0:\n",
    "            return(\"Geografia\")"
   ]
  },
  {
   "cell_type": "code",
   "execution_count": 6,
   "id": "eb4cbcd5-7d07-47ac-954b-fd541fb42037",
   "metadata": {},
   "outputs": [],
   "source": [
    "with open('Data def/hegoafrika.bin', 'rb') as f:\n",
    "    esaldia_g = np.load(f)\n",
    "#\"Hegoafrikan ardo ona egiten omen da Stellenbosch aldean. Lurmutur hiria, Pretoria, hiri handiak ere topa daitezke\"\n",
    "with open('Data def/altuna.bin', 'rb') as f:\n",
    "    esaldia_k = np.load(f)\n",
    "# \"Pilotan Altuna III. atera da garaile, Iñaki Artola 22-19 garaitu ondoren. Bi gipuzkoarrek urte luzeetan ahaztuko ez dugun erakustaldia eman ziguten.\""
   ]
  },
  {
   "cell_type": "code",
   "execution_count": 4,
   "id": "73835925-fae4-4e1a-97cf-5c9e9f244cc8",
   "metadata": {},
   "outputs": [
    {
     "name": "stdout",
     "output_type": "stream",
     "text": [
      "Accuracy: 92.2%\n"
     ]
    }
   ],
   "source": [
    "model = LogisticRegression(random_state=42, C = 1e-5, solver = 'liblinear') # {'C': 1e-5, 'solver': 'liblinear'}\n",
    "print(f'Accuracy: {fit_score(data, model)*100:.1f}%')"
   ]
  },
  {
   "cell_type": "code",
   "execution_count": 7,
   "id": "a0db0ee0-c833-425e-85f4-47371bfd2ba5",
   "metadata": {},
   "outputs": [
    {
     "name": "stdout",
     "output_type": "stream",
     "text": [
      "Geografia\n",
      "Kirola\n"
     ]
    }
   ],
   "source": [
    "print(sailkapena(esaldia_g,model))\n",
    "print(sailkapena(esaldia_k,model))"
   ]
  },
  {
   "cell_type": "markdown",
   "id": "d8dda9ab-8a28-4cbe-8613-11384c0758cf",
   "metadata": {},
   "source": [
    "## Adierazpen grafikoa:"
   ]
  },
  {
   "cell_type": "markdown",
   "id": "f4a7e134-022a-44c9-8b44-3e2f292293dd",
   "metadata": {},
   "source": [
    "### solver : liblinear"
   ]
  },
  {
   "cell_type": "code",
   "execution_count": 23,
   "id": "7a54f129-0488-4bc5-9aea-07f6d13a17cf",
   "metadata": {},
   "outputs": [
    {
     "name": "stdout",
     "output_type": "stream",
     "text": [
      "Fitting 5 folds for each of 1 candidates, totalling 5 fits\n",
      "[CV] END ..........................C=1e-07, solver=liblinear; total time=  29.8s\n",
      "[CV] END ..........................C=1e-07, solver=liblinear; total time=  28.3s\n",
      "[CV] END ..........................C=1e-07, solver=liblinear; total time=  28.0s\n",
      "[CV] END ..........................C=1e-07, solver=liblinear; total time=  28.5s\n",
      "[CV] END ..........................C=1e-07, solver=liblinear; total time=  31.1s\n",
      "grid_search.best_params_ = {'C': 1e-07, 'solver': 'liblinear'}\n",
      "grid_search.best_score_ = np.float64(0.8793359770953)\n"
     ]
    }
   ],
   "source": [
    "params = {'C': [1e-7], 'solver': ['liblinear']}\n",
    "model = LogisticRegression(random_state=42)\n",
    "grid_search = search_hyperparameters(data, model, params, verbose=2)\n",
    "print(f'{grid_search.best_params_ = }')\n",
    "print(f'{grid_search.best_score_ = }')"
   ]
  },
  {
   "cell_type": "code",
   "execution_count": 5,
   "id": "6ccffb0e-c229-41fb-b1a5-fd96e2a05b8e",
   "metadata": {},
   "outputs": [
    {
     "name": "stdout",
     "output_type": "stream",
     "text": [
      "Fitting 5 folds for each of 1 candidates, totalling 5 fits\n",
      "[CV] END ..........................C=1e-06, solver=liblinear; total time=  54.6s\n",
      "[CV] END ..........................C=1e-06, solver=liblinear; total time=  50.3s\n",
      "[CV] END ..........................C=1e-06, solver=liblinear; total time=  54.0s\n",
      "[CV] END ..........................C=1e-06, solver=liblinear; total time=  54.2s\n",
      "[CV] END ..........................C=1e-06, solver=liblinear; total time=  46.2s\n",
      "grid_search.best_params_ = {'C': 1e-06, 'solver': 'liblinear'}\n",
      "grid_search.best_score_ = np.float64(0.9091218679423114)\n"
     ]
    }
   ],
   "source": [
    "params = {'C': [1e-6], 'solver': ['liblinear']}\n",
    "model = LogisticRegression(random_state=42)\n",
    "grid_search = search_hyperparameters(data, model, params, verbose=2)\n",
    "print(f'{grid_search.best_params_ = }')\n",
    "print(f'{grid_search.best_score_ = }')"
   ]
  },
  {
   "cell_type": "code",
   "execution_count": 6,
   "id": "579ccb3a-96d8-4075-8531-7e2758c331e4",
   "metadata": {},
   "outputs": [
    {
     "name": "stdout",
     "output_type": "stream",
     "text": [
      "Fitting 5 folds for each of 1 candidates, totalling 5 fits\n",
      "[CV] END .........................C=0.0001, solver=liblinear; total time= 2.1min\n",
      "[CV] END .........................C=0.0001, solver=liblinear; total time= 1.5min\n",
      "[CV] END .........................C=0.0001, solver=liblinear; total time= 1.5min\n",
      "[CV] END .........................C=0.0001, solver=liblinear; total time= 1.7min\n",
      "[CV] END .........................C=0.0001, solver=liblinear; total time= 1.6min\n",
      "grid_search.best_params_ = {'C': 0.0001, 'solver': 'liblinear'}\n",
      "grid_search.best_score_ = np.float64(0.9145901872565932)\n"
     ]
    }
   ],
   "source": [
    "params = {'C': [1e-4], 'solver': ['liblinear']}\n",
    "model = LogisticRegression(random_state=42)\n",
    "grid_search = search_hyperparameters(data, model, params, verbose=2)\n",
    "print(f'{grid_search.best_params_ = }')\n",
    "print(f'{grid_search.best_score_ = }')"
   ]
  },
  {
   "cell_type": "code",
   "execution_count": 7,
   "id": "6a55b5ff-4e1f-4d83-8468-27a5907f6aed",
   "metadata": {},
   "outputs": [
    {
     "name": "stdout",
     "output_type": "stream",
     "text": [
      "Fitting 5 folds for each of 1 candidates, totalling 5 fits\n",
      "[CV] END ..........................C=0.001, solver=liblinear; total time= 2.3min\n",
      "[CV] END ..........................C=0.001, solver=liblinear; total time= 1.8min\n",
      "[CV] END ..........................C=0.001, solver=liblinear; total time= 2.2min\n",
      "[CV] END ..........................C=0.001, solver=liblinear; total time= 1.8min\n",
      "[CV] END ..........................C=0.001, solver=liblinear; total time= 1.8min\n",
      "grid_search.best_params_ = {'C': 0.001, 'solver': 'liblinear'}\n",
      "grid_search.best_score_ = np.float64(0.9132697882026568)\n"
     ]
    }
   ],
   "source": [
    "params = {'C': [1e-3], 'solver': ['liblinear']}\n",
    "model = LogisticRegression(random_state=42)\n",
    "grid_search = search_hyperparameters(data, model, params, verbose=2)\n",
    "print(f'{grid_search.best_params_ = }')\n",
    "print(f'{grid_search.best_score_ = }')"
   ]
  },
  {
   "cell_type": "code",
   "execution_count": 8,
   "id": "f094e132-b54e-44b5-9f62-5064947109f5",
   "metadata": {},
   "outputs": [
    {
     "name": "stdout",
     "output_type": "stream",
     "text": [
      "Fitting 5 folds for each of 1 candidates, totalling 5 fits\n",
      "[CV] END ...........................C=0.01, solver=liblinear; total time= 2.3min\n",
      "[CV] END ...........................C=0.01, solver=liblinear; total time= 1.7min\n",
      "[CV] END ...........................C=0.01, solver=liblinear; total time= 2.0min\n",
      "[CV] END ...........................C=0.01, solver=liblinear; total time= 1.9min\n",
      "[CV] END ...........................C=0.01, solver=liblinear; total time= 1.8min\n",
      "grid_search.best_params_ = {'C': 0.01, 'solver': 'liblinear'}\n",
      "grid_search.best_score_ = np.float64(0.9130816424519409)\n"
     ]
    }
   ],
   "source": [
    "params = {'C': [1e-2], 'solver': ['liblinear']}\n",
    "model = LogisticRegression(random_state=42)\n",
    "grid_search = search_hyperparameters(data, model, params, verbose=2)\n",
    "print(f'{grid_search.best_params_ = }')\n",
    "print(f'{grid_search.best_score_ = }')"
   ]
  },
  {
   "cell_type": "code",
   "execution_count": 9,
   "id": "ac43d31f-b823-4de7-af80-3da9dab7d349",
   "metadata": {},
   "outputs": [
    {
     "name": "stdout",
     "output_type": "stream",
     "text": [
      "Fitting 5 folds for each of 1 candidates, totalling 5 fits\n",
      "[CV] END ..............................C=1, solver=liblinear; total time= 2.2min\n",
      "[CV] END ..............................C=1, solver=liblinear; total time= 2.0min\n",
      "[CV] END ..............................C=1, solver=liblinear; total time= 1.7min\n",
      "[CV] END ..............................C=1, solver=liblinear; total time= 1.9min\n",
      "[CV] END ..............................C=1, solver=liblinear; total time= 2.0min\n",
      "grid_search.best_params_ = {'C': 1, 'solver': 'liblinear'}\n",
      "grid_search.best_score_ = np.float64(0.9121389575516157)\n"
     ]
    }
   ],
   "source": [
    "params = {'C': [1], 'solver': ['liblinear']}\n",
    "model = LogisticRegression(random_state=42)\n",
    "grid_search = search_hyperparameters(data, model, params, verbose=2)\n",
    "print(f'{grid_search.best_params_ = }')\n",
    "print(f'{grid_search.best_score_ = }')"
   ]
  },
  {
   "cell_type": "code",
   "execution_count": 10,
   "id": "00dea335-c1f3-4c27-ac4d-c0dd3327dcd0",
   "metadata": {},
   "outputs": [
    {
     "name": "stdout",
     "output_type": "stream",
     "text": [
      "Fitting 5 folds for each of 1 candidates, totalling 5 fits\n",
      "[CV] END .............................C=10, solver=liblinear; total time= 2.3min\n",
      "[CV] END .............................C=10, solver=liblinear; total time= 1.8min\n",
      "[CV] END .............................C=10, solver=liblinear; total time= 2.3min\n",
      "[CV] END .............................C=10, solver=liblinear; total time= 2.3min\n",
      "[CV] END .............................C=10, solver=liblinear; total time= 1.9min\n",
      "grid_search.best_params_ = {'C': 10, 'solver': 'liblinear'}\n",
      "grid_search.best_score_ = np.float64(0.9117617768925721)\n"
     ]
    }
   ],
   "source": [
    "params = {'C': [10], 'solver': ['liblinear']}\n",
    "model = LogisticRegression(random_state=42)\n",
    "grid_search = search_hyperparameters(data, model, params, verbose=2)\n",
    "print(f'{grid_search.best_params_ = }')\n",
    "print(f'{grid_search.best_score_ = }')"
   ]
  },
  {
   "cell_type": "code",
   "execution_count": 12,
   "id": "298f0daf-a3e5-4c20-8661-3b4277186b10",
   "metadata": {},
   "outputs": [
    {
     "name": "stdout",
     "output_type": "stream",
     "text": [
      "Fitting 5 folds for each of 1 candidates, totalling 5 fits\n",
      "[CV] END ............................C=0.1, solver=liblinear; total time= 2.3min\n",
      "[CV] END ............................C=0.1, solver=liblinear; total time= 1.7min\n",
      "[CV] END ............................C=0.1, solver=liblinear; total time= 2.1min\n",
      "[CV] END ............................C=0.1, solver=liblinear; total time= 2.2min\n",
      "[CV] END ............................C=0.1, solver=liblinear; total time= 1.8min\n",
      "grid_search.best_params_ = {'C': 0.1, 'solver': 'liblinear'}\n",
      "grid_search.best_score_ = np.float64(0.9130818202834634)\n"
     ]
    }
   ],
   "source": [
    "params = {'C': [0.1], 'solver': ['liblinear']}\n",
    "model = LogisticRegression(random_state=42)\n",
    "grid_search = search_hyperparameters(data, model, params, verbose=2)\n",
    "print(f'{grid_search.best_params_ = }')\n",
    "print(f'{grid_search.best_score_ = }')"
   ]
  },
  {
   "cell_type": "markdown",
   "id": "37e61210-5c67-4071-8b22-7884a2ab7cab",
   "metadata": {},
   "source": [
    "### solver : lbfgs"
   ]
  },
  {
   "cell_type": "code",
   "execution_count": 5,
   "id": "9548996e-698a-447f-bde1-a749cfeb1e35",
   "metadata": {},
   "outputs": [
    {
     "name": "stdout",
     "output_type": "stream",
     "text": [
      "Fitting 5 folds for each of 1 candidates, totalling 5 fits\n",
      "[CV] END ..............................C=1e-07, solver=lbfgs; total time=  27.0s\n",
      "[CV] END ..............................C=1e-07, solver=lbfgs; total time=  27.8s\n",
      "[CV] END ..............................C=1e-07, solver=lbfgs; total time=  29.0s\n",
      "[CV] END ..............................C=1e-07, solver=lbfgs; total time=  30.7s\n",
      "[CV] END ..............................C=1e-07, solver=lbfgs; total time=  30.1s\n",
      "grid_search.best_params_ = {'C': 1e-07, 'solver': 'lbfgs'}\n",
      "grid_search.best_score_ = np.float64(0.8861218501591592)\n"
     ]
    }
   ],
   "source": [
    "params = {'C': [1e-7], 'solver': ['lbfgs']}\n",
    "model = LogisticRegression(random_state=42)\n",
    "grid_search = search_hyperparameters(data, model, params, verbose=2)\n",
    "print(f'{grid_search.best_params_ = }')\n",
    "print(f'{grid_search.best_score_ = }')"
   ]
  },
  {
   "cell_type": "code",
   "execution_count": 6,
   "id": "cd16a0b2-5a64-40a2-abde-fc2f75b97d1c",
   "metadata": {},
   "outputs": [
    {
     "name": "stdout",
     "output_type": "stream",
     "text": [
      "Fitting 5 folds for each of 1 candidates, totalling 5 fits\n",
      "[CV] END ..............................C=1e-06, solver=lbfgs; total time=  27.5s\n",
      "[CV] END ..............................C=1e-06, solver=lbfgs; total time=  27.9s\n",
      "[CV] END ..............................C=1e-06, solver=lbfgs; total time=  28.9s\n",
      "[CV] END ..............................C=1e-06, solver=lbfgs; total time=  27.7s\n",
      "[CV] END ..............................C=1e-06, solver=lbfgs; total time=  27.7s\n",
      "grid_search.best_params_ = {'C': 1e-06, 'solver': 'lbfgs'}\n",
      "grid_search.best_score_ = np.float64(0.9034664698664485)\n"
     ]
    }
   ],
   "source": [
    "params = {'C': [1e-6], 'solver': ['lbfgs']}\n",
    "model = LogisticRegression(random_state=42)\n",
    "grid_search = search_hyperparameters(data, model, params, verbose=2)\n",
    "print(f'{grid_search.best_params_ = }')\n",
    "print(f'{grid_search.best_score_ = }')"
   ]
  },
  {
   "cell_type": "code",
   "execution_count": 7,
   "id": "8594acc0-e3df-4d8c-b22c-41ba222839fb",
   "metadata": {},
   "outputs": [
    {
     "name": "stdout",
     "output_type": "stream",
     "text": [
      "Fitting 5 folds for each of 1 candidates, totalling 5 fits\n",
      "[CV] END ..............................C=1e-05, solver=lbfgs; total time=  31.5s\n",
      "[CV] END ..............................C=1e-05, solver=lbfgs; total time=  31.2s\n",
      "[CV] END ..............................C=1e-05, solver=lbfgs; total time=  28.4s\n",
      "[CV] END ..............................C=1e-05, solver=lbfgs; total time=  29.7s\n",
      "[CV] END ..............................C=1e-05, solver=lbfgs; total time=  26.7s\n",
      "grid_search.best_params_ = {'C': 1e-05, 'solver': 'lbfgs'}\n",
      "grid_search.best_score_ = np.float64(0.9015816335603649)\n"
     ]
    }
   ],
   "source": [
    "params = {'C': [1e-5], 'solver': ['lbfgs']}\n",
    "model = LogisticRegression(random_state=42)\n",
    "grid_search = search_hyperparameters(data, model, params, verbose=2)\n",
    "print(f'{grid_search.best_params_ = }')\n",
    "print(f'{grid_search.best_score_ = }')"
   ]
  },
  {
   "cell_type": "code",
   "execution_count": 8,
   "id": "ff410ad3-5b23-4623-b3f8-e278bd029b1e",
   "metadata": {},
   "outputs": [
    {
     "name": "stdout",
     "output_type": "stream",
     "text": [
      "Fitting 5 folds for each of 1 candidates, totalling 5 fits\n",
      "[CV] END .............................C=0.0001, solver=lbfgs; total time=  24.5s\n",
      "[CV] END .............................C=0.0001, solver=lbfgs; total time=  27.0s\n",
      "[CV] END .............................C=0.0001, solver=lbfgs; total time=  28.0s\n",
      "[CV] END .............................C=0.0001, solver=lbfgs; total time=  29.5s\n",
      "[CV] END .............................C=0.0001, solver=lbfgs; total time=  27.1s\n",
      "grid_search.best_params_ = {'C': 0.0001, 'solver': 'lbfgs'}\n",
      "grid_search.best_score_ = np.float64(0.9002607010118613)\n"
     ]
    }
   ],
   "source": [
    "params = {'C': [1e-4], 'solver': ['lbfgs']}\n",
    "model = LogisticRegression(random_state=42)\n",
    "grid_search = search_hyperparameters(data, model, params, verbose=2)\n",
    "print(f'{grid_search.best_params_ = }')\n",
    "print(f'{grid_search.best_score_ = }')"
   ]
  },
  {
   "cell_type": "code",
   "execution_count": 9,
   "id": "3e04fc28-5ff6-4a37-8fb0-6cdea456e2f2",
   "metadata": {},
   "outputs": [
    {
     "name": "stdout",
     "output_type": "stream",
     "text": [
      "Fitting 5 folds for each of 1 candidates, totalling 5 fits\n",
      "[CV] END ..............................C=0.001, solver=lbfgs; total time=  29.6s\n",
      "[CV] END ..............................C=0.001, solver=lbfgs; total time=  30.4s\n",
      "[CV] END ..............................C=0.001, solver=lbfgs; total time=  34.0s\n",
      "[CV] END ..............................C=0.001, solver=lbfgs; total time=  31.4s\n",
      "[CV] END ..............................C=0.001, solver=lbfgs; total time=  29.7s\n",
      "grid_search.best_params_ = {'C': 0.001, 'solver': 'lbfgs'}\n",
      "grid_search.best_score_ = np.float64(0.8951708071772801)\n"
     ]
    }
   ],
   "source": [
    "params = {'C': [1e-3], 'solver': ['lbfgs']}\n",
    "model = LogisticRegression(random_state=42)\n",
    "grid_search = search_hyperparameters(data, model, params, verbose=2)\n",
    "print(f'{grid_search.best_params_ = }')\n",
    "print(f'{grid_search.best_score_ = }')"
   ]
  },
  {
   "cell_type": "code",
   "execution_count": 10,
   "id": "a9d8c8aa-3576-4133-b66f-3d25432d2eba",
   "metadata": {},
   "outputs": [
    {
     "name": "stdout",
     "output_type": "stream",
     "text": [
      "Fitting 5 folds for each of 1 candidates, totalling 5 fits\n",
      "[CV] END ...............................C=0.01, solver=lbfgs; total time=  27.6s\n",
      "[CV] END ...............................C=0.01, solver=lbfgs; total time=  28.4s\n",
      "[CV] END ...............................C=0.01, solver=lbfgs; total time=  31.9s\n",
      "[CV] END ...............................C=0.01, solver=lbfgs; total time=  27.3s\n",
      "[CV] END ...............................C=0.01, solver=lbfgs; total time=  28.0s\n",
      "grid_search.best_params_ = {'C': 0.01, 'solver': 'lbfgs'}\n",
      "grid_search.best_score_ = np.float64(0.8974333576369748)\n"
     ]
    }
   ],
   "source": [
    "params = {'C': [1e-2], 'solver': ['lbfgs']}\n",
    "model = LogisticRegression(random_state=42)\n",
    "grid_search = search_hyperparameters(data, model, params, verbose=2)\n",
    "print(f'{grid_search.best_params_ = }')\n",
    "print(f'{grid_search.best_score_ = }')"
   ]
  },
  {
   "cell_type": "code",
   "execution_count": 11,
   "id": "5036d589-97d7-4f32-8bf4-d6f152ede4ce",
   "metadata": {},
   "outputs": [
    {
     "name": "stdout",
     "output_type": "stream",
     "text": [
      "Fitting 5 folds for each of 1 candidates, totalling 5 fits\n",
      "[CV] END ................................C=0.1, solver=lbfgs; total time=  30.7s\n",
      "[CV] END ................................C=0.1, solver=lbfgs; total time=  27.6s\n",
      "[CV] END ................................C=0.1, solver=lbfgs; total time=  29.5s\n",
      "[CV] END ................................C=0.1, solver=lbfgs; total time=  30.3s\n",
      "[CV] END ................................C=0.1, solver=lbfgs; total time=  32.1s\n",
      "grid_search.best_params_ = {'C': 0.1, 'solver': 'lbfgs'}\n",
      "grid_search.best_score_ = np.float64(0.8963021713228887)\n"
     ]
    }
   ],
   "source": [
    "params = {'C': [0.1], 'solver': ['lbfgs']}\n",
    "model = LogisticRegression(random_state=42)\n",
    "grid_search = search_hyperparameters(data, model, params, verbose=2)\n",
    "print(f'{grid_search.best_params_ = }')\n",
    "print(f'{grid_search.best_score_ = }')"
   ]
  },
  {
   "cell_type": "code",
   "execution_count": 12,
   "id": "95c4bb6d-e3a3-4454-acdc-c686acf0aef1",
   "metadata": {},
   "outputs": [
    {
     "name": "stdout",
     "output_type": "stream",
     "text": [
      "Fitting 5 folds for each of 1 candidates, totalling 5 fits\n",
      "[CV] END ..................................C=1, solver=lbfgs; total time=  29.4s\n",
      "[CV] END ..................................C=1, solver=lbfgs; total time=  24.8s\n",
      "[CV] END ..................................C=1, solver=lbfgs; total time=  29.5s\n",
      "[CV] END ..................................C=1, solver=lbfgs; total time=  27.8s\n",
      "[CV] END ..................................C=1, solver=lbfgs; total time=  27.7s\n",
      "grid_search.best_params_ = {'C': 1, 'solver': 'lbfgs'}\n",
      "grid_search.best_score_ = np.float64(0.8968662529119913)\n"
     ]
    }
   ],
   "source": [
    "params = {'C': [1], 'solver': ['lbfgs']}\n",
    "model = LogisticRegression(random_state=42)\n",
    "grid_search = search_hyperparameters(data, model, params, verbose=2)\n",
    "print(f'{grid_search.best_params_ = }')\n",
    "print(f'{grid_search.best_score_ = }')"
   ]
  },
  {
   "cell_type": "code",
   "execution_count": 13,
   "id": "afba9511-1c6c-4780-ac73-160ba5b6bac6",
   "metadata": {},
   "outputs": [
    {
     "name": "stdout",
     "output_type": "stream",
     "text": [
      "Fitting 5 folds for each of 1 candidates, totalling 5 fits\n",
      "[CV] END .................................C=10, solver=lbfgs; total time=  25.4s\n",
      "[CV] END .................................C=10, solver=lbfgs; total time=  28.4s\n",
      "[CV] END .................................C=10, solver=lbfgs; total time=  25.7s\n",
      "[CV] END .................................C=10, solver=lbfgs; total time=  28.5s\n",
      "[CV] END .................................C=10, solver=lbfgs; total time=  29.0s\n",
      "grid_search.best_params_ = {'C': 10, 'solver': 'lbfgs'}\n",
      "grid_search.best_score_ = np.float64(0.899507051019864)\n"
     ]
    }
   ],
   "source": [
    "params = {'C': [10], 'solver': ['lbfgs']}\n",
    "model = LogisticRegression(random_state=42)\n",
    "grid_search = search_hyperparameters(data, model, params, verbose=2)\n",
    "print(f'{grid_search.best_params_ = }')\n",
    "print(f'{grid_search.best_score_ = }')"
   ]
  },
  {
   "cell_type": "markdown",
   "id": "5adec263-5761-4845-a917-6bca3539da5c",
   "metadata": {},
   "source": [
    "### solver:newton-cg"
   ]
  },
  {
   "cell_type": "code",
   "execution_count": 22,
   "id": "e8becad7-8c18-4f58-8293-10e274e91723",
   "metadata": {},
   "outputs": [
    {
     "name": "stdout",
     "output_type": "stream",
     "text": [
      "Fitting 5 folds for each of 1 candidates, totalling 5 fits\n",
      "[CV] END .............................C=10, solver=newton-cg; total time=  28.4s\n",
      "[CV] END .............................C=10, solver=newton-cg; total time=  23.0s\n",
      "[CV] END .............................C=10, solver=newton-cg; total time=  26.1s\n",
      "[CV] END .............................C=10, solver=newton-cg; total time=  19.9s\n",
      "[CV] END .............................C=10, solver=newton-cg; total time=  24.6s\n",
      "grid_search.best_params_ = {'C': 10, 'solver': 'newton-cg'}\n",
      "grid_search.best_score_ = np.float64(0.9128922518805684)\n"
     ]
    }
   ],
   "source": [
    "params = {'C': [10], 'solver': ['newton-cg']}\n",
    "model = LogisticRegression(random_state=42)\n",
    "grid_search = search_hyperparameters(data, model, params, verbose=2)\n",
    "print(f'{grid_search.best_params_ = }')\n",
    "print(f'{grid_search.best_score_ = }')"
   ]
  },
  {
   "cell_type": "code",
   "execution_count": 23,
   "id": "4f2d87f5-a07c-4cc8-ad09-74aebc288b61",
   "metadata": {},
   "outputs": [
    {
     "name": "stdout",
     "output_type": "stream",
     "text": [
      "Fitting 5 folds for each of 1 candidates, totalling 5 fits\n",
      "[CV] END ..............................C=1, solver=newton-cg; total time=  28.4s\n",
      "[CV] END ..............................C=1, solver=newton-cg; total time=  27.0s\n",
      "[CV] END ..............................C=1, solver=newton-cg; total time=  28.8s\n",
      "[CV] END ..............................C=1, solver=newton-cg; total time=  26.0s\n",
      "[CV] END ..............................C=1, solver=newton-cg; total time=  28.2s\n",
      "grid_search.best_params_ = {'C': 1, 'solver': 'newton-cg'}\n",
      "grid_search.best_score_ = np.float64(0.9134586452794622)\n"
     ]
    }
   ],
   "source": [
    "params = {'C': [1], 'solver': ['newton-cg']}\n",
    "model = LogisticRegression(random_state=42)\n",
    "grid_search = search_hyperparameters(data, model, params, verbose=2)\n",
    "print(f'{grid_search.best_params_ = }')\n",
    "print(f'{grid_search.best_score_ = }')"
   ]
  },
  {
   "cell_type": "code",
   "execution_count": 24,
   "id": "b5cdbfb3-5750-418c-a96a-4f5e9be69b05",
   "metadata": {},
   "outputs": [
    {
     "name": "stdout",
     "output_type": "stream",
     "text": [
      "Fitting 5 folds for each of 1 candidates, totalling 5 fits\n",
      "[CV] END ............................C=0.1, solver=newton-cg; total time=  26.5s\n",
      "[CV] END ............................C=0.1, solver=newton-cg; total time=  28.4s\n",
      "[CV] END ............................C=0.1, solver=newton-cg; total time=  28.4s\n",
      "[CV] END ............................C=0.1, solver=newton-cg; total time=  33.8s\n",
      "[CV] END ............................C=0.1, solver=newton-cg; total time=  26.1s\n",
      "grid_search.best_params_ = {'C': 0.1, 'solver': 'newton-cg'}\n",
      "grid_search.best_score_ = np.float64(0.9128922518805684)\n"
     ]
    }
   ],
   "source": [
    "params = {'C': [0.1], 'solver': ['newton-cg']}\n",
    "model = LogisticRegression(random_state=42)\n",
    "grid_search = search_hyperparameters(data, model, params, verbose=2)\n",
    "print(f'{grid_search.best_params_ = }')\n",
    "print(f'{grid_search.best_score_ = }')"
   ]
  },
  {
   "cell_type": "code",
   "execution_count": 25,
   "id": "2819416b-0ec3-414a-93b2-4cb0465b913a",
   "metadata": {},
   "outputs": [
    {
     "name": "stdout",
     "output_type": "stream",
     "text": [
      "Fitting 5 folds for each of 1 candidates, totalling 5 fits\n",
      "[CV] END ...........................C=0.01, solver=newton-cg; total time=  29.9s\n",
      "[CV] END ...........................C=0.01, solver=newton-cg; total time=  29.5s\n",
      "[CV] END ...........................C=0.01, solver=newton-cg; total time=  27.5s\n",
      "[CV] END ...........................C=0.01, solver=newton-cg; total time=  27.1s\n",
      "[CV] END ...........................C=0.01, solver=newton-cg; total time=  28.8s\n",
      "grid_search.best_params_ = {'C': 0.01, 'solver': 'newton-cg'}\n",
      "grid_search.best_score_ = np.float64(0.9140239716892216)\n"
     ]
    }
   ],
   "source": [
    "params = {'C': [1e-2], 'solver': ['newton-cg']}\n",
    "model = LogisticRegression(random_state=42)\n",
    "grid_search = search_hyperparameters(data, model, params, verbose=2)\n",
    "print(f'{grid_search.best_params_ = }')\n",
    "print(f'{grid_search.best_score_ = }')"
   ]
  },
  {
   "cell_type": "code",
   "execution_count": 26,
   "id": "91a440fe-1286-4914-9daa-036ed77b31f5",
   "metadata": {},
   "outputs": [
    {
     "name": "stdout",
     "output_type": "stream",
     "text": [
      "Fitting 5 folds for each of 1 candidates, totalling 5 fits\n",
      "[CV] END ..........................C=0.001, solver=newton-cg; total time=  29.0s\n",
      "[CV] END ..........................C=0.001, solver=newton-cg; total time=  25.3s\n",
      "[CV] END ..........................C=0.001, solver=newton-cg; total time=  26.4s\n",
      "[CV] END ..........................C=0.001, solver=newton-cg; total time=  27.9s\n",
      "[CV] END ..........................C=0.001, solver=newton-cg; total time=  26.8s\n",
      "grid_search.best_params_ = {'C': 0.001, 'solver': 'newton-cg'}\n",
      "grid_search.best_score_ = np.float64(0.9151553358348302)\n"
     ]
    }
   ],
   "source": [
    "params = {'C': [1e-3], 'solver': ['newton-cg']}\n",
    "model = LogisticRegression(random_state=42)\n",
    "grid_search = search_hyperparameters(data, model, params, verbose=2)\n",
    "print(f'{grid_search.best_params_ = }')\n",
    "print(f'{grid_search.best_score_ = }')"
   ]
  },
  {
   "cell_type": "code",
   "execution_count": 27,
   "id": "85b1faf3-d6a9-4e79-bf9e-b82fb3080e05",
   "metadata": {},
   "outputs": [
    {
     "name": "stdout",
     "output_type": "stream",
     "text": [
      "Fitting 5 folds for each of 1 candidates, totalling 5 fits\n",
      "[CV] END .........................C=0.0001, solver=newton-cg; total time=  22.9s\n",
      "[CV] END .........................C=0.0001, solver=newton-cg; total time=  24.1s\n",
      "[CV] END .........................C=0.0001, solver=newton-cg; total time=  23.7s\n",
      "[CV] END .........................C=0.0001, solver=newton-cg; total time=  23.7s\n",
      "[CV] END .........................C=0.0001, solver=newton-cg; total time=  25.0s\n",
      "grid_search.best_params_ = {'C': 0.0001, 'solver': 'newton-cg'}\n",
      "grid_search.best_score_ = np.float64(0.9149668344210694)\n"
     ]
    }
   ],
   "source": [
    "params = {'C': [1e-4], 'solver': ['newton-cg']}\n",
    "model = LogisticRegression(random_state=42)\n",
    "grid_search = search_hyperparameters(data, model, params, verbose=2)\n",
    "print(f'{grid_search.best_params_ = }')\n",
    "print(f'{grid_search.best_score_ = }')"
   ]
  },
  {
   "cell_type": "code",
   "execution_count": 28,
   "id": "5e1ef282-36d8-4cab-bc65-e417a2050062",
   "metadata": {},
   "outputs": [
    {
     "name": "stdout",
     "output_type": "stream",
     "text": [
      "Fitting 5 folds for each of 1 candidates, totalling 5 fits\n",
      "[CV] END ..........................C=1e-05, solver=newton-cg; total time= 1.0min\n",
      "[CV] END ..........................C=1e-05, solver=newton-cg; total time= 1.2min\n",
      "[CV] END ..........................C=1e-05, solver=newton-cg; total time= 1.1min\n",
      "[CV] END ..........................C=1e-05, solver=newton-cg; total time=  57.6s\n",
      "[CV] END ..........................C=1e-05, solver=newton-cg; total time= 1.0min\n",
      "grid_search.best_params_ = {'C': 1e-05, 'solver': 'newton-cg'}\n",
      "grid_search.best_score_ = np.float64(0.9145898315935483)\n"
     ]
    }
   ],
   "source": [
    "params = {'C': [1e-5], 'solver': ['newton-cg']}\n",
    "model = LogisticRegression(random_state=42)\n",
    "grid_search = search_hyperparameters(data, model, params, verbose=2)\n",
    "print(f'{grid_search.best_params_ = }')\n",
    "print(f'{grid_search.best_score_ = }')"
   ]
  },
  {
   "cell_type": "code",
   "execution_count": 29,
   "id": "b82c4ff3-1136-4443-9c8b-de51b8ef4a54",
   "metadata": {},
   "outputs": [
    {
     "name": "stdout",
     "output_type": "stream",
     "text": [
      "Fitting 5 folds for each of 1 candidates, totalling 5 fits\n",
      "[CV] END ..........................C=1e-06, solver=newton-cg; total time= 2.1min\n",
      "[CV] END ..........................C=1e-06, solver=newton-cg; total time= 1.8min\n",
      "[CV] END ..........................C=1e-06, solver=newton-cg; total time= 1.5min\n",
      "[CV] END ..........................C=1e-06, solver=newton-cg; total time= 1.6min\n",
      "[CV] END ..........................C=1e-06, solver=newton-cg; total time= 2.0min\n",
      "grid_search.best_params_ = {'C': 1e-06, 'solver': 'newton-cg'}\n",
      "grid_search.best_score_ = np.float64(0.9111948499991108)\n"
     ]
    }
   ],
   "source": [
    "params = {'C': [1e-6], 'solver': ['newton-cg']}\n",
    "model = LogisticRegression(random_state=42)\n",
    "grid_search = search_hyperparameters(data, model, params, verbose=2)\n",
    "print(f'{grid_search.best_params_ = }')\n",
    "print(f'{grid_search.best_score_ = }')"
   ]
  },
  {
   "cell_type": "code",
   "execution_count": 30,
   "id": "f097203b-79ab-42cc-9f06-199d6bdcfc8b",
   "metadata": {},
   "outputs": [
    {
     "name": "stdout",
     "output_type": "stream",
     "text": [
      "Fitting 5 folds for each of 1 candidates, totalling 5 fits\n",
      "[CV] END ..........................C=1e-07, solver=newton-cg; total time= 2.0min\n",
      "[CV] END ..........................C=1e-07, solver=newton-cg; total time= 1.6min\n",
      "[CV] END ..........................C=1e-07, solver=newton-cg; total time= 1.6min\n",
      "[CV] END ..........................C=1e-07, solver=newton-cg; total time= 1.6min\n",
      "[CV] END ..........................C=1e-07, solver=newton-cg; total time= 1.8min\n",
      "grid_search.best_params_ = {'C': 1e-07, 'solver': 'newton-cg'}\n",
      "grid_search.best_score_ = np.float64(0.879334732274643)\n"
     ]
    }
   ],
   "source": [
    "params = {'C': [1e-7], 'solver': ['newton-cg']}\n",
    "model = LogisticRegression(random_state=42)\n",
    "grid_search = search_hyperparameters(data, model, params, verbose=2)\n",
    "print(f'{grid_search.best_params_ = }')\n",
    "print(f'{grid_search.best_score_ = }')"
   ]
  },
  {
   "cell_type": "code",
   "execution_count": 39,
   "id": "4110075f-21d3-4da6-b790-01e4eb3870e8",
   "metadata": {},
   "outputs": [],
   "source": [
    "C_graf = [1e-7, 1e-6, 1e-5, 1e-4, 1e-3, 0.01, 0.1, 1, 10]\n",
    "acc_graf_liblinear = [0.8793359770953, 0.9091218679423114, 0.9183609268578948, 0.9145901872565932, 0.9132697882026568, 0.9130816424519409, 0.9130818202834634, 0.9121389575516157, 0.9117617768925721]\n",
    "acc_graf_lbfgs = [0.8861218501591592, 0.9034664698664485, 0.9015816335603649, 0.9002607010118613, 0.8951708071772801, 0.8974333576369748, 0.8963021713228887, 0.8968662529119913, 0.899507051019864]\n",
    "acc_graf_newton_cg = [0.879334732274643, 0.9111948499991108, 0.9145898315935483, 0.9149668344210694, 0.9151553358348302, 0.9140239716892216, 0.9128922518805684, 0.9134586452794622, 0.9128922518805684]\n",
    "\n",
    "\n",
    "\n"
   ]
  },
  {
   "cell_type": "code",
   "execution_count": 40,
   "id": "10f7df02-9e14-4d0a-98bb-b8813317f668",
   "metadata": {},
   "outputs": [
    {
     "data": {
      "image/png": "[encoded data removed]",
      "text/plain": [
       "<Figure size 800x500 with 1 Axes>"
      ]
     },
     "metadata": {},
     "output_type": "display_data"
    }
   ],
   "source": [
    "import matplotlib.pyplot as plt\n",
    "\n",
    "\n",
    "C_graf = C_graf[:len(acc_graf_liblinear)]\n",
    "\n",
    "acc_percent_liblinear = [a * 100 for a in acc_graf_liblinear]\n",
    "acc_percent_lbfgs = [a * 100 for a in acc_graf_lbfgs]\n",
    "acc_graf_newton_cg = [a * 100 for a in acc_graf_newton_cg]\n",
    "\n",
    "\n",
    "max_idx = acc_percent_liblinear.index(max(acc_percent_liblinear))\n",
    "max_C = C_graf[max_idx]\n",
    "max_acc = acc_percent_liblinear[max_idx]\n",
    "\n",
    "plt.figure(figsize=(8,5))\n",
    "plt.plot(C_graf, acc_percent_liblinear, marker='o', label='solver:liblinear')\n",
    "plt.plot(C_graf, acc_percent_lbfgs, marker='o', label='solver:lbfgs')\n",
    "plt.plot(C_graf, acc_graf_newton_cg, marker='o', label='solver:newton cg')\n",
    "plt.xscale('log')\n",
    "plt.xlabel('C ')\n",
    "plt.ylabel('5-fold CV Zehaztasuna (%)')\n",
    "#plt.title('Solver : liblinear')\n",
    "#plt.grid(True)\n",
    "\n",
    "plt.scatter([max_C], [max_acc], color='red', s=100,)\n",
    "plt.annotate(f'Max: {max_acc:.2f}%\\nC={max_C}', \n",
    "             xy=(max_C, max_acc), \n",
    "             xytext=(0, -80), \n",
    "             textcoords='offset points',\n",
    "             arrowprops=dict(arrowstyle='->', color='red'),\n",
    "             fontsize=10,\n",
    "             color='red')\n",
    "\n",
    "plt.legend()\n",
    "plt.savefig('accuracy_LR.png')\n",
    "plt.show()\n"
   ]
  }
 ],
 "metadata": {
  "kernelspec": {
   "display_name": "Python 3 (ipykernel)",
   "language": "python",
   "name": "python3"
  },
  "language_info": {
   "codemirror_mode": {
    "name": "ipython",
    "version": 3
   },
   "file_extension": ".py",
   "mimetype": "text/x-python",
   "name": "python",
   "nbconvert_exporter": "python",
   "pygments_lexer": "ipython3",
   "version": "3.12.5"
  }
 },
 "nbformat": 4,
 "nbformat_minor": 5
}
