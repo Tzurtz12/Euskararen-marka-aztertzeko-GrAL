{
 "cells": [
  {
   "cell_type": "markdown",
   "id": "93b00568-a5d4-4b95-a876-a0783be4e84f",
   "metadata": {},
   "source": [
    "# Entrenamendurako datu basea prestatzeko kodea\n",
    "\n",
    "Testuen sailkapena gaika:\n",
    "* Gizartea --> 0\n",
    "* Politika --> 1\n",
    "* Kirola --> 2\n",
    "* Zientzia eta teknologia --> 3\n",
    "* Ekonomia --> 4\n",
    "* Historia --> 5\n",
    "* Geografia --> 6"
   ]
  },
  {
   "cell_type": "code",
   "execution_count": 16,
   "id": "19c20021-41e2-4493-8761-e233fa0c1747",
   "metadata": {},
   "outputs": [],
   "source": [
    "import numpy as np\n",
    "from sklearn.model_selection import GridSearchCV\n",
    "from sklearn.utils._testing import ignore_warnings\n",
    "from sklearn.exceptions import ConvergenceWarning\n",
    "from sklearn.model_selection import train_test_split\n",
    "from sklearn.linear_model import LogisticRegression\n",
    "from sklearn.metrics import accuracy_score"
   ]
  },
  {
   "cell_type": "code",
   "execution_count": 17,
   "id": "18964bd2-321a-4252-aa72-2b3a0bea2cb2",
   "metadata": {},
   "outputs": [],
   "source": [
    "with open('Data def/ekonomia.bin', 'rb') as f:\n",
    "    ekonomia_1 = np.load(f)\n",
    "with open('Data def/ekonomia_2.bin', 'rb') as f:\n",
    "    ekonomia_2 = np.load(f)\n",
    "with open('Data def/geografia.bin', 'rb') as f:\n",
    "    geografia_1 = np.load(f)\n",
    "with open('Data def/geografia_2.bin', 'rb') as f:\n",
    "    geografia_2 = np.load(f)\n",
    "with open('Data def/gizartea.bin', 'rb') as f:\n",
    "    gizartea_1 = np.load(f)\n",
    "with open('Data def/gizartea_2.bin', 'rb') as f:\n",
    "    gizartea_2 = np.load(f)\n",
    "with open('Data def/zientzia_teknologia.bin', 'rb') as f:\n",
    "    zientzia_teknologia_1 = np.load(f)\n",
    "with open('Data def/zientzia_teknologia_2.bin', 'rb') as f:\n",
    "    zientzia_teknologia_2 = np.load(f)\n",
    "with open('Data def/kirola.bin', 'rb') as f:\n",
    "    kirola_1 = np.load(f)\n",
    "with open('Data def/kirola_2.bin', 'rb') as f:\n",
    "    kirola_2 = np.load(f)\n",
    "with open('Data def/politika.bin', 'rb') as f:\n",
    "    politika_1 = np.load(f)\n",
    "with open('Data def/politika_2.bin', 'rb') as f:\n",
    "    politika_2 = np.load(f)\n",
    "with open('Data def/historia.bin', 'rb') as f:\n",
    "    historia_1 = np.load(f)\n",
    "with open('Data def/historia_2.bin', 'rb') as f:\n",
    "    historia_2 = np.load(f)"
   ]
  },
  {
   "cell_type": "code",
   "execution_count": 18,
   "id": "56db9821-3327-432d-b18f-0d078fc6b952",
   "metadata": {},
   "outputs": [],
   "source": [
    "ekonomia = np.concatenate((ekonomia_1,ekonomia_2))\n",
    "gizartea = np.concatenate((gizartea_1,gizartea_2))\n",
    "historia = np.concatenate((historia_1,historia_2))\n",
    "politika = np.concatenate((politika_1,politika_2))\n",
    "kirola = np.concatenate((kirola_1,kirola_2))\n",
    "zientzia_teknologia = np.concatenate((zientzia_teknologia_1,zientzia_teknologia_2))\n",
    "geografia = np.concatenate((geografia_1,geografia_2))"
   ]
  },
  {
   "cell_type": "code",
   "execution_count": 19,
   "id": "be55e508-5ded-429c-8e67-577abc458daa",
   "metadata": {},
   "outputs": [
    {
     "name": "stdout",
     "output_type": "stream",
     "text": [
      "(3020, 4096)\n",
      "(1413, 4096)\n",
      "(1085, 4096)\n",
      "(301, 4096)\n",
      "(477, 4096)\n",
      "(220, 4096)\n",
      "(114, 4096)\n"
     ]
    }
   ],
   "source": [
    "print(gizartea.shape)\n",
    "print(politika.shape)\n",
    "print(kirola.shape)\n",
    "print(zientzia_teknologia.shape)\n",
    "print(ekonomia.shape)\n",
    "print(historia.shape)\n",
    "print(geografia.shape)"
   ]
  },
  {
   "cell_type": "code",
   "execution_count": 20,
   "id": "03806e60-4412-4de5-a7c7-ba87d4b40dc4",
   "metadata": {},
   "outputs": [],
   "source": [
    "gizartea_label = np.zeros(gizartea.shape[0])\n",
    "politika_label = np.ones(politika.shape[0])\n",
    "kirola_label = np.full(kirola.shape[0],2.0,dtype = float)\n",
    "zientzia_teknologia_label = np.full(zientzia_teknologia.shape[0],3.0,dtype = float)\n",
    "ekonomia_label = np.full(ekonomia.shape[0],4.0,dtype = float)\n",
    "historia_label = np.full(historia.shape[0],5.0,dtype = float)\n",
    "geografia_label = np.full(geografia.shape[0],6.0,dtype = float)"
   ]
  },
  {
   "cell_type": "code",
   "execution_count": 21,
   "id": "11b59350-292a-4ebf-bbb8-6e00c1321d47",
   "metadata": {},
   "outputs": [],
   "source": [
    "X = np.concatenate((gizartea,politika,kirola,zientzia_teknologia,ekonomia,historia,geografia))\n",
    "y = np.concatenate((gizartea_label,politika_label,kirola_label,zientzia_teknologia_label,ekonomia_label,historia_label,geografia_label))"
   ]
  },
  {
   "cell_type": "code",
   "execution_count": 22,
   "id": "d3aaff13-6b74-41fa-9f90-1f9166e98e71",
   "metadata": {},
   "outputs": [],
   "source": [
    "with open('Data def/X.bin', 'wb') as f:\n",
    "    np.save(f,X)\n",
    "with open('Data def/y.bin', 'wb') as f:\n",
    "    np.save(f,y)"
   ]
  },
  {
   "cell_type": "code",
   "execution_count": 23,
   "id": "ce484e2a-5403-4a9f-8693-3150aaa8a9e8",
   "metadata": {},
   "outputs": [],
   "source": [
    "X_train, X_test, y_train, y_test = \\\n",
    "    train_test_split(X, y, test_size=0.2, random_state=42)"
   ]
  },
  {
   "cell_type": "code",
   "execution_count": 24,
   "id": "48f373bd-bacf-42bc-80cb-bab2a1bc913c",
   "metadata": {},
   "outputs": [],
   "source": [
    "with open('Data def/X_train.bin', 'wb') as f:\n",
    "    np.save(f,X_train)\n",
    "with open('Data def/X_test.bin', 'wb') as f:\n",
    "    np.save(f,X_test)\n",
    "with open('Data def/y_train.bin', 'wb') as f:\n",
    "    np.save(f,y_train)\n",
    "with open('Data def/y_test.bin', 'wb') as f:\n",
    "    np.save(f,y_test)"
   ]
  }
 ],
 "metadata": {
  "kernelspec": {
   "display_name": "Python 3 (ipykernel)",
   "language": "python",
   "name": "python3"
  },
  "language_info": {
   "codemirror_mode": {
    "name": "ipython",
    "version": 3
   },
   "file_extension": ".py",
   "mimetype": "text/x-python",
   "name": "python",
   "nbconvert_exporter": "python",
   "pygments_lexer": "ipython3",
   "version": "3.12.5"
  }
 },
 "nbformat": 4,
 "nbformat_minor": 5
}
