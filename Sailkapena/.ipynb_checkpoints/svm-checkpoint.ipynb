{
 "cells": [
  {
   "cell_type": "markdown",
   "id": "a557eebc-aff0-4c31-a184-8a247d9c82ec",
   "metadata": {},
   "source": [
    "# Support Vector Machine:\n",
    "For multiclass classification:\n",
    "\n",
    "Reference: https://www.baeldung.com/cs/svm-multiclass-classification\n",
    "\n",
    "Testuen sailkapena gaika:\n",
    "* Gizartea --> 0\n",
    "* Politika --> 1\n",
    "* Kirola --> 2\n",
    "* Zientzia eta teknologia --> 3\n",
    "* Ekonomia --> 4\n",
    "* Historia --> 5\n",
    "* Geografia --> 6"
   ]
  },
  {
   "cell_type": "code",
   "execution_count": 30,
   "id": "578ca5c3-01c6-4b22-bb24-ebd93f912de6",
   "metadata": {},
   "outputs": [
    {
     "name": "stdout",
     "output_type": "stream",
     "text": [
      "The history saving thread hit an unexpected error (OperationalError('attempt to write a readonly database')).History will not be written to the database.\n"
     ]
    }
   ],
   "source": [
    "import numpy as np\n",
    "from sklearn.model_selection import GridSearchCV\n",
    "from sklearn.utils._testing import ignore_warnings\n",
    "from sklearn.exceptions import ConvergenceWarning\n",
    "from sklearn.svm import SVC\n",
    "from sklearn.metrics import accuracy_score\n",
    "from sklearn.multiclass import OneVsRestClassifier\n",
    "from sklearn.datasets import load_iris\n",
    "from sklearn.model_selection import ValidationCurveDisplay\n",
    "from sklearn.utils import shuffle"
   ]
  },
  {
   "cell_type": "markdown",
   "id": "3f23c3b4-6031-4a81-b2d9-fe716563d8fe",
   "metadata": {},
   "source": [
    "## One-to-one approach:\n",
    "Breaks down the multiclass problem into multiple binary classification problems. A binary classifier per each pair of classes. the classifier can use $\\pmb{\\frac{m (m-1)}{2}}$ SVMs:\n",
    "![My Figure](Figures/onetoone.png)\n"
   ]
  },
  {
   "cell_type": "code",
   "execution_count": 31,
   "id": "1677b5a0-883f-4f25-864f-166e2aca31a6",
   "metadata": {},
   "outputs": [],
   "source": [
    "with open('Data def/X_train.bin', 'rb') as f:\n",
    "    X_train = np.load(f)\n",
    "with open('Data def/X_test.bin', 'rb') as f:\n",
    "    X_test = np.load(f)\n",
    "with open('Data def/y_train.bin', 'rb') as f:\n",
    "    y_train = np.load(f)\n",
    "with open('Data def/y_test.bin', 'rb') as f:\n",
    "    y_test = np.load(f)"
   ]
  },
  {
   "cell_type": "code",
   "execution_count": 32,
   "id": "6b217921-d23b-4974-b4ad-7caa6fdd23f9",
   "metadata": {},
   "outputs": [],
   "source": [
    "class Dataset:\n",
    "    def __init__(self, X_train, X_test, y_train, y_test):\n",
    "        self.X_train = X_train\n",
    "        self.X_test = X_test\n",
    "        self.y_train = y_train\n",
    "        self.y_test = y_test\n",
    "data = Dataset(X_train, X_test, y_train, y_test)"
   ]
  },
  {
   "cell_type": "code",
   "execution_count": 5,
   "id": "95dbb627-0957-4d62-aa60-c7a6753c6763",
   "metadata": {},
   "outputs": [
    {
     "name": "stdout",
     "output_type": "stream",
     "text": [
      "Accuracy: 0.7822222222222223\n"
     ]
    }
   ],
   "source": [
    "from sklearn.svm import SVC\n",
    "from sklearn.metrics import accuracy_score\n",
    "\n",
    "model = SVC(random_state=42)\n",
    "model.fit(X_train, y_train)\n",
    "y_pred = model.predict(X_test)\n",
    "print(\"Accuracy:\", accuracy_score(y_test, y_pred))"
   ]
  },
  {
   "cell_type": "code",
   "execution_count": 33,
   "id": "1bd51ba7-1b32-4d78-bb72-6593d9f59f69",
   "metadata": {},
   "outputs": [],
   "source": [
    "def score(data, model):\n",
    "    y_pred = model.predict(data.X_test)\n",
    "    return accuracy_score(data.y_test, y_pred)\n",
    "    \n",
    "@ignore_warnings(category=ConvergenceWarning)\n",
    "def fit_score(data, model):\n",
    "    model.fit(data.X_train, data.y_train)\n",
    "    return score(data, model)"
   ]
  },
  {
   "cell_type": "markdown",
   "id": "3064c5dd-531f-4253-8f87-aa8b3cadb186",
   "metadata": {},
   "source": [
    "Parametro egokienak bilatzeko:"
   ]
  },
  {
   "cell_type": "code",
   "execution_count": 34,
   "id": "1d729fbb-a020-43b5-9084-331e92448c7a",
   "metadata": {},
   "outputs": [],
   "source": [
    "@ignore_warnings(category=ConvergenceWarning)\n",
    "def search_hyperparameters(data, model, param_grid, cv=5, verbose=0):\n",
    "    grid_search = GridSearchCV(estimator=model, param_grid=param_grid,\n",
    "                               cv=cv,scoring='accuracy',verbose=verbose\n",
    "    )\n",
    "    grid_search.fit(data.X_train, data.y_train)\n",
    "    return grid_search"
   ]
  },
  {
   "cell_type": "code",
   "execution_count": 9,
   "id": "70c4b3e9-f0df-4ec2-aad6-4503db43f513",
   "metadata": {},
   "outputs": [
    {
     "name": "stdout",
     "output_type": "stream",
     "text": [
      "Fitting 5 folds for each of 12 candidates, totalling 60 fits\n",
      "[CV] END .............................C=1e-06, kernel=linear; total time=  29.7s\n",
      "[CV] END .............................C=1e-06, kernel=linear; total time=  32.7s\n",
      "[CV] END .............................C=1e-06, kernel=linear; total time=  29.3s\n",
      "[CV] END .............................C=1e-06, kernel=linear; total time=  29.6s\n",
      "[CV] END .............................C=1e-06, kernel=linear; total time=  29.7s\n",
      "[CV] END ...............................C=1e-06, kernel=poly; total time= 1.5min\n",
      "[CV] END ...............................C=1e-06, kernel=poly; total time= 1.3min\n",
      "[CV] END ...............................C=1e-06, kernel=poly; total time= 1.3min\n",
      "[CV] END ...............................C=1e-06, kernel=poly; total time= 1.7min\n",
      "[CV] END ...............................C=1e-06, kernel=poly; total time= 1.4min\n",
      "[CV] END ................................C=1e-06, kernel=rbf; total time= 1.5min\n",
      "[CV] END ................................C=1e-06, kernel=rbf; total time= 1.5min\n",
      "[CV] END ................................C=1e-06, kernel=rbf; total time= 1.5min\n",
      "[CV] END ................................C=1e-06, kernel=rbf; total time= 1.5min\n",
      "[CV] END ................................C=1e-06, kernel=rbf; total time= 1.5min\n",
      "[CV] END .............................C=1e-05, kernel=linear; total time=  29.5s\n",
      "[CV] END .............................C=1e-05, kernel=linear; total time=  28.5s\n",
      "[CV] END .............................C=1e-05, kernel=linear; total time=  29.2s\n",
      "[CV] END .............................C=1e-05, kernel=linear; total time=  29.3s\n",
      "[CV] END .............................C=1e-05, kernel=linear; total time=  29.2s\n",
      "[CV] END ...............................C=1e-05, kernel=poly; total time= 1.5min\n",
      "[CV] END ...............................C=1e-05, kernel=poly; total time= 1.5min\n",
      "[CV] END ...............................C=1e-05, kernel=poly; total time= 1.5min\n",
      "[CV] END ...............................C=1e-05, kernel=poly; total time= 1.5min\n",
      "[CV] END ...............................C=1e-05, kernel=poly; total time= 1.5min\n",
      "[CV] END ................................C=1e-05, kernel=rbf; total time= 1.6min\n",
      "[CV] END ................................C=1e-05, kernel=rbf; total time= 1.5min\n",
      "[CV] END ................................C=1e-05, kernel=rbf; total time= 1.5min\n",
      "[CV] END ................................C=1e-05, kernel=rbf; total time= 1.5min\n",
      "[CV] END ................................C=1e-05, kernel=rbf; total time= 1.5min\n",
      "[CV] END ............................C=0.0001, kernel=linear; total time=  29.5s\n",
      "[CV] END ............................C=0.0001, kernel=linear; total time=  28.5s\n",
      "[CV] END ............................C=0.0001, kernel=linear; total time=  29.2s\n",
      "[CV] END ............................C=0.0001, kernel=linear; total time=  29.3s\n",
      "[CV] END ............................C=0.0001, kernel=linear; total time=  29.2s\n",
      "[CV] END ..............................C=0.0001, kernel=poly; total time= 1.5min\n",
      "[CV] END ..............................C=0.0001, kernel=poly; total time= 1.5min\n",
      "[CV] END ..............................C=0.0001, kernel=poly; total time= 1.5min\n",
      "[CV] END ..............................C=0.0001, kernel=poly; total time= 1.5min\n",
      "[CV] END ..............................C=0.0001, kernel=poly; total time= 1.5min\n",
      "[CV] END ...............................C=0.0001, kernel=rbf; total time= 1.5min\n",
      "[CV] END ...............................C=0.0001, kernel=rbf; total time= 1.5min\n",
      "[CV] END ...............................C=0.0001, kernel=rbf; total time= 1.5min\n",
      "[CV] END ...............................C=0.0001, kernel=rbf; total time= 1.5min\n",
      "[CV] END ...............................C=0.0001, kernel=rbf; total time= 1.5min\n",
      "[CV] END .............................C=0.001, kernel=linear; total time=  29.5s\n",
      "[CV] END .............................C=0.001, kernel=linear; total time=  28.5s\n",
      "[CV] END .............................C=0.001, kernel=linear; total time=  29.2s\n",
      "[CV] END .............................C=0.001, kernel=linear; total time=  29.3s\n",
      "[CV] END .............................C=0.001, kernel=linear; total time=  29.2s\n",
      "[CV] END ...............................C=0.001, kernel=poly; total time= 1.5min\n",
      "[CV] END ...............................C=0.001, kernel=poly; total time= 1.5min\n",
      "[CV] END ...............................C=0.001, kernel=poly; total time= 1.5min\n",
      "[CV] END ...............................C=0.001, kernel=poly; total time= 1.5min\n",
      "[CV] END ...............................C=0.001, kernel=poly; total time= 1.5min\n",
      "[CV] END ................................C=0.001, kernel=rbf; total time= 1.5min\n",
      "[CV] END ................................C=0.001, kernel=rbf; total time= 1.5min\n",
      "[CV] END ................................C=0.001, kernel=rbf; total time= 1.5min\n",
      "[CV] END ................................C=0.001, kernel=rbf; total time= 1.5min\n",
      "[CV] END ................................C=0.001, kernel=rbf; total time= 1.5min\n",
      "grid_search.best_params_ = {'C': 1e-06, 'kernel': 'linear'}\n",
      "grid_search.best_score_ = np.float64(0.9100654420002489)\n"
     ]
    }
   ],
   "source": [
    "params = {'C': [1e-6, 1e-5, 1e-4, 1e-3], 'kernel': ['linear', 'poly', 'rbf']} #linear’, ‘poly’, ‘rbf’, ‘sigmoid’, ‘precomputed’\n",
    "model = SVC(random_state=42)\n",
    "grid_search = search_hyperparameters(data, model, params, verbose=2)\n",
    "print(f'{grid_search.best_params_ = }')\n",
    "print(f'{grid_search.best_score_ = }')"
   ]
  },
  {
   "cell_type": "code",
   "execution_count": 11,
   "id": "8b7c6053-6ae0-41ec-aa10-21fb04ad3b05",
   "metadata": {},
   "outputs": [
    {
     "name": "stdout",
     "output_type": "stream",
     "text": [
      "Fitting 5 folds for each of 3 candidates, totalling 15 fits\n",
      "[CV] END .............................C=1e-08, kernel=linear; total time=  46.9s\n",
      "[CV] END .............................C=1e-08, kernel=linear; total time=  47.7s\n",
      "[CV] END .............................C=1e-08, kernel=linear; total time=  47.2s\n",
      "[CV] END .............................C=1e-08, kernel=linear; total time=  47.8s\n",
      "[CV] END .............................C=1e-08, kernel=linear; total time=  47.4s\n",
      "[CV] END .............................C=1e-07, kernel=linear; total time=  32.2s\n",
      "[CV] END .............................C=1e-07, kernel=linear; total time=  32.5s\n",
      "[CV] END .............................C=1e-07, kernel=linear; total time=  31.9s\n",
      "[CV] END .............................C=1e-07, kernel=linear; total time=  32.7s\n",
      "[CV] END .............................C=1e-07, kernel=linear; total time=  32.3s\n",
      "[CV] END .............................C=1e-06, kernel=linear; total time=  29.2s\n",
      "[CV] END .............................C=1e-06, kernel=linear; total time=  29.0s\n",
      "[CV] END .............................C=1e-06, kernel=linear; total time=  28.8s\n",
      "[CV] END .............................C=1e-06, kernel=linear; total time=  29.2s\n",
      "[CV] END .............................C=1e-06, kernel=linear; total time=  29.4s\n",
      "grid_search.best_params_ = {'C': 1e-06, 'kernel': 'linear'}\n",
      "grid_search.best_score_ = np.float64(0.9100654420002489)\n"
     ]
    }
   ],
   "source": [
    "params = {'C': [1e-8, 1e-7, 1e-6], 'kernel': ['linear']} #linear’, ‘poly’, ‘rbf’, ‘sigmoid’, ‘precomputed’\n",
    "model = SVC(random_state=42)\n",
    "grid_search = search_hyperparameters(data, model, params, verbose=2)\n",
    "print(f'{grid_search.best_params_ = }')\n",
    "print(f'{grid_search.best_score_ = }')"
   ]
  },
  {
   "cell_type": "code",
   "execution_count": 10,
   "id": "f47a4de6-aacb-42ff-97c9-23c3fd08e0ad",
   "metadata": {},
   "outputs": [
    {
     "name": "stdout",
     "output_type": "stream",
     "text": [
      "Accuracy: 91.6%\n"
     ]
    }
   ],
   "source": [
    "model = SVC(random_state=42, kernel = 'linear', C = 1e-6, ) # Best param: {C = 1e-6, kernel = 'linear'}\n",
    "print(f'Accuracy: {fit_score(data, model)*100:.1f}%')"
   ]
  },
  {
   "cell_type": "code",
   "execution_count": 12,
   "id": "d5b551cd-eb03-4748-90e4-a39f8d35c760",
   "metadata": {},
   "outputs": [
    {
     "name": "stdout",
     "output_type": "stream",
     "text": [
      "Accuracy: 81.3%\n"
     ]
    }
   ],
   "source": [
    "model = SVC(random_state=42)\n",
    "print(f'Accuracy: {fit_score(data, model)*100:.1f}%')"
   ]
  },
  {
   "cell_type": "markdown",
   "id": "a3702e8f-54ee-41bc-a0b9-ef04954feccf",
   "metadata": {},
   "source": [
    "Barridoaren bitartez %10 hobetu da etekina:\n",
    "\n",
    "{C = 1e-6, kernel = 'linear'}"
   ]
  },
  {
   "cell_type": "markdown",
   "id": "dc5089e2-8629-4759-b88b-0270e0eafb4b",
   "metadata": {},
   "source": [
    "### Adierazpen grafikoa:"
   ]
  },
  {
   "cell_type": "code",
   "execution_count": 35,
   "id": "7ba34701-008e-409d-bfbb-5baf66c3a38d",
   "metadata": {},
   "outputs": [
    {
     "name": "stdout",
     "output_type": "stream",
     "text": [
      "Fitting 5 folds for each of 1 candidates, totalling 5 fits\n",
      "[CV] END .............................C=1e-08, kernel=linear; total time=  48.8s\n",
      "[CV] END .............................C=1e-08, kernel=linear; total time=  54.4s\n",
      "[CV] END .............................C=1e-08, kernel=linear; total time=  54.7s\n",
      "[CV] END .............................C=1e-08, kernel=linear; total time=  52.6s\n",
      "[CV] END .............................C=1e-08, kernel=linear; total time=  49.2s\n",
      "grid_search.best_params_ = {'C': 1e-08, 'kernel': 'linear'}\n",
      "grid_search.best_score_ = np.float64(0.8237175679760995)\n"
     ]
    }
   ],
   "source": [
    "params = {'C': [1e-8], 'kernel': ['linear']} #linear’, ‘poly’, ‘rbf’, ‘sigmoid’, ‘precomputed’\n",
    "model = SVC(random_state=42)\n",
    "grid_search = search_hyperparameters(data, model, params, verbose=2)\n",
    "print(f'{grid_search.best_params_ = }')\n",
    "print(f'{grid_search.best_score_ = }')"
   ]
  },
  {
   "cell_type": "code",
   "execution_count": 36,
   "id": "4aaeba89-43e0-4873-bb3d-8e3dd72e036c",
   "metadata": {},
   "outputs": [
    {
     "name": "stdout",
     "output_type": "stream",
     "text": [
      "Fitting 5 folds for each of 1 candidates, totalling 5 fits\n",
      "[CV] END .............................C=1e-07, kernel=linear; total time=  33.7s\n",
      "[CV] END .............................C=1e-07, kernel=linear; total time=  33.9s\n",
      "[CV] END .............................C=1e-07, kernel=linear; total time=  33.3s\n",
      "[CV] END .............................C=1e-07, kernel=linear; total time=  37.0s\n",
      "[CV] END .............................C=1e-07, kernel=linear; total time=  33.4s\n",
      "grid_search.best_params_ = {'C': 1e-07, 'kernel': 'linear'}\n",
      "grid_search.best_score_ = np.float64(0.8900812690057439)\n"
     ]
    }
   ],
   "source": [
    "params = {'C': [1e-7], 'kernel': ['linear']} #linear’, ‘poly’, ‘rbf’, ‘sigmoid’, ‘precomputed’\n",
    "model = SVC(random_state=42)\n",
    "grid_search = search_hyperparameters(data, model, params, verbose=2)\n",
    "print(f'{grid_search.best_params_ = }')\n",
    "print(f'{grid_search.best_score_ = }')"
   ]
  },
  {
   "cell_type": "code",
   "execution_count": 37,
   "id": "65b2237c-bad6-45c9-8686-aae82c361c52",
   "metadata": {},
   "outputs": [
    {
     "name": "stdout",
     "output_type": "stream",
     "text": [
      "Fitting 5 folds for each of 1 candidates, totalling 5 fits\n",
      "[CV] END .............................C=1e-06, kernel=linear; total time=  30.8s\n",
      "[CV] END .............................C=1e-06, kernel=linear; total time=  29.8s\n",
      "[CV] END .............................C=1e-06, kernel=linear; total time=  29.4s\n",
      "[CV] END .............................C=1e-06, kernel=linear; total time=  37.0s\n",
      "[CV] END .............................C=1e-06, kernel=linear; total time=  29.8s\n",
      "grid_search.best_params_ = {'C': 1e-06, 'kernel': 'linear'}\n",
      "grid_search.best_score_ = np.float64(0.9100654420002489)\n"
     ]
    }
   ],
   "source": [
    "params = {'C': [1e-6], 'kernel': ['linear']} #linear’, ‘poly’, ‘rbf’, ‘sigmoid’, ‘precomputed’\n",
    "model = SVC(random_state=42)\n",
    "grid_search = search_hyperparameters(data, model, params, verbose=2)\n",
    "print(f'{grid_search.best_params_ = }')\n",
    "print(f'{grid_search.best_score_ = }')"
   ]
  },
  {
   "cell_type": "code",
   "execution_count": 38,
   "id": "24bfbf8a-28f7-46f9-9717-8bf11610ee73",
   "metadata": {},
   "outputs": [
    {
     "name": "stdout",
     "output_type": "stream",
     "text": [
      "Fitting 5 folds for each of 1 candidates, totalling 5 fits\n",
      "[CV] END .............................C=1e-05, kernel=linear; total time=  30.7s\n",
      "[CV] END .............................C=1e-05, kernel=linear; total time=  29.8s\n",
      "[CV] END .............................C=1e-05, kernel=linear; total time=  30.4s\n",
      "[CV] END .............................C=1e-05, kernel=linear; total time=  30.3s\n",
      "[CV] END .............................C=1e-05, kernel=linear; total time=  30.3s\n",
      "grid_search.best_params_ = {'C': 1e-05, 'kernel': 'linear'}\n",
      "grid_search.best_score_ = np.float64(0.9076133231376593)\n"
     ]
    }
   ],
   "source": [
    "params = {'C': [1e-5], 'kernel': ['linear']} #linear’, ‘poly’, ‘rbf’, ‘sigmoid’, ‘precomputed’\n",
    "model = SVC(random_state=42)\n",
    "grid_search = search_hyperparameters(data, model, params, verbose=2)\n",
    "print(f'{grid_search.best_params_ = }')\n",
    "print(f'{grid_search.best_score_ = }')"
   ]
  },
  {
   "cell_type": "code",
   "execution_count": 39,
   "id": "c6fb7913-7ca1-404a-951a-09a0160f1b7b",
   "metadata": {},
   "outputs": [
    {
     "name": "stdout",
     "output_type": "stream",
     "text": [
      "Fitting 5 folds for each of 1 candidates, totalling 5 fits\n",
      "[CV] END ............................C=0.0001, kernel=linear; total time=  30.9s\n",
      "[CV] END ............................C=0.0001, kernel=linear; total time=  29.7s\n",
      "[CV] END ............................C=0.0001, kernel=linear; total time=  30.3s\n",
      "[CV] END ............................C=0.0001, kernel=linear; total time=  30.4s\n",
      "[CV] END ............................C=0.0001, kernel=linear; total time=  30.4s\n",
      "grid_search.best_params_ = {'C': 0.0001, 'kernel': 'linear'}\n",
      "grid_search.best_score_ = np.float64(0.9076133231376593)\n"
     ]
    }
   ],
   "source": [
    "params = {'C': [1e-4], 'kernel': ['linear']} #linear’, ‘poly’, ‘rbf’, ‘sigmoid’, ‘precomputed’\n",
    "model = SVC(random_state=42)\n",
    "grid_search = search_hyperparameters(data, model, params, verbose=2)\n",
    "print(f'{grid_search.best_params_ = }')\n",
    "print(f'{grid_search.best_score_ = }')"
   ]
  },
  {
   "cell_type": "code",
   "execution_count": 40,
   "id": "584dfb8a-074f-4080-b005-014e1cda4a9d",
   "metadata": {},
   "outputs": [
    {
     "name": "stdout",
     "output_type": "stream",
     "text": [
      "Fitting 5 folds for each of 1 candidates, totalling 5 fits\n",
      "[CV] END .............................C=0.001, kernel=linear; total time=  29.8s\n",
      "[CV] END .............................C=0.001, kernel=linear; total time=  31.4s\n",
      "[CV] END .............................C=0.001, kernel=linear; total time=  32.5s\n",
      "[CV] END .............................C=0.001, kernel=linear; total time=  30.0s\n",
      "[CV] END .............................C=0.001, kernel=linear; total time=  29.8s\n",
      "grid_search.best_params_ = {'C': 0.001, 'kernel': 'linear'}\n",
      "grid_search.best_score_ = np.float64(0.9076133231376593)\n"
     ]
    }
   ],
   "source": [
    "params = {'C': [1e-3], 'kernel': ['linear']} #linear’, ‘poly’, ‘rbf’, ‘sigmoid’, ‘precomputed’\n",
    "model = SVC(random_state=42)\n",
    "grid_search = search_hyperparameters(data, model, params, verbose=2)\n",
    "print(f'{grid_search.best_params_ = }')\n",
    "print(f'{grid_search.best_score_ = }')"
   ]
  },
  {
   "cell_type": "code",
   "execution_count": 41,
   "id": "a7d3d940-9dd1-410e-b5c3-ebaa8d53a10d",
   "metadata": {},
   "outputs": [
    {
     "name": "stdout",
     "output_type": "stream",
     "text": [
      "Fitting 5 folds for each of 1 candidates, totalling 5 fits\n",
      "[CV] END ..............................C=0.01, kernel=linear; total time=  30.9s\n",
      "[CV] END ..............................C=0.01, kernel=linear; total time=  29.8s\n",
      "[CV] END ..............................C=0.01, kernel=linear; total time=  30.5s\n",
      "[CV] END ..............................C=0.01, kernel=linear; total time=  30.7s\n",
      "[CV] END ..............................C=0.01, kernel=linear; total time=  30.6s\n",
      "grid_search.best_params_ = {'C': 0.01, 'kernel': 'linear'}\n",
      "grid_search.best_score_ = np.float64(0.9076133231376593)\n"
     ]
    }
   ],
   "source": [
    "params = {'C': [1e-2], 'kernel': ['linear']} #linear’, ‘poly’, ‘rbf’, ‘sigmoid’, ‘precomputed’\n",
    "model = SVC(random_state=42)\n",
    "grid_search = search_hyperparameters(data, model, params, verbose=2)\n",
    "print(f'{grid_search.best_params_ = }')\n",
    "print(f'{grid_search.best_score_ = }')"
   ]
  },
  {
   "cell_type": "code",
   "execution_count": 42,
   "id": "8361903d-23a5-4d24-97c9-05eccf64b1ba",
   "metadata": {},
   "outputs": [
    {
     "name": "stdout",
     "output_type": "stream",
     "text": [
      "Fitting 5 folds for each of 1 candidates, totalling 5 fits\n",
      "[CV] END ...............................C=0.1, kernel=linear; total time=  31.1s\n",
      "[CV] END ...............................C=0.1, kernel=linear; total time=  29.9s\n",
      "[CV] END ...............................C=0.1, kernel=linear; total time=  30.5s\n",
      "[CV] END ...............................C=0.1, kernel=linear; total time=  30.6s\n",
      "[CV] END ...............................C=0.1, kernel=linear; total time=  30.5s\n",
      "grid_search.best_params_ = {'C': 0.1, 'kernel': 'linear'}\n",
      "grid_search.best_score_ = np.float64(0.9076133231376593)\n"
     ]
    }
   ],
   "source": [
    "params = {'C': [0.1], 'kernel': ['linear']} #linear’, ‘poly’, ‘rbf’, ‘sigmoid’, ‘precomputed’\n",
    "model = SVC(random_state=42)\n",
    "grid_search = search_hyperparameters(data, model, params, verbose=2)\n",
    "print(f'{grid_search.best_params_ = }')\n",
    "print(f'{grid_search.best_score_ = }')"
   ]
  },
  {
   "cell_type": "code",
   "execution_count": 43,
   "id": "7158e3dc-638c-46b7-b2e1-4375c3f01837",
   "metadata": {},
   "outputs": [
    {
     "name": "stdout",
     "output_type": "stream",
     "text": [
      "Fitting 5 folds for each of 1 candidates, totalling 5 fits\n",
      "[CV] END .................................C=1, kernel=linear; total time=  31.0s\n",
      "[CV] END .................................C=1, kernel=linear; total time=  30.4s\n",
      "[CV] END .................................C=1, kernel=linear; total time=  31.1s\n",
      "[CV] END .................................C=1, kernel=linear; total time=  31.6s\n",
      "[CV] END .................................C=1, kernel=linear; total time=  31.2s\n",
      "grid_search.best_params_ = {'C': 1, 'kernel': 'linear'}\n",
      "grid_search.best_score_ = np.float64(0.9076133231376593)\n"
     ]
    }
   ],
   "source": [
    "params = {'C': [1], 'kernel': ['linear']} #linear’, ‘poly’, ‘rbf’, ‘sigmoid’, ‘precomputed’\n",
    "model = SVC(random_state=42)\n",
    "grid_search = search_hyperparameters(data, model, params, verbose=2)\n",
    "print(f'{grid_search.best_params_ = }')\n",
    "print(f'{grid_search.best_score_ = }')"
   ]
  },
  {
   "cell_type": "code",
   "execution_count": 48,
   "id": "8e5d74e3-a2ac-48cb-81b6-a5bcdaa0f550",
   "metadata": {},
   "outputs": [],
   "source": [
    "C_graf = [1e-8, 1e-7, 1e-6, 1e-5, 1e-4, 1e-3, 1e-2, 0.1, 1]\n",
    "acc_graf = [0.8237175679760995, 0.8900812690057439, 0.9100654420002489, 0.9076133231376593, 0.9076133231376593, 0.9076133231376593, 0.9076133231376593, 0.9076133231376593, 0.9076133231376593]"
   ]
  },
  {
   "cell_type": "code",
   "execution_count": 49,
   "id": "517a7441-fe30-4033-be9c-5ddf9a76b51e",
   "metadata": {},
   "outputs": [
    {
     "data": {
      "image/png": "[encoded data removed]",
      "text/plain": [
       "<Figure size 800x500 with 1 Axes>"
      ]
     },
     "metadata": {},
     "output_type": "display_data"
    }
   ],
   "source": [
    "import matplotlib.pyplot as plt\n",
    "\n",
    "C_graf = C_graf[:len(acc_graf)]\n",
    "\n",
    "\n",
    "acc_percent = [a * 100 for a in acc_graf]\n",
    "\n",
    "\n",
    "max_idx = acc_percent.index(max(acc_percent))\n",
    "max_C = C_graf[max_idx]\n",
    "max_acc = acc_percent[max_idx]\n",
    "\n",
    "plt.figure(figsize=(8,5))\n",
    "plt.plot(C_graf, acc_percent, marker='o', label='Zehaztasuna')\n",
    "plt.xscale('log')\n",
    "plt.xlabel('C ')\n",
    "plt.ylabel('Zehaztasuna (%)')\n",
    "plt.title('kernel : linear')\n",
    "plt.grid(True)\n",
    "\n",
    "\n",
    "plt.scatter([max_C], [max_acc], color='red', s=100,)\n",
    "plt.annotate(f'Max: {max_acc:.2f}%\\nC={max_C}', \n",
    "             xy=(max_C, max_acc), \n",
    "             xytext=(0, -80), \n",
    "             textcoords='offset points',\n",
    "             arrowprops=dict(arrowstyle='->', color='red'),\n",
    "             fontsize=10,\n",
    "             color='red')\n",
    "\n",
    "plt.legend()\n",
    "plt.savefig('accuracy_svm_oto.png')\n",
    "plt.show()\n"
   ]
  },
  {
   "cell_type": "markdown",
   "id": "7a6e58bb-9f0e-48e7-acc2-009f490d575a",
   "metadata": {},
   "source": [
    "## One-to-rest approach:\n",
    "The breakdown is set to a binary classifier per each class. The classifier can use $\\pmb{m}$ SVMs. Each SVM would predict membership in one of the $\\pmb{m}$ classes:\n",
    "![My Figure](Figures/onetorest.png)\n"
   ]
  },
  {
   "cell_type": "code",
   "execution_count": 17,
   "id": "aa5d1d5e-af84-417f-b2a3-d109dc6816ac",
   "metadata": {},
   "outputs": [
    {
     "name": "stdout",
     "output_type": "stream",
     "text": [
      "Fitting 5 folds for each of 15 candidates, totalling 75 fits\n",
      "[CV] END .......estimator__C=1e-07, estimator__kernel=linear; total time= 1.4min\n",
      "[CV] END .......estimator__C=1e-07, estimator__kernel=linear; total time= 1.4min\n",
      "[CV] END .......estimator__C=1e-07, estimator__kernel=linear; total time= 1.4min\n",
      "[CV] END .......estimator__C=1e-07, estimator__kernel=linear; total time= 1.5min\n",
      "[CV] END .......estimator__C=1e-07, estimator__kernel=linear; total time= 1.5min\n",
      "[CV] END .........estimator__C=1e-07, estimator__kernel=poly; total time= 2.7min\n",
      "[CV] END .........estimator__C=1e-07, estimator__kernel=poly; total time= 2.9min\n",
      "[CV] END .........estimator__C=1e-07, estimator__kernel=poly; total time= 3.0min\n",
      "[CV] END .........estimator__C=1e-07, estimator__kernel=poly; total time= 2.8min\n",
      "[CV] END .........estimator__C=1e-07, estimator__kernel=poly; total time= 3.1min\n",
      "[CV] END ..........estimator__C=1e-07, estimator__kernel=rbf; total time= 3.1min\n",
      "[CV] END ..........estimator__C=1e-07, estimator__kernel=rbf; total time= 3.4min\n",
      "[CV] END ..........estimator__C=1e-07, estimator__kernel=rbf; total time= 3.2min\n",
      "[CV] END ..........estimator__C=1e-07, estimator__kernel=rbf; total time= 3.2min\n",
      "[CV] END ..........estimator__C=1e-07, estimator__kernel=rbf; total time= 3.1min\n",
      "[CV] END .......estimator__C=1e-06, estimator__kernel=linear; total time= 1.3min\n",
      "[CV] END .......estimator__C=1e-06, estimator__kernel=linear; total time= 1.3min\n",
      "[CV] END .......estimator__C=1e-06, estimator__kernel=linear; total time= 1.3min\n",
      "[CV] END .......estimator__C=1e-06, estimator__kernel=linear; total time= 1.3min\n",
      "[CV] END .......estimator__C=1e-06, estimator__kernel=linear; total time= 1.3min\n",
      "[CV] END .........estimator__C=1e-06, estimator__kernel=poly; total time= 2.8min\n",
      "[CV] END .........estimator__C=1e-06, estimator__kernel=poly; total time= 2.9min\n",
      "[CV] END .........estimator__C=1e-06, estimator__kernel=poly; total time= 2.9min\n",
      "[CV] END .........estimator__C=1e-06, estimator__kernel=poly; total time= 2.9min\n",
      "[CV] END .........estimator__C=1e-06, estimator__kernel=poly; total time= 2.8min\n",
      "[CV] END ..........estimator__C=1e-06, estimator__kernel=rbf; total time= 3.1min\n",
      "[CV] END ..........estimator__C=1e-06, estimator__kernel=rbf; total time= 3.1min\n",
      "[CV] END ..........estimator__C=1e-06, estimator__kernel=rbf; total time= 3.1min\n",
      "[CV] END ..........estimator__C=1e-06, estimator__kernel=rbf; total time= 3.1min\n",
      "[CV] END ..........estimator__C=1e-06, estimator__kernel=rbf; total time= 3.1min\n",
      "[CV] END .......estimator__C=1e-05, estimator__kernel=linear; total time= 1.3min\n",
      "[CV] END .......estimator__C=1e-05, estimator__kernel=linear; total time= 1.3min\n",
      "[CV] END .......estimator__C=1e-05, estimator__kernel=linear; total time= 1.3min\n",
      "[CV] END .......estimator__C=1e-05, estimator__kernel=linear; total time= 1.3min\n",
      "[CV] END .......estimator__C=1e-05, estimator__kernel=linear; total time= 1.3min\n",
      "[CV] END .........estimator__C=1e-05, estimator__kernel=poly; total time= 3.0min\n",
      "[CV] END .........estimator__C=1e-05, estimator__kernel=poly; total time= 3.1min\n",
      "[CV] END .........estimator__C=1e-05, estimator__kernel=poly; total time= 3.0min\n",
      "[CV] END .........estimator__C=1e-05, estimator__kernel=poly; total time= 3.0min\n",
      "[CV] END .........estimator__C=1e-05, estimator__kernel=poly; total time= 3.0min\n",
      "[CV] END ..........estimator__C=1e-05, estimator__kernel=rbf; total time= 3.1min\n",
      "[CV] END ..........estimator__C=1e-05, estimator__kernel=rbf; total time= 3.1min\n",
      "[CV] END ..........estimator__C=1e-05, estimator__kernel=rbf; total time= 3.2min\n",
      "[CV] END ..........estimator__C=1e-05, estimator__kernel=rbf; total time= 3.1min\n",
      "[CV] END ..........estimator__C=1e-05, estimator__kernel=rbf; total time= 3.1min\n",
      "[CV] END ......estimator__C=0.0001, estimator__kernel=linear; total time= 1.3min\n",
      "[CV] END ......estimator__C=0.0001, estimator__kernel=linear; total time= 1.3min\n",
      "[CV] END ......estimator__C=0.0001, estimator__kernel=linear; total time= 1.3min\n",
      "[CV] END ......estimator__C=0.0001, estimator__kernel=linear; total time= 1.3min\n",
      "[CV] END ......estimator__C=0.0001, estimator__kernel=linear; total time= 1.3min\n",
      "[CV] END ........estimator__C=0.0001, estimator__kernel=poly; total time= 3.1min\n",
      "[CV] END ........estimator__C=0.0001, estimator__kernel=poly; total time= 3.1min\n",
      "[CV] END ........estimator__C=0.0001, estimator__kernel=poly; total time= 3.0min\n",
      "[CV] END ........estimator__C=0.0001, estimator__kernel=poly; total time= 3.1min\n",
      "[CV] END ........estimator__C=0.0001, estimator__kernel=poly; total time= 3.0min\n",
      "[CV] END .........estimator__C=0.0001, estimator__kernel=rbf; total time= 3.1min\n",
      "[CV] END .........estimator__C=0.0001, estimator__kernel=rbf; total time= 3.1min\n",
      "[CV] END .........estimator__C=0.0001, estimator__kernel=rbf; total time= 3.1min\n",
      "[CV] END .........estimator__C=0.0001, estimator__kernel=rbf; total time= 3.7min\n",
      "[CV] END .........estimator__C=0.0001, estimator__kernel=rbf; total time= 3.2min\n",
      "[CV] END .......estimator__C=0.001, estimator__kernel=linear; total time= 1.5min\n",
      "[CV] END .......estimator__C=0.001, estimator__kernel=linear; total time= 1.5min\n",
      "[CV] END .......estimator__C=0.001, estimator__kernel=linear; total time= 1.5min\n",
      "[CV] END .......estimator__C=0.001, estimator__kernel=linear; total time= 1.3min\n",
      "[CV] END .......estimator__C=0.001, estimator__kernel=linear; total time= 1.3min\n",
      "[CV] END .........estimator__C=0.001, estimator__kernel=poly; total time= 3.0min\n",
      "[CV] END .........estimator__C=0.001, estimator__kernel=poly; total time= 3.0min\n",
      "[CV] END .........estimator__C=0.001, estimator__kernel=poly; total time= 3.0min\n",
      "[CV] END .........estimator__C=0.001, estimator__kernel=poly; total time= 3.0min\n",
      "[CV] END .........estimator__C=0.001, estimator__kernel=poly; total time= 3.0min\n",
      "[CV] END ..........estimator__C=0.001, estimator__kernel=rbf; total time= 3.1min\n",
      "[CV] END ..........estimator__C=0.001, estimator__kernel=rbf; total time= 3.3min\n",
      "[CV] END ..........estimator__C=0.001, estimator__kernel=rbf; total time= 3.1min\n",
      "[CV] END ..........estimator__C=0.001, estimator__kernel=rbf; total time= 3.1min\n",
      "[CV] END ..........estimator__C=0.001, estimator__kernel=rbf; total time= 3.1min\n",
      "grid_search.best_params_ = {'estimator__C': 1e-06, 'estimator__kernel': 'linear'}\n",
      "grid_search.best_score_ = np.float64(0.9113838849074387)\n"
     ]
    }
   ],
   "source": [
    "params = {'estimator__C': [1e-7, 1e-6, 1e-5, 1e-4, 1e-3], 'estimator__kernel': ['linear', 'poly', 'rbf']}\n",
    "model = OneVsRestClassifier(SVC(random_state=42))\n",
    "grid_search = search_hyperparameters(data, model, params,  verbose=2)\n",
    "\n",
    "\n",
    "print(f'{grid_search.best_params_ = }')\n",
    "print(f'{grid_search.best_score_ = }')"
   ]
  },
  {
   "cell_type": "code",
   "execution_count": 18,
   "id": "57c6f8fd-8606-42fd-b83e-5e41276f745f",
   "metadata": {},
   "outputs": [
    {
     "name": "stdout",
     "output_type": "stream",
     "text": [
      "Accuracy: 92.2%\n"
     ]
    }
   ],
   "source": [
    "model = OneVsRestClassifier(SVC(random_state=42, kernel='linear', C=1e-6)) # best {'estimator__C': 1e-6, 'estimator__kernel': 'linear'}\n",
    "print(f'Accuracy: {fit_score(data, model)*100:.1f}%')"
   ]
  },
  {
   "cell_type": "code",
   "execution_count": 19,
   "id": "fd845c3f-8fa1-4642-9073-7e44bdc28cf7",
   "metadata": {},
   "outputs": [
    {
     "name": "stdout",
     "output_type": "stream",
     "text": [
      "Accuracy: 82.9%\n"
     ]
    }
   ],
   "source": [
    "model = OneVsRestClassifier(SVC(random_state=42))\n",
    "print(f'Accuracy: {fit_score(data, model)*100:.1f}%')"
   ]
  },
  {
   "cell_type": "markdown",
   "id": "6d289bc1-4fb6-49a5-84b9-fec8b75c4b94",
   "metadata": {},
   "source": [
    "Barridoaren bitartez %9.3 hobetu da etekina:\n",
    "\n",
    "{'C': 1e-6, 'kernel': 'linear'}"
   ]
  },
  {
   "cell_type": "markdown",
   "id": "218a6a74-7722-46a7-a036-48637da5d67a",
   "metadata": {},
   "source": [
    "### Adierazpen grafikoa:"
   ]
  },
  {
   "cell_type": "code",
   "execution_count": 52,
   "id": "8073a92d-9c47-4b15-895e-f8e6bd4861e5",
   "metadata": {},
   "outputs": [
    {
     "name": "stdout",
     "output_type": "stream",
     "text": [
      "Fitting 5 folds for each of 1 candidates, totalling 5 fits\n",
      "[CV] END .......estimator__C=1e-08, estimator__kernel=linear; total time= 2.2min\n",
      "[CV] END .......estimator__C=1e-08, estimator__kernel=linear; total time= 2.0min\n",
      "[CV] END .......estimator__C=1e-08, estimator__kernel=linear; total time= 2.0min\n",
      "[CV] END .......estimator__C=1e-08, estimator__kernel=linear; total time= 1.9min\n",
      "[CV] END .......estimator__C=1e-08, estimator__kernel=linear; total time= 2.0min\n",
      "grid_search.best_params_ = {'estimator__C': 1e-08, 'estimator__kernel': 'linear'}\n",
      "grid_search.best_score_ = np.float64(0.8404981060942862)\n"
     ]
    }
   ],
   "source": [
    "params = {'estimator__C': [1e-8], 'estimator__kernel': ['linear']}\n",
    "model = OneVsRestClassifier(SVC(random_state=42))\n",
    "grid_search = search_hyperparameters(data, model, params,  verbose=2)\n",
    "\n",
    "\n",
    "print(f'{grid_search.best_params_ = }')\n",
    "print(f'{grid_search.best_score_ = }')"
   ]
  },
  {
   "cell_type": "code",
   "execution_count": 53,
   "id": "53007ba3-6957-43e8-9482-bd169181e61c",
   "metadata": {},
   "outputs": [
    {
     "name": "stdout",
     "output_type": "stream",
     "text": [
      "Fitting 5 folds for each of 1 candidates, totalling 5 fits\n",
      "[CV] END .......estimator__C=1e-07, estimator__kernel=linear; total time= 1.5min\n",
      "[CV] END .......estimator__C=1e-07, estimator__kernel=linear; total time= 1.4min\n",
      "[CV] END .......estimator__C=1e-07, estimator__kernel=linear; total time= 1.4min\n",
      "[CV] END .......estimator__C=1e-07, estimator__kernel=linear; total time= 1.4min\n",
      "[CV] END .......estimator__C=1e-07, estimator__kernel=linear; total time= 1.5min\n",
      "grid_search.best_params_ = {'estimator__C': 1e-07, 'estimator__kernel': 'linear'}\n",
      "grid_search.best_score_ = np.float64(0.8919661053118275)\n"
     ]
    }
   ],
   "source": [
    "params = {'estimator__C': [1e-7], 'estimator__kernel': ['linear']}\n",
    "model = OneVsRestClassifier(SVC(random_state=42))\n",
    "grid_search = search_hyperparameters(data, model, params,  verbose=2)\n",
    "\n",
    "\n",
    "print(f'{grid_search.best_params_ = }')\n",
    "print(f'{grid_search.best_score_ = }')"
   ]
  },
  {
   "cell_type": "code",
   "execution_count": 54,
   "id": "655e3f41-4d69-49da-a112-67010614bb15",
   "metadata": {},
   "outputs": [
    {
     "name": "stdout",
     "output_type": "stream",
     "text": [
      "Fitting 5 folds for each of 1 candidates, totalling 5 fits\n",
      "[CV] END .......estimator__C=1e-06, estimator__kernel=linear; total time= 1.3min\n",
      "[CV] END .......estimator__C=1e-06, estimator__kernel=linear; total time= 1.3min\n",
      "[CV] END .......estimator__C=1e-06, estimator__kernel=linear; total time= 1.3min\n",
      "[CV] END .......estimator__C=1e-06, estimator__kernel=linear; total time= 1.4min\n",
      "[CV] END .......estimator__C=1e-06, estimator__kernel=linear; total time= 1.6min\n",
      "grid_search.best_params_ = {'estimator__C': 1e-06, 'estimator__kernel': 'linear'}\n",
      "grid_search.best_score_ = np.float64(0.9113838849074387)\n"
     ]
    }
   ],
   "source": [
    "params = {'estimator__C': [1e-6], 'estimator__kernel': ['linear']}\n",
    "model = OneVsRestClassifier(SVC(random_state=42))\n",
    "grid_search = search_hyperparameters(data, model, params,  verbose=2)\n",
    "\n",
    "\n",
    "print(f'{grid_search.best_params_ = }')\n",
    "print(f'{grid_search.best_score_ = }')"
   ]
  },
  {
   "cell_type": "code",
   "execution_count": 55,
   "id": "2bb0f0c4-9b2e-44bc-87f0-5926284b4239",
   "metadata": {},
   "outputs": [
    {
     "name": "stdout",
     "output_type": "stream",
     "text": [
      "Fitting 5 folds for each of 1 candidates, totalling 5 fits\n",
      "[CV] END .......estimator__C=1e-05, estimator__kernel=linear; total time= 1.3min\n",
      "[CV] END .......estimator__C=1e-05, estimator__kernel=linear; total time= 1.3min\n",
      "[CV] END .......estimator__C=1e-05, estimator__kernel=linear; total time= 1.3min\n",
      "[CV] END .......estimator__C=1e-05, estimator__kernel=linear; total time= 1.3min\n",
      "[CV] END .......estimator__C=1e-05, estimator__kernel=linear; total time= 1.3min\n",
      "grid_search.best_params_ = {'estimator__C': 1e-05, 'estimator__kernel': 'linear'}\n",
      "grid_search.best_score_ = np.float64(0.9064819589920509)\n"
     ]
    }
   ],
   "source": [
    "params = {'estimator__C': [1e-5], 'estimator__kernel': ['linear']}\n",
    "model = OneVsRestClassifier(SVC(random_state=42))\n",
    "grid_search = search_hyperparameters(data, model, params,  verbose=2)\n",
    "\n",
    "\n",
    "print(f'{grid_search.best_params_ = }')\n",
    "print(f'{grid_search.best_score_ = }')"
   ]
  },
  {
   "cell_type": "code",
   "execution_count": 56,
   "id": "738f334f-87c0-41ef-8a7b-1205d3d8aeda",
   "metadata": {},
   "outputs": [
    {
     "name": "stdout",
     "output_type": "stream",
     "text": [
      "Fitting 5 folds for each of 1 candidates, totalling 5 fits\n",
      "[CV] END ......estimator__C=0.0001, estimator__kernel=linear; total time= 1.3min\n",
      "[CV] END ......estimator__C=0.0001, estimator__kernel=linear; total time= 1.3min\n",
      "[CV] END ......estimator__C=0.0001, estimator__kernel=linear; total time= 1.3min\n",
      "[CV] END ......estimator__C=0.0001, estimator__kernel=linear; total time= 1.3min\n",
      "[CV] END ......estimator__C=0.0001, estimator__kernel=linear; total time= 1.3min\n",
      "grid_search.best_params_ = {'estimator__C': 0.0001, 'estimator__kernel': 'linear'}\n",
      "grid_search.best_score_ = np.float64(0.9064819589920509)\n"
     ]
    }
   ],
   "source": [
    "params = {'estimator__C': [1e-4], 'estimator__kernel': ['linear']}\n",
    "model = OneVsRestClassifier(SVC(random_state=42))\n",
    "grid_search = search_hyperparameters(data, model, params,  verbose=2)\n",
    "\n",
    "\n",
    "print(f'{grid_search.best_params_ = }')\n",
    "print(f'{grid_search.best_score_ = }')"
   ]
  },
  {
   "cell_type": "code",
   "execution_count": 57,
   "id": "4dc7dc53-01a2-46dc-8a2f-b1b992bb06f6",
   "metadata": {},
   "outputs": [
    {
     "name": "stdout",
     "output_type": "stream",
     "text": [
      "Fitting 5 folds for each of 1 candidates, totalling 5 fits\n",
      "[CV] END .......estimator__C=0.001, estimator__kernel=linear; total time= 1.3min\n",
      "[CV] END .......estimator__C=0.001, estimator__kernel=linear; total time= 1.3min\n",
      "[CV] END .......estimator__C=0.001, estimator__kernel=linear; total time= 1.3min\n",
      "[CV] END .......estimator__C=0.001, estimator__kernel=linear; total time= 1.3min\n",
      "[CV] END .......estimator__C=0.001, estimator__kernel=linear; total time= 1.3min\n",
      "grid_search.best_params_ = {'estimator__C': 0.001, 'estimator__kernel': 'linear'}\n",
      "grid_search.best_score_ = np.float64(0.9064819589920509)\n"
     ]
    }
   ],
   "source": [
    "params = {'estimator__C': [1e-3], 'estimator__kernel': ['linear']}\n",
    "model = OneVsRestClassifier(SVC(random_state=42))\n",
    "grid_search = search_hyperparameters(data, model, params,  verbose=2)\n",
    "\n",
    "\n",
    "print(f'{grid_search.best_params_ = }')\n",
    "print(f'{grid_search.best_score_ = }')"
   ]
  },
  {
   "cell_type": "code",
   "execution_count": 58,
   "id": "f0955f19-caa4-4fb4-b0f3-99a32e747367",
   "metadata": {},
   "outputs": [
    {
     "name": "stdout",
     "output_type": "stream",
     "text": [
      "Fitting 5 folds for each of 1 candidates, totalling 5 fits\n",
      "[CV] END ........estimator__C=0.01, estimator__kernel=linear; total time= 1.3min\n",
      "[CV] END ........estimator__C=0.01, estimator__kernel=linear; total time= 1.3min\n",
      "[CV] END ........estimator__C=0.01, estimator__kernel=linear; total time= 1.3min\n",
      "[CV] END ........estimator__C=0.01, estimator__kernel=linear; total time= 1.3min\n",
      "[CV] END ........estimator__C=0.01, estimator__kernel=linear; total time= 1.3min\n",
      "grid_search.best_params_ = {'estimator__C': 0.01, 'estimator__kernel': 'linear'}\n",
      "grid_search.best_score_ = np.float64(0.9064819589920509)\n"
     ]
    }
   ],
   "source": [
    "params = {'estimator__C': [1e-2], 'estimator__kernel': ['linear']}\n",
    "model = OneVsRestClassifier(SVC(random_state=42))\n",
    "grid_search = search_hyperparameters(data, model, params,  verbose=2)\n",
    "\n",
    "\n",
    "print(f'{grid_search.best_params_ = }')\n",
    "print(f'{grid_search.best_score_ = }')"
   ]
  },
  {
   "cell_type": "code",
   "execution_count": 59,
   "id": "47420260-bb51-4860-8822-f01db1a6b4c9",
   "metadata": {},
   "outputs": [
    {
     "name": "stdout",
     "output_type": "stream",
     "text": [
      "Fitting 5 folds for each of 1 candidates, totalling 5 fits\n",
      "[CV] END .........estimator__C=0.1, estimator__kernel=linear; total time= 1.3min\n",
      "[CV] END .........estimator__C=0.1, estimator__kernel=linear; total time= 1.3min\n",
      "[CV] END .........estimator__C=0.1, estimator__kernel=linear; total time= 1.3min\n",
      "[CV] END .........estimator__C=0.1, estimator__kernel=linear; total time= 1.3min\n",
      "[CV] END .........estimator__C=0.1, estimator__kernel=linear; total time= 1.3min\n",
      "grid_search.best_params_ = {'estimator__C': 0.1, 'estimator__kernel': 'linear'}\n",
      "grid_search.best_score_ = np.float64(0.9064819589920509)\n"
     ]
    }
   ],
   "source": [
    "params = {'estimator__C': [0.1], 'estimator__kernel': ['linear']}\n",
    "model = OneVsRestClassifier(SVC(random_state=42))\n",
    "grid_search = search_hyperparameters(data, model, params,  verbose=2)\n",
    "\n",
    "\n",
    "print(f'{grid_search.best_params_ = }')\n",
    "print(f'{grid_search.best_score_ = }')"
   ]
  },
  {
   "cell_type": "code",
   "execution_count": 60,
   "id": "e2e2716f-55ea-4f55-b1a3-a05f43b01643",
   "metadata": {},
   "outputs": [
    {
     "name": "stdout",
     "output_type": "stream",
     "text": [
      "Fitting 5 folds for each of 1 candidates, totalling 5 fits\n",
      "[CV] END ...........estimator__C=1, estimator__kernel=linear; total time= 1.3min\n",
      "[CV] END ...........estimator__C=1, estimator__kernel=linear; total time= 1.3min\n",
      "[CV] END ...........estimator__C=1, estimator__kernel=linear; total time= 1.3min\n",
      "[CV] END ...........estimator__C=1, estimator__kernel=linear; total time= 1.4min\n",
      "[CV] END ...........estimator__C=1, estimator__kernel=linear; total time= 1.3min\n",
      "grid_search.best_params_ = {'estimator__C': 1, 'estimator__kernel': 'linear'}\n",
      "grid_search.best_score_ = np.float64(0.9064819589920509)\n"
     ]
    }
   ],
   "source": [
    "params = {'estimator__C': [1], 'estimator__kernel': ['linear']}\n",
    "model = OneVsRestClassifier(SVC(random_state=42))\n",
    "grid_search = search_hyperparameters(data, model, params,  verbose=2)\n",
    "\n",
    "\n",
    "print(f'{grid_search.best_params_ = }')\n",
    "print(f'{grid_search.best_score_ = }')"
   ]
  },
  {
   "cell_type": "code",
   "execution_count": 61,
   "id": "dfb0a109-d479-4cd9-be4a-49dd15bc4cdc",
   "metadata": {},
   "outputs": [],
   "source": [
    "\n",
    "\n",
    "C_graf = [1e-8, 1e-7, 1e-6, 1e-5, 1e-4, 1e-3, 1e-2, 0.1, 1]\n",
    "acc_graf = [0.8404981060942862, 0.8919661053118275, 0.9113838849074387, 0.9064819589920509, 0.9064819589920509, 0.9064819589920509, 0.9064819589920509, 0.9064819589920509, 0.9064819589920509]\n",
    "\n"
   ]
  },
  {
   "cell_type": "code",
   "execution_count": 63,
   "id": "4387dafd-f5a7-453f-9e93-5ac5315e4883",
   "metadata": {},
   "outputs": [
    {
     "data": {
      "image/png": "[encoded data removed]",
      "text/plain": [
       "<Figure size 800x500 with 1 Axes>"
      ]
     },
     "metadata": {},
     "output_type": "display_data"
    }
   ],
   "source": [
    "import matplotlib.pyplot as plt\n",
    "\n",
    "C_graf = C_graf[:len(acc_graf)]\n",
    "\n",
    "\n",
    "acc_percent = [a * 100 for a in acc_graf]\n",
    "\n",
    "\n",
    "max_idx = acc_percent.index(max(acc_percent))\n",
    "max_C = C_graf[max_idx]\n",
    "max_acc = acc_percent[max_idx]\n",
    "\n",
    "plt.figure(figsize=(8,5))\n",
    "plt.plot(C_graf, acc_percent, marker='o', label='Zehaztasuna')\n",
    "plt.xscale('log')\n",
    "plt.xlabel('C ')\n",
    "plt.ylabel('Zehaztasuna (%)')\n",
    "plt.title('kernel : linear')\n",
    "plt.grid(True)\n",
    "\n",
    "\n",
    "plt.scatter([max_C], [max_acc], color='red', s=100,)\n",
    "plt.annotate(f'Max: {max_acc:.2f}%\\nC={max_C}', \n",
    "             xy=(max_C, max_acc), \n",
    "             xytext=(0, -80), \n",
    "             textcoords='offset points',\n",
    "             arrowprops=dict(arrowstyle='->', color='red'),\n",
    "             fontsize=10,\n",
    "             color='red')\n",
    "\n",
    "plt.legend()\n",
    "plt.savefig('accuracy_svm_otr.png')\n",
    "plt.show()\n"
   ]
  },
  {
   "cell_type": "markdown",
   "id": "57cbd463-63c7-4eae-b873-f3557eb70ad2",
   "metadata": {},
   "source": [
    "### Modeloak probatzen"
   ]
  },
  {
   "cell_type": "code",
   "execution_count": 20,
   "id": "b9b7eda0-b08d-4479-9dc4-7021bb47d7de",
   "metadata": {},
   "outputs": [],
   "source": [
    "def sailkapena(esaldi, model):\n",
    "    pred = model.predict(esaldi)\n",
    "    match pred[0]:\n",
    "        case 0.0:\n",
    "            return(\"Gizartea\")\n",
    "        case 1.0:\n",
    "            return(\"Politika\")\n",
    "        case 2.0:\n",
    "            return(\"Kirola\")\n",
    "        case 3.0:\n",
    "            return(\"Zientzia eta teknologia\")\n",
    "        case 4.0:\n",
    "            return(\"Ekonomia\")\n",
    "        case 5.0:\n",
    "            return(\"Historia\")\n",
    "        case 6.0:\n",
    "            return(\"Geografia\")"
   ]
  },
  {
   "cell_type": "code",
   "execution_count": 21,
   "id": "bffe3577-5714-48a8-a7ed-49ab3919712b",
   "metadata": {},
   "outputs": [],
   "source": [
    "with open('Data def/hegoafrika.bin', 'rb') as f:\n",
    "    esaldia_g = np.load(f)\n",
    "with open('Data def/altuna.bin', 'rb') as f:\n",
    "    esaldia_k = np.load(f)"
   ]
  },
  {
   "cell_type": "code",
   "execution_count": 23,
   "id": "2547efd3-feec-42cd-9b8d-bd5ca274492e",
   "metadata": {},
   "outputs": [
    {
     "name": "stdout",
     "output_type": "stream",
     "text": [
      "Accuracy: 91.6%\n",
      "Accuracy: 92.2%\n"
     ]
    }
   ],
   "source": [
    "model_oto = SVC(random_state=42, kernel = 'linear', C = 1e-6 )\n",
    "print(f'Accuracy: {fit_score(data, model_oto)*100:.1f}%')\n",
    "model_otr = OneVsRestClassifier(SVC(random_state=42, kernel ='linear', C = 1e-6 )) # best {'estimator__C': 0.01, 'estimator__kernel': 'linear'}\n",
    "print(f'Accuracy: {fit_score(data, model_otr)*100:.1f}%')"
   ]
  },
  {
   "cell_type": "code",
   "execution_count": 24,
   "id": "181de858-1483-4829-880b-f9f5769fd574",
   "metadata": {},
   "outputs": [
    {
     "name": "stdout",
     "output_type": "stream",
     "text": [
      "Geografia\n",
      "Geografia\n",
      "Kirola\n",
      "Kirola\n"
     ]
    }
   ],
   "source": [
    "print(sailkapena(esaldia_g,model_oto))\n",
    "print(sailkapena(esaldia_g,model_otr))\n",
    "print(sailkapena(esaldia_k,model_oto))\n",
    "print(sailkapena(esaldia_k,model_otr))"
   ]
  }
 ],
 "metadata": {
  "kernelspec": {
   "display_name": "Python 3 (ipykernel)",
   "language": "python",
   "name": "python3"
  },
  "language_info": {
   "codemirror_mode": {
    "name": "ipython",
    "version": 3
   },
   "file_extension": ".py",
   "mimetype": "text/x-python",
   "name": "python",
   "nbconvert_exporter": "python",
   "pygments_lexer": "ipython3",
   "version": "3.12.5"
  }
 },
 "nbformat": 4,
 "nbformat_minor": 5
}
