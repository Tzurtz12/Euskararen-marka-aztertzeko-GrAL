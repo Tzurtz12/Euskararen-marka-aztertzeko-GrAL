{
 "cells": [
  {
   "cell_type": "markdown",
   "id": "7f90b58c-a8c7-44ae-836a-251a863c91d6",
   "metadata": {},
   "source": [
    "# Random Forest Classifier:\n",
    "\n",
    "Testuen sailkapena gaika:\n",
    "* Gizartea --> 0\n",
    "* Politika --> 1\n",
    "* Kirola --> 2\n",
    "* Zientzia eta teknologia --> 3\n",
    "* Ekonomia --> 4\n",
    "* Historia --> 5\n",
    "* Geografia --> 6\n",
    "\n",
    "This classifier is based on using several decision trees. Each tree analyse random data and features from the database. Therefore, after a final voting, the classification is done with several models/trees:\n",
    "\n",
    "<img src=\"Figures/Random-forest.png\" alt=\"Random Forest\" width=\"50%\"/>\n"
   ]
  },
  {
   "cell_type": "code",
   "execution_count": 1,
   "id": "3fc4b9cc-1bb5-48ef-bd94-edff4d461ad5",
   "metadata": {},
   "outputs": [],
   "source": [
    "import numpy as np\n",
    "from sklearn.model_selection import GridSearchCV\n",
    "from sklearn.utils._testing import ignore_warnings\n",
    "from sklearn.exceptions import ConvergenceWarning\n",
    "from sklearn.model_selection import train_test_split\n",
    "from sklearn.ensemble import RandomForestClassifier\n",
    "from sklearn.metrics import accuracy_score\n",
    "from sklearn.datasets import make_classification"
   ]
  },
  {
   "cell_type": "code",
   "execution_count": 2,
   "id": "5653ccfd-481c-4f41-b3e4-005c2632e600",
   "metadata": {},
   "outputs": [],
   "source": [
    "with open('Data def/X_train.bin', 'rb') as f:\n",
    "    X_train = np.load(f)\n",
    "with open('Data def/X_test.bin', 'rb') as f:\n",
    "    X_test = np.load(f)\n",
    "with open('Data def/y_train.bin', 'rb') as f:\n",
    "    y_train = np.load(f)\n",
    "with open('Data def/y_test.bin', 'rb') as f:\n",
    "    y_test = np.load(f)\n",
    "class Dataset:\n",
    "    def __init__(self, X_train, X_test, y_train, y_test):\n",
    "        self.X_train = X_train\n",
    "        self.X_test = X_test\n",
    "        self.y_train = y_train\n",
    "        self.y_test = y_test\n",
    "data = Dataset(X_train, X_test, y_train, y_test)"
   ]
  },
  {
   "cell_type": "code",
   "execution_count": 3,
   "id": "f0d8bed8-0c69-4b9e-b5d1-5fbfb99004b5",
   "metadata": {},
   "outputs": [],
   "source": [
    "def score(data, model):\n",
    "    y_pred = model.predict(data.X_test)\n",
    "    return accuracy_score(data.y_test, y_pred)\n",
    "    \n",
    "@ignore_warnings(category=ConvergenceWarning)\n",
    "def fit_score(data, model):\n",
    "    model.fit(data.X_train, data.y_train)\n",
    "    return score(data, model)"
   ]
  },
  {
   "cell_type": "code",
   "execution_count": 4,
   "id": "93e58a86-3aed-4e6f-8475-08880cb345d5",
   "metadata": {},
   "outputs": [],
   "source": [
    "@ignore_warnings(category=ConvergenceWarning)\n",
    "def search_hyperparameters(data, model, param_grid, cv=5, verbose=0):\n",
    "    grid_search = GridSearchCV(estimator=model, param_grid=param_grid,\n",
    "                               cv=cv,scoring='accuracy',verbose=verbose\n",
    "    )\n",
    "    grid_search.fit(data.X_train,data.y_train)\n",
    "    return grid_search"
   ]
  },
  {
   "cell_type": "markdown",
   "id": "5581b83e-048e-413f-8382-5ec0b3487e62",
   "metadata": {},
   "source": [
    "Ref{https://scikit-learn.org/stable/modules/generated/sklearn.ensemble.RandomForestClassifier.html}\n",
    "\n",
    "**criterion** {“gini”, “entropy”, “log_loss”}, default=”gini”\n",
    "\n",
    "The function to measure the quality of a split. Supported criteria are “gini” for the Gini impurity and “log_loss” and “entropy” both for the Shannon information gain, see Mathematical formulation. Note: This parameter is tree-specific.\n",
    "\n",
    "**max_depth**: int, default=None\n",
    "The maximum depth of the tree. If None, then nodes are expanded until all leaves are pure or until all leaves contain less than min_samples_split samples."
   ]
  },
  {
   "cell_type": "code",
   "execution_count": 31,
   "id": "143e2a5f-e317-4020-9bda-8ae181b9721c",
   "metadata": {},
   "outputs": [
    {
     "name": "stdout",
     "output_type": "stream",
     "text": [
      "Fitting 5 folds for each of 9 candidates, totalling 45 fits\n",
      "[CV] END .......................criterion=gini, max_depth=10; total time=  22.5s\n",
      "[CV] END .......................criterion=gini, max_depth=10; total time=  22.4s\n",
      "[CV] END .......................criterion=gini, max_depth=10; total time=  22.4s\n",
      "[CV] END .......................criterion=gini, max_depth=10; total time=  22.5s\n",
      "[CV] END .......................criterion=gini, max_depth=10; total time=  22.3s\n",
      "[CV] END .......................criterion=gini, max_depth=15; total time=  27.5s\n",
      "[CV] END .......................criterion=gini, max_depth=15; total time=  27.5s\n",
      "[CV] END .......................criterion=gini, max_depth=15; total time=  27.5s\n",
      "[CV] END .......................criterion=gini, max_depth=15; total time=  27.3s\n",
      "[CV] END .......................criterion=gini, max_depth=15; total time=  27.2s\n",
      "[CV] END .......................criterion=gini, max_depth=20; total time=  29.7s\n",
      "[CV] END .......................criterion=gini, max_depth=20; total time=  29.6s\n",
      "[CV] END .......................criterion=gini, max_depth=20; total time=  29.8s\n",
      "[CV] END .......................criterion=gini, max_depth=20; total time=  29.5s\n",
      "[CV] END .......................criterion=gini, max_depth=20; total time=  29.1s\n",
      "[CV] END ....................criterion=entropy, max_depth=10; total time=  41.8s\n",
      "[CV] END ....................criterion=entropy, max_depth=10; total time=  42.1s\n",
      "[CV] END ....................criterion=entropy, max_depth=10; total time=  41.9s\n",
      "[CV] END ....................criterion=entropy, max_depth=10; total time=  42.1s\n",
      "[CV] END ....................criterion=entropy, max_depth=10; total time=  41.9s\n",
      "[CV] END ....................criterion=entropy, max_depth=15; total time=  44.3s\n",
      "[CV] END ....................criterion=entropy, max_depth=15; total time=  44.2s\n",
      "[CV] END ....................criterion=entropy, max_depth=15; total time=  44.1s\n",
      "[CV] END ....................criterion=entropy, max_depth=15; total time=  44.0s\n",
      "[CV] END ....................criterion=entropy, max_depth=15; total time=  43.7s\n",
      "[CV] END ....................criterion=entropy, max_depth=20; total time=  43.9s\n",
      "[CV] END ....................criterion=entropy, max_depth=20; total time=  43.9s\n",
      "[CV] END ....................criterion=entropy, max_depth=20; total time=  44.1s\n",
      "[CV] END ....................criterion=entropy, max_depth=20; total time=  43.8s\n",
      "[CV] END ....................criterion=entropy, max_depth=20; total time=  43.7s\n",
      "[CV] END ...................criterion=log_loss, max_depth=10; total time=  42.0s\n",
      "[CV] END ...................criterion=log_loss, max_depth=10; total time=  42.1s\n",
      "[CV] END ...................criterion=log_loss, max_depth=10; total time=  42.0s\n",
      "[CV] END ...................criterion=log_loss, max_depth=10; total time=  41.8s\n",
      "[CV] END ...................criterion=log_loss, max_depth=10; total time=  41.6s\n",
      "[CV] END ...................criterion=log_loss, max_depth=15; total time=  43.8s\n",
      "[CV] END ...................criterion=log_loss, max_depth=15; total time=  44.0s\n",
      "[CV] END ...................criterion=log_loss, max_depth=15; total time=  44.2s\n",
      "[CV] END ...................criterion=log_loss, max_depth=15; total time=  43.9s\n",
      "[CV] END ...................criterion=log_loss, max_depth=15; total time=  43.6s\n",
      "[CV] END ...................criterion=log_loss, max_depth=20; total time=  43.9s\n",
      "[CV] END ...................criterion=log_loss, max_depth=20; total time=  44.1s\n",
      "[CV] END ...................criterion=log_loss, max_depth=20; total time=  44.6s\n",
      "[CV] END ...................criterion=log_loss, max_depth=20; total time=  43.9s\n",
      "[CV] END ...................criterion=log_loss, max_depth=20; total time=  43.8s\n"
     ]
    }
   ],
   "source": [
    "params = {\n",
    "    'criterion' : ['gini', 'entropy', 'log_loss'], \n",
    "    'max_depth' : [10, 15, 20]          \n",
    "}\n",
    "model = RandomForestClassifier(random_state=42)\n",
    "grid_search = search_hyperparameters(data, model, params, verbose=2)"
   ]
  },
  {
   "cell_type": "code",
   "execution_count": 27,
   "id": "9518866c-e9f6-4f3a-b5b0-257d84794ed7",
   "metadata": {},
   "outputs": [
    {
     "name": "stdout",
     "output_type": "stream",
     "text": [
      "Accuracy: 85.4%\n"
     ]
    }
   ],
   "source": [
    "model = RandomForestClassifier(random_state=42, criterion = 'entropy', max_depth = 15) \n",
    "print(f'Accuracy: {fit_score(data, model)*100:.1f}%')"
   ]
  },
  {
   "cell_type": "code",
   "execution_count": 28,
   "id": "b7027e2a-d04a-48a1-b1f9-d8443437544e",
   "metadata": {},
   "outputs": [
    {
     "name": "stdout",
     "output_type": "stream",
     "text": [
      "Accuracy: 86.2%\n"
     ]
    }
   ],
   "source": [
    "model = RandomForestClassifier(random_state=42) \n",
    "print(f'Accuracy: {fit_score(data, model)*100:.1f}%')"
   ]
  },
  {
   "cell_type": "code",
   "execution_count": 29,
   "id": "30989219-ae40-4718-a0e7-178a88669274",
   "metadata": {},
   "outputs": [
    {
     "name": "stdout",
     "output_type": "stream",
     "text": [
      "Fitting 5 folds for each of 1 candidates, totalling 5 fits\n",
      "[CV] END .....................criterion=gini, max_depth=None; total time=  32.3s\n",
      "[CV] END .....................criterion=gini, max_depth=None; total time=  32.5s\n",
      "[CV] END .....................criterion=gini, max_depth=None; total time=  32.4s\n",
      "[CV] END .....................criterion=gini, max_depth=None; total time=  32.3s\n",
      "[CV] END .....................criterion=gini, max_depth=None; total time=  31.4s\n",
      "grid_search.best_params_ = {'criterion': 'gini', 'max_depth': None}\n",
      "grid_search.best_score_ = np.float64(0.8436985400032009)\n"
     ]
    }
   ],
   "source": [
    "params = {\n",
    "    'criterion' : ['gini'], \n",
    "    'max_depth' : [None]          \n",
    "}\n",
    "model = RandomForestClassifier(random_state=42)\n",
    "grid_search = search_hyperparameters(data, model, params, verbose=2)\n",
    "print(f'{grid_search.best_params_ = }')\n",
    "print(f'{grid_search.best_score_ = }')"
   ]
  },
  {
   "cell_type": "code",
   "execution_count": 32,
   "id": "380bc60d-7d92-4a72-988c-0f698c62866c",
   "metadata": {},
   "outputs": [
    {
     "name": "stdout",
     "output_type": "stream",
     "text": [
      "grid_search.best_params_ = {'criterion': 'entropy', 'max_depth': 15}\n",
      "grid_search.best_score_ = np.float64(0.8469041310262657)\n"
     ]
    }
   ],
   "source": [
    "print(f'{grid_search.best_params_ = }')\n",
    "print(f'{grid_search.best_score_ = }')"
   ]
  },
  {
   "cell_type": "markdown",
   "id": "348be16e-1548-4167-bd47-134d7e8d1a52",
   "metadata": {},
   "source": [
    "**Default:**\n",
    "\n",
    "'criterion': 'gini',\n",
    "\n",
    "'max_depth': If None, then nodes are expanded until all leaves are pure or until all leaves contain less than min_samples_split samples.\n"
   ]
  },
  {
   "cell_type": "code",
   "execution_count": 29,
   "id": "0b10a717-22a0-4281-871c-ab9534123823",
   "metadata": {},
   "outputs": [
    {
     "name": "stdout",
     "output_type": "stream",
     "text": [
      "Accuracy: 86.2%\n"
     ]
    }
   ],
   "source": [
    "model = RandomForestClassifier(random_state=42) \n",
    "print(f'Accuracy: {fit_score(data, model)*100:.1f}%')"
   ]
  },
  {
   "cell_type": "markdown",
   "id": "9eb1458c-72db-45b8-b949-f50aeb71edf1",
   "metadata": {},
   "source": [
    "### Ereduaren probakdef sailkapena(esaldi, model):\n"
   ]
  },
  {
   "cell_type": "code",
   "execution_count": 30,
   "id": "3ca72c5e-5946-4473-8b8d-2999575d4bec",
   "metadata": {},
   "outputs": [],
   "source": [
    "def sailkapena(esaldi, model):\n",
    "    pred = model.predict(esaldi)\n",
    "    match pred[0]:\n",
    "        case 0.0:\n",
    "            return(\"Gizartea\")\n",
    "        case 1.0:\n",
    "            return(\"Politika\")\n",
    "        case 2.0:\n",
    "            return(\"Kirola\")\n",
    "        case 3.0:\n",
    "            return(\"Zientzia eta teknologia\")\n",
    "        case 4.0:\n",
    "            return(\"Ekonomia\")\n",
    "        case 5.0:\n",
    "            return(\"Historia\")\n",
    "        case 6.0:\n",
    "            return(\"Geografia\")"
   ]
  },
  {
   "cell_type": "code",
   "execution_count": 31,
   "id": "995bd612-1875-4df0-8526-4bb9fb1b5ad9",
   "metadata": {},
   "outputs": [],
   "source": [
    "with open('Data def/hegoafrika.bin', 'rb') as f:\n",
    "    esaldia_g = np.load(f)\n",
    "#\"Hegoafrikan ardo ona egiten omen da Stellenbosch aldean. Lurmutur hiria, Pretoria, hiri handiak ere topa daitezke\"\n",
    "with open('Data def/altuna.bin', 'rb') as f:\n",
    "    esaldia_k = np.load(f)\n",
    "# \"Pilotan Altuna III. atera da garaile, Iñaki Artola 22-19 garaitu ondoren. Bi gipuzkoarrek urte luzeetan ahaztuko ez dugun erakustaldia eman ziguten.\""
   ]
  },
  {
   "cell_type": "code",
   "execution_count": null,
   "id": "cf322d16-ffa9-4702-95b4-eb85f8f25b92",
   "metadata": {},
   "outputs": [],
   "source": [
    "model = RandomForestClassifier(random_state=42, criterion = 'entropy', max_depth = None) \n",
    "print(f'Accuracy: {fit_score(data, model)*100:.1f}%')"
   ]
  },
  {
   "cell_type": "code",
   "execution_count": 32,
   "id": "03891693-0f2b-49cc-a21b-85e81504f668",
   "metadata": {},
   "outputs": [
    {
     "name": "stdout",
     "output_type": "stream",
     "text": [
      "Gizartea\n",
      "Kirola\n"
     ]
    }
   ],
   "source": [
    "print(sailkapena(esaldia_g,model))\n",
    "print(sailkapena(esaldia_k,model))"
   ]
  },
  {
   "cell_type": "markdown",
   "id": "6f392f2d-971e-43f2-96ec-7c1072440140",
   "metadata": {},
   "source": [
    "### Adierazpen grafikoa"
   ]
  },
  {
   "cell_type": "code",
   "execution_count": 39,
   "id": "c9a40070-0451-42dd-8a5c-f37539a25da6",
   "metadata": {},
   "outputs": [
    {
     "name": "stdout",
     "output_type": "stream",
     "text": [
      "Accuracy: 85.8%\n",
      "Max depth: 20\n",
      "Min depth: 14\n",
      "Mean depth: 15.57\n",
      "Mediana: 15.0\n",
      "Standard deviation: 1.07\n"
     ]
    }
   ],
   "source": [
    "model = RandomForestClassifier(random_state=42, criterion = 'entropy', max_depth = None) \n",
    "print(f'Accuracy: {fit_score(data, model)*100:.1f}%')\n",
    "sakonerak = [zuhaitz.tree_.max_depth for zuhaitz in model.estimators_]\n",
    "\n",
    "\n",
    "print(f\"Max depth: {np.max(sakonerak)}\")\n",
    "print(f\"Min depth: {np.min(sakonerak)}\")\n",
    "print(f\"Mean depth: {np.mean(sakonerak):.2f}\")\n",
    "print(f\"Mediana: {np.median(sakonerak)}\")\n",
    "print(f\"Standard deviation: {np.std(sakonerak):.2f}\")"
   ]
  },
  {
   "cell_type": "code",
   "execution_count": 40,
   "id": "41919302-6cb0-4be1-924d-83b8b6750158",
   "metadata": {},
   "outputs": [
    {
     "name": "stdout",
     "output_type": "stream",
     "text": [
      "Accuracy: 85.8%\n",
      "Max depth: 20\n",
      "Min depth: 14\n",
      "Mean depth: 15.57\n",
      "Mediana: 15.0\n",
      "Standard deviation: 1.07\n"
     ]
    }
   ],
   "source": [
    "model = RandomForestClassifier(random_state=42, criterion = 'entropy', max_depth = 20) \n",
    "print(f'Accuracy: {fit_score(data, model)*100:.1f}%')\n",
    "sakonerak = [zuhaitz.tree_.max_depth for zuhaitz in model.estimators_]\n",
    "\n",
    "\n",
    "print(f\"Max depth: {np.max(sakonerak)}\")\n",
    "print(f\"Min depth: {np.min(sakonerak)}\")\n",
    "print(f\"Mean depth: {np.mean(sakonerak):.2f}\")\n",
    "print(f\"Mediana: {np.median(sakonerak)}\")\n",
    "print(f\"Standard deviation: {np.std(sakonerak):.2f}\")"
   ]
  },
  {
   "cell_type": "code",
   "execution_count": 42,
   "id": "20b072aa-8dfd-4d23-b794-0b57489860a0",
   "metadata": {},
   "outputs": [
    {
     "name": "stdout",
     "output_type": "stream",
     "text": [
      "Fitting 5 folds for each of 1 candidates, totalling 5 fits\n",
      "[CV] END ....................criterion=entropy, max_depth=10; total time=  42.0s\n",
      "[CV] END ....................criterion=entropy, max_depth=10; total time=  42.3s\n",
      "[CV] END ....................criterion=entropy, max_depth=10; total time=  42.3s\n",
      "[CV] END ....................criterion=entropy, max_depth=10; total time=  42.1s\n",
      "[CV] END ....................criterion=entropy, max_depth=10; total time=  42.0s\n",
      "grid_search.best_params_ = {'criterion': 'entropy', 'max_depth': 10}\n",
      "grid_search.best_score_ = np.float64(0.8406807390678072)\n"
     ]
    }
   ],
   "source": [
    "params = {\n",
    "    'criterion' : ['entropy'], \n",
    "    'max_depth' : [10]          \n",
    "}\n",
    "model = RandomForestClassifier(random_state=42)\n",
    "grid_search = search_hyperparameters(data, model, params, verbose=2)\n",
    "print(f'{grid_search.best_params_ = }')\n",
    "print(f'{grid_search.best_score_ = }')"
   ]
  },
  {
   "cell_type": "code",
   "execution_count": 56,
   "id": "e3db3103-d2cb-474c-bbbb-9aa1842ed7f9",
   "metadata": {},
   "outputs": [
    {
     "name": "stdout",
     "output_type": "stream",
     "text": [
      "Fitting 5 folds for each of 1 candidates, totalling 5 fits\n",
      "[CV] END ....................criterion=entropy, max_depth=12; total time=  43.9s\n",
      "[CV] END ....................criterion=entropy, max_depth=12; total time=  44.1s\n",
      "[CV] END ....................criterion=entropy, max_depth=12; total time=  44.2s\n",
      "[CV] END ....................criterion=entropy, max_depth=12; total time=  43.6s\n",
      "[CV] END ....................criterion=entropy, max_depth=12; total time=  43.5s\n",
      "grid_search.best_params_ = {'criterion': 'entropy', 'max_depth': 12}\n",
      "grid_search.best_score_ = np.float64(0.8440746536731101)\n"
     ]
    }
   ],
   "source": [
    "params = {\n",
    "    'criterion' : ['entropy'], \n",
    "    'max_depth' : [12]          \n",
    "}\n",
    "model = RandomForestClassifier(random_state=42)\n",
    "grid_search = search_hyperparameters(data, model, params, verbose=2)\n",
    "print(f'{grid_search.best_params_ = }')\n",
    "print(f'{grid_search.best_score_ = }')"
   ]
  },
  {
   "cell_type": "code",
   "execution_count": 5,
   "id": "0787950c-875c-4152-bdd1-ab0b13007379",
   "metadata": {},
   "outputs": [
    {
     "name": "stdout",
     "output_type": "stream",
     "text": [
      "Fitting 5 folds for each of 1 candidates, totalling 5 fits\n",
      "[CV] END ....................criterion=entropy, max_depth=17; total time=  45.0s\n",
      "[CV] END ....................criterion=entropy, max_depth=17; total time=  45.1s\n",
      "[CV] END ....................criterion=entropy, max_depth=17; total time=  45.2s\n",
      "[CV] END ....................criterion=entropy, max_depth=17; total time=  44.8s\n",
      "[CV] END ....................criterion=entropy, max_depth=17; total time=  44.7s\n",
      "grid_search.best_params_ = {'criterion': 'entropy', 'max_depth': 17}\n",
      "grid_search.best_score_ = np.float64(0.8459607347998507)\n"
     ]
    }
   ],
   "source": [
    "params = {\n",
    "    'criterion' : ['entropy'], \n",
    "    'max_depth' : [17]          \n",
    "}\n",
    "model = RandomForestClassifier(random_state=42)\n",
    "grid_search = search_hyperparameters(data, model, params, verbose=2)\n",
    "print(f'{grid_search.best_params_ = }')\n",
    "print(f'{grid_search.best_score_ = }')"
   ]
  },
  {
   "cell_type": "code",
   "execution_count": 6,
   "id": "ac05bc0a-6cd8-4512-9fc4-4b3d56e11bb9",
   "metadata": {},
   "outputs": [
    {
     "name": "stdout",
     "output_type": "stream",
     "text": [
      "Fitting 5 folds for each of 1 candidates, totalling 5 fits\n",
      "[CV] END ....................criterion=entropy, max_depth=13; total time=  44.7s\n",
      "[CV] END ....................criterion=entropy, max_depth=13; total time=  44.9s\n",
      "[CV] END ....................criterion=entropy, max_depth=13; total time=  44.9s\n",
      "[CV] END ....................criterion=entropy, max_depth=13; total time=  44.9s\n",
      "[CV] END ....................criterion=entropy, max_depth=13; total time=  44.1s\n",
      "grid_search.best_params_ = {'criterion': 'entropy', 'max_depth': 13}\n",
      "grid_search.best_score_ = np.float64(0.8448288371596749)\n"
     ]
    }
   ],
   "source": [
    "params = {\n",
    "    'criterion' : ['entropy'], \n",
    "    'max_depth' : [13]          \n",
    "}\n",
    "model = RandomForestClassifier(random_state=42)\n",
    "grid_search = search_hyperparameters(data, model, params, verbose=2)\n",
    "print(f'{grid_search.best_params_ = }')\n",
    "print(f'{grid_search.best_score_ = }')"
   ]
  },
  {
   "cell_type": "code",
   "execution_count": 7,
   "id": "f8383e8e-f85c-4e85-8d0b-e255abe64052",
   "metadata": {},
   "outputs": [
    {
     "name": "stdout",
     "output_type": "stream",
     "text": [
      "Fitting 5 folds for each of 1 candidates, totalling 5 fits\n",
      "[CV] END ....................criterion=entropy, max_depth=11; total time=  43.2s\n",
      "[CV] END ....................criterion=entropy, max_depth=11; total time=  43.5s\n",
      "[CV] END ....................criterion=entropy, max_depth=11; total time=  43.2s\n",
      "[CV] END ....................criterion=entropy, max_depth=11; total time=  43.0s\n",
      "[CV] END ....................criterion=entropy, max_depth=11; total time=  42.8s\n",
      "grid_search.best_params_ = {'criterion': 'entropy', 'max_depth': 11}\n",
      "grid_search.best_score_ = np.float64(0.8453952305585688)\n"
     ]
    }
   ],
   "source": [
    "params = {\n",
    "    'criterion' : ['entropy'], \n",
    "    'max_depth' : [11]          \n",
    "}\n",
    "model = RandomForestClassifier(random_state=42)\n",
    "grid_search = search_hyperparameters(data, model, params, verbose=2)\n",
    "print(f'{grid_search.best_params_ = }')\n",
    "print(f'{grid_search.best_score_ = }')"
   ]
  },
  {
   "cell_type": "code",
   "execution_count": 8,
   "id": "3ade7fdc-00a7-417f-8c3d-a0c3e74075d5",
   "metadata": {},
   "outputs": [
    {
     "name": "stdout",
     "output_type": "stream",
     "text": [
      "Fitting 5 folds for each of 1 candidates, totalling 5 fits\n",
      "[CV] END ....................criterion=entropy, max_depth=14; total time=  44.4s\n",
      "[CV] END ....................criterion=entropy, max_depth=14; total time=  44.6s\n",
      "[CV] END ....................criterion=entropy, max_depth=14; total time=  44.7s\n",
      "[CV] END ....................criterion=entropy, max_depth=14; total time=  44.2s\n",
      "[CV] END ....................criterion=entropy, max_depth=14; total time=  43.8s\n",
      "grid_search.best_params_ = {'criterion': 'entropy', 'max_depth': 14}\n",
      "grid_search.best_score_ = np.float64(0.8438852631017373)\n"
     ]
    }
   ],
   "source": [
    "params = {\n",
    "    'criterion' : ['entropy'], \n",
    "    'max_depth' : [14]          \n",
    "}\n",
    "model = RandomForestClassifier(random_state=42)\n",
    "grid_search = search_hyperparameters(data, model, params, verbose=2)\n",
    "print(f'{grid_search.best_params_ = }')\n",
    "print(f'{grid_search.best_score_ = }')"
   ]
  },
  {
   "cell_type": "code",
   "execution_count": 9,
   "id": "d4697479-6315-474b-af6d-c6e3265db013",
   "metadata": {},
   "outputs": [
    {
     "name": "stdout",
     "output_type": "stream",
     "text": [
      "Fitting 5 folds for each of 1 candidates, totalling 5 fits\n",
      "[CV] END ....................criterion=entropy, max_depth=16; total time=  44.0s\n",
      "[CV] END ....................criterion=entropy, max_depth=16; total time=  44.7s\n",
      "[CV] END ....................criterion=entropy, max_depth=16; total time=  44.5s\n",
      "[CV] END ....................criterion=entropy, max_depth=16; total time=  44.4s\n",
      "[CV] END ....................criterion=entropy, max_depth=16; total time=  44.0s\n",
      "grid_search.best_params_ = {'criterion': 'entropy', 'max_depth': 16}\n",
      "grid_search.best_score_ = np.float64(0.8433211815126349)\n"
     ]
    }
   ],
   "source": [
    "params = {\n",
    "    'criterion' : ['entropy'], \n",
    "    'max_depth' : [16]          \n",
    "}\n",
    "model = RandomForestClassifier(random_state=42)\n",
    "grid_search = search_hyperparameters(data, model, params, verbose=2)\n",
    "print(f'{grid_search.best_params_ = }')\n",
    "print(f'{grid_search.best_score_ = }')"
   ]
  },
  {
   "cell_type": "code",
   "execution_count": 10,
   "id": "08f2d7ad-ed69-4566-b865-f6ef270668e8",
   "metadata": {},
   "outputs": [
    {
     "name": "stdout",
     "output_type": "stream",
     "text": [
      "Fitting 5 folds for each of 1 candidates, totalling 5 fits\n",
      "[CV] END ....................criterion=entropy, max_depth=18; total time=  44.2s\n",
      "[CV] END ....................criterion=entropy, max_depth=18; total time=  44.3s\n",
      "[CV] END ....................criterion=entropy, max_depth=18; total time=  44.6s\n",
      "[CV] END ....................criterion=entropy, max_depth=18; total time=  44.4s\n",
      "[CV] END ....................criterion=entropy, max_depth=18; total time=  44.2s\n",
      "grid_search.best_params_ = {'criterion': 'entropy', 'max_depth': 18}\n",
      "grid_search.best_score_ = np.float64(0.8463377376273717)\n"
     ]
    }
   ],
   "source": [
    "params = {\n",
    "    'criterion' : ['entropy'], \n",
    "    'max_depth' : [18]          \n",
    "}\n",
    "model = RandomForestClassifier(random_state=42)\n",
    "grid_search = search_hyperparameters(data, model, params, verbose=2)\n",
    "print(f'{grid_search.best_params_ = }')\n",
    "print(f'{grid_search.best_score_ = }')"
   ]
  },
  {
   "cell_type": "code",
   "execution_count": 11,
   "id": "232f9e79-4834-42e3-a378-986f070db506",
   "metadata": {},
   "outputs": [
    {
     "name": "stdout",
     "output_type": "stream",
     "text": [
      "Fitting 5 folds for each of 1 candidates, totalling 5 fits\n",
      "[CV] END ....................criterion=entropy, max_depth=19; total time=  44.4s\n",
      "[CV] END ....................criterion=entropy, max_depth=19; total time=  44.4s\n",
      "[CV] END ....................criterion=entropy, max_depth=19; total time=  44.6s\n",
      "[CV] END ....................criterion=entropy, max_depth=19; total time=  44.0s\n",
      "[CV] END ....................criterion=entropy, max_depth=19; total time=  44.0s\n",
      "grid_search.best_params_ = {'criterion': 'entropy', 'max_depth': 19}\n",
      "grid_search.best_score_ = np.float64(0.8463375597958495)\n"
     ]
    }
   ],
   "source": [
    "params = {\n",
    "    'criterion' : ['entropy'], \n",
    "    'max_depth' : [19]          \n",
    "}\n",
    "model = RandomForestClassifier(random_state=42)\n",
    "grid_search = search_hyperparameters(data, model, params, verbose=2)\n",
    "print(f'{grid_search.best_params_ = }')\n",
    "print(f'{grid_search.best_score_ = }')"
   ]
  },
  {
   "cell_type": "code",
   "execution_count": 43,
   "id": "65e6a97e-b524-4328-b45c-569013c81824",
   "metadata": {},
   "outputs": [
    {
     "name": "stdout",
     "output_type": "stream",
     "text": [
      "Fitting 5 folds for each of 1 candidates, totalling 5 fits\n",
      "[CV] END ....................criterion=entropy, max_depth=15; total time=  44.2s\n",
      "[CV] END ....................criterion=entropy, max_depth=15; total time=  44.3s\n",
      "[CV] END ....................criterion=entropy, max_depth=15; total time=  44.5s\n",
      "[CV] END ....................criterion=entropy, max_depth=15; total time=  44.2s\n",
      "[CV] END ....................criterion=entropy, max_depth=15; total time=  44.3s\n",
      "grid_search.best_params_ = {'criterion': 'entropy', 'max_depth': 15}\n",
      "grid_search.best_score_ = np.float64(0.8469041310262657)\n"
     ]
    }
   ],
   "source": [
    "params = {\n",
    "    'criterion' : ['entropy'], \n",
    "    'max_depth' : [15]          \n",
    "}\n",
    "model = RandomForestClassifier(random_state=42)\n",
    "grid_search = search_hyperparameters(data, model, params, verbose=2)\n",
    "print(f'{grid_search.best_params_ = }')\n",
    "print(f'{grid_search.best_score_ = }')"
   ]
  },
  {
   "cell_type": "code",
   "execution_count": 44,
   "id": "ef43d0d4-933b-4f40-86b2-d59e9f258a26",
   "metadata": {},
   "outputs": [
    {
     "name": "stdout",
     "output_type": "stream",
     "text": [
      "Fitting 5 folds for each of 1 candidates, totalling 5 fits\n",
      "[CV] END ....................criterion=entropy, max_depth=20; total time=  44.2s\n",
      "[CV] END ....................criterion=entropy, max_depth=20; total time=  44.4s\n",
      "[CV] END ....................criterion=entropy, max_depth=20; total time=  44.6s\n",
      "[CV] END ....................criterion=entropy, max_depth=20; total time=  44.3s\n",
      "[CV] END ....................criterion=entropy, max_depth=20; total time=  43.9s\n",
      "grid_search.best_params_ = {'criterion': 'entropy', 'max_depth': 20}\n",
      "grid_search.best_score_ = np.float64(0.8463375597958495)\n"
     ]
    }
   ],
   "source": [
    "params = {\n",
    "    'criterion' : ['entropy'], \n",
    "    'max_depth' : [20]          \n",
    "}\n",
    "model = RandomForestClassifier(random_state=42)\n",
    "grid_search = search_hyperparameters(data, model, params, verbose=2)\n",
    "print(f'{grid_search.best_params_ = }')\n",
    "print(f'{grid_search.best_score_ = }')"
   ]
  },
  {
   "cell_type": "code",
   "execution_count": 45,
   "id": "a0c33a2a-8e30-4245-8543-698a6b923915",
   "metadata": {},
   "outputs": [
    {
     "name": "stdout",
     "output_type": "stream",
     "text": [
      "Fitting 5 folds for each of 1 candidates, totalling 5 fits\n",
      "[CV] END ....................criterion=entropy, max_depth=25; total time=  44.4s\n",
      "[CV] END ....................criterion=entropy, max_depth=25; total time=  44.3s\n",
      "[CV] END ....................criterion=entropy, max_depth=25; total time=  44.5s\n",
      "[CV] END ....................criterion=entropy, max_depth=25; total time=  44.4s\n",
      "[CV] END ....................criterion=entropy, max_depth=25; total time=  44.7s\n",
      "grid_search.best_params_ = {'criterion': 'entropy', 'max_depth': 25}\n",
      "grid_search.best_score_ = np.float64(0.8463375597958495)\n"
     ]
    }
   ],
   "source": [
    "params = {\n",
    "    'criterion' : ['entropy'], \n",
    "    'max_depth' : [25]          \n",
    "}\n",
    "model = RandomForestClassifier(random_state=42)\n",
    "grid_search = search_hyperparameters(data, model, params, verbose=2)\n",
    "print(f'{grid_search.best_params_ = }')\n",
    "print(f'{grid_search.best_score_ = }')"
   ]
  },
  {
   "cell_type": "code",
   "execution_count": 46,
   "id": "9425d9d0-1c9c-43af-bff7-96f9a2785c5c",
   "metadata": {},
   "outputs": [
    {
     "name": "stdout",
     "output_type": "stream",
     "text": [
      "Fitting 5 folds for each of 1 candidates, totalling 5 fits\n",
      "[CV] END ....................criterion=entropy, max_depth=30; total time=  44.4s\n",
      "[CV] END ....................criterion=entropy, max_depth=30; total time=  44.4s\n",
      "[CV] END ....................criterion=entropy, max_depth=30; total time=  44.6s\n",
      "[CV] END ....................criterion=entropy, max_depth=30; total time=  44.4s\n",
      "[CV] END ....................criterion=entropy, max_depth=30; total time=  44.1s\n",
      "grid_search.best_params_ = {'criterion': 'entropy', 'max_depth': 30}\n",
      "grid_search.best_score_ = np.float64(0.8463375597958495)\n"
     ]
    }
   ],
   "source": [
    "params = {\n",
    "    'criterion' : ['entropy'], \n",
    "    'max_depth' : [30]          \n",
    "}\n",
    "model = RandomForestClassifier(random_state=42)\n",
    "grid_search = search_hyperparameters(data, model, params, verbose=2)\n",
    "print(f'{grid_search.best_params_ = }')\n",
    "print(f'{grid_search.best_score_ = }')"
   ]
  },
  {
   "cell_type": "code",
   "execution_count": 12,
   "id": "5bb8d0e4-4b09-4bfc-8695-984c87528f5e",
   "metadata": {},
   "outputs": [],
   "source": [
    "depth_graf = [10, 11, 12, 13, 14, 15, 16, 17, 18, 19, 20, 25, 30]\n",
    "acc_graf = [0.8406807390678072, 0.8453952305585688, 0.8440746536731101, 0.8448288371596749, 0.8438852631017373, 0.8469041310262657, 0.8433211815126349, 0.8459607347998507, 0.8463377376273717, 0.8463375597958495, 0.8463375597958495, 0.8463375597958495, 0.8463375597958495]"
   ]
  },
  {
   "cell_type": "code",
   "execution_count": 25,
   "id": "705f26b2-5b88-47db-8ff5-c4ade105ea23",
   "metadata": {},
   "outputs": [
    {
     "data": {
      "image/png": "[encoded data removed]",
      "text/plain": [
       "<Figure size 800x500 with 1 Axes>"
      ]
     },
     "metadata": {},
     "output_type": "display_data"
    }
   ],
   "source": [
    "import matplotlib.pyplot as plt\n",
    "\n",
    "depth_graf = depth_graf[:len(acc_graf)]\n",
    "\n",
    "\n",
    "acc_percent = [a * 100 for a in acc_graf]\n",
    "\n",
    "\n",
    "max_idx = acc_percent.index(max(acc_percent))\n",
    "max_depth = depth_graf[max_idx]\n",
    "max_acc = acc_percent[max_idx]\n",
    "\n",
    "plt.figure(figsize=(8,5))\n",
    "plt.plot(depth_graf, acc_percent, marker='o', label='Zehaztasuna')\n",
    "plt.xlabel('Max depth')\n",
    "plt.ylabel('Zehaztasuna (%)')\n",
    "plt.title('criterion : entropy')\n",
    "plt.grid(True)\n",
    "\n",
    "\n",
    "plt.scatter([max_depth], [max_acc], color='red', s=100,)\n",
    "plt.annotate(f'Max: {max_acc:.2f}%\\nMax depth={max_depth}', \n",
    "             xy=(max_depth, max_acc), \n",
    "             xytext=(-100, -20), \n",
    "             textcoords='offset points',\n",
    "             arrowprops=dict(arrowstyle='->', color='red'),\n",
    "             fontsize=10,\n",
    "             color='red')\n",
    "\n",
    "plt.legend()\n",
    "plt.savefig('accuracy_rf.png')\n",
    "plt.show()\n"
   ]
  }
 ],
 "metadata": {
  "kernelspec": {
   "display_name": "Python 3 (ipykernel)",
   "language": "python",
   "name": "python3"
  },
  "language_info": {
   "codemirror_mode": {
    "name": "ipython",
    "version": 3
   },
   "file_extension": ".py",
   "mimetype": "text/x-python",
   "name": "python",
   "nbconvert_exporter": "python",
   "pygments_lexer": "ipython3",
   "version": "3.12.5"
  }
 },
 "nbformat": 4,
 "nbformat_minor": 5
}
