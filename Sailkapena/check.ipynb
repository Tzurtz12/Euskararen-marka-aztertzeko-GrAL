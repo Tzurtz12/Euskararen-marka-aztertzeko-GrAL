{
 "cells": [
  {
   "cell_type": "code",
   "execution_count": 1,
   "id": "93b055a7-5e67-4af7-bab2-38798ba2c493",
   "metadata": {},
   "outputs": [],
   "source": [
    "import numpy as np"
   ]
  },
  {
   "cell_type": "code",
   "execution_count": 4,
   "id": "2bea77d8-3262-470d-94a4-a24080b0026e",
   "metadata": {},
   "outputs": [],
   "source": [
    "with open('ekonomia.bin', 'rb') as f:\n",
    "    ekonomia = np.load(f)\n",
    "with open('geografia.bin', 'rb') as f:\n",
    "    geografia = np.load(f)\n",
    "with open('gizartea.bin', 'rb') as f:\n",
    "    gizartea = np.load(f)\n",
    "with open('zientzia_teknologia.bin', 'rb') as f:\n",
    "    zientzia_teknologia = np.load(f)\n",
    "with open('kirola.bin', 'rb') as f:\n",
    "    kirola = np.load(f)\n",
    "with open('politika.bin', 'rb') as f:\n",
    "    politika = np.load(f)\n",
    "with open('historia.bin', 'rb') as f:\n",
    "    historia = np.load(f)"
   ]
  },
  {
   "cell_type": "code",
   "execution_count": 6,
   "id": "d9358c11-ccd1-4ece-9db2-02188598585e",
   "metadata": {},
   "outputs": [
    {
     "name": "stdout",
     "output_type": "stream",
     "text": [
      "(239, 4096)\n",
      "(48, 4096)\n",
      "(151, 4096)\n",
      "(591, 4096)\n",
      "(731, 4096)\n",
      "(118, 4096)\n",
      "(1494, 4096)\n"
     ]
    }
   ],
   "source": [
    "print(ekonomia.shape)\n",
    "print(geografia.shape)\n",
    "print(zientzia_teknologia.shape)\n",
    "print(kirola.shape)\n",
    "print(politika.shape)\n",
    "print(historia.shape)\n",
    "print(gizartea.shape)"
   ]
  }
 ],
 "metadata": {
  "kernelspec": {
   "display_name": "Python 3 (ipykernel)",
   "language": "python",
   "name": "python3"
  },
  "language_info": {
   "codemirror_mode": {
    "name": "ipython",
    "version": 3
   },
   "file_extension": ".py",
   "mimetype": "text/x-python",
   "name": "python",
   "nbconvert_exporter": "python",
   "pygments_lexer": "ipython3",
   "version": "3.12.5"
  }
 },
 "nbformat": 4,
 "nbformat_minor": 5
}
