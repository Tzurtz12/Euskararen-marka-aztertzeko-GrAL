{
 "cells": [
  {
   "cell_type": "code",
   "execution_count": 96,
   "id": "d9557b29-c27e-45eb-a934-59764a09d8f9",
   "metadata": {},
   "outputs": [],
   "source": [
    "import numpy as np\n",
    "import matplotlib.pyplot as plt\n",
    "import os\n",
    "import re\n",
    "from collections import Counter\n",
    "import json\n",
    "from itertools import islice"
   ]
  },
  {
   "cell_type": "code",
   "execution_count": 97,
   "id": "d668a658-20a8-4440-b673-fb93fab56c11",
   "metadata": {},
   "outputs": [],
   "source": [
    "with open(\"Hiztegiak/hiztegi_ez_eus_log.json\",\"r\") as file:\n",
    "    hiztegi_ez_eus = json.load(file)\n",
    "with open(\"Hiztegiak/hiztegi_log_eus.json\",\"r\") as file:\n",
    "    hiztegi_eus = json.load(file)"
   ]
  },
  {
   "cell_type": "code",
   "execution_count": 67,
   "id": "5aae0b78-5e58-4522-8477-29c5cd547e81",
   "metadata": {},
   "outputs": [
    {
     "name": "stdout",
     "output_type": "stream",
     "text": [
      "4095125\n",
      "3558797\n",
      "-8.785736979579099\n",
      "-8.726195979217117\n"
     ]
    }
   ],
   "source": [
    "print(len(hiztegi_ez_eus))\n",
    "print(len(hiztegi_eus))\n",
    "print(list(hiztegi_ez_eus.values())[-1])\n",
    "print(list(hiztegi_eus.values())[-1])"
   ]
  },
  {
   "cell_type": "code",
   "execution_count": 98,
   "id": "4cbfcab2-b92f-4aeb-9b87-33ccf756b4fa",
   "metadata": {},
   "outputs": [],
   "source": [
    "def testu_garbia(text):\n",
    "    \"\"\" \n",
    "    Testu bat jaso eta, edukia aztertzeko orduan kodifikazioarekin arazorik egon ez dadin,\n",
    "    dena minuskuletan idatzi, puntuazio markak eta zenbakiak ezabatzen ditu. \n",
    "    Argumentuak: Edozein eratan idatzitako testu bat.\n",
    "    Itzultzitakoa: Testu hori bera lista baten antolatua. Listako osagai bakoitza hitz bat izanik\n",
    "    zenbakiak eta puntuazio markak ezabatuz.\n",
    "    \"\"\"\n",
    "    text = text.lower() #Minuskulara pasatu\n",
    "    text = re.sub(r'[\\W_0-9]+', ' ', text) #Puntuazio markak eta zenbakiak ezabatu\n",
    "    return [word for word in text.split() if len(word) > 1]"
   ]
  },
  {
   "cell_type": "markdown",
   "id": "81f85313-5e55-49cb-b0aa-0ed3e0a5cdc9",
   "metadata": {},
   "source": [
    "## Balidazioa"
   ]
  },
  {
   "cell_type": "code",
   "execution_count": 156,
   "id": "dd5ea106-d143-4bca-bebe-e119d1a7566d",
   "metadata": {},
   "outputs": [],
   "source": [
    "def klasifikazio_boolearra(text, hiztegi_eus, hiztegi_ez_eus, oov):\n",
    "    \"\"\" \n",
    "    Testu bat jaso eta euskaraz idatzia dagoen edo ez bueltatzen du, testua bi hiztegietara\n",
    "    zenbat hurbiltzen den kontsideratuz.\n",
    "    \n",
    "    Argumentuak:\n",
    "        - text (str): Testua.\n",
    "        - hiztegi_eus (dict): Euskarazko hitz-maiztasunen hiztegia.\n",
    "        - hiztegi_ez_eus (dict): Ez-euskarazko hitz-maiztasunen hiztegia.\n",
    "    \n",
    "    Itzulera:\n",
    "        - bool: True (euskaraz idatzia), False (ez).\n",
    "    \"\"\"\n",
    "    garbitu = testu_garbia(text)\n",
    "    kop = len(garbitu)  \n",
    "    maizt_eus = 0  \n",
    "    maizt_ez_eus = 0  \n",
    "    for word in garbitu:  \n",
    "        if word in hiztegi_eus:\n",
    "            maizt_eus += hiztegi_eus[word]\n",
    "        else:\n",
    "            maizt_eus += oov\n",
    "    for word in garbitu:  \n",
    "        if word in hiztegi_ez_eus:\n",
    "            maizt_ez_eus += hiztegi_ez_eus[word]\n",
    "        else:\n",
    "            maizt_ez_eus += oov\n",
    "    if kop != 0:\n",
    "        balio = (maizt_eus-maizt_ez_eus)/kop\n",
    "    else:\n",
    "        balio = -9\n",
    "    if balio > 1 :\n",
    "        return True\n",
    "    else:\n",
    "        return False"
   ]
  },
  {
   "cell_type": "code",
   "execution_count": 100,
   "id": "374cd34e-e66b-457c-b42f-ba13b9db0238",
   "metadata": {},
   "outputs": [
    {
     "name": "stdout",
     "output_type": "stream",
     "text": [
      "Euskaraz dago idatzia? Ez\n"
     ]
    }
   ],
   "source": [
    "testua =\"Die Technologie hat unser tägliches Leben stark beeinflusst. Die Erfindung des Internets und der Smartphones hat die Art und Weise, wie wir kommunizieren und Informationen abrufen, verändert.\"\n",
    "badau = klasifikazio_boolearra(testua,hiztegi_eus,hiztegi_ez_eus,-9)\n",
    "print(f\"Euskaraz dago idatzia? {'Bai' if badau else 'Ez'}\")"
   ]
  },
  {
   "cell_type": "code",
   "execution_count": 6,
   "id": "eba07a2e-6cdc-4574-ad0d-c67ad430655d",
   "metadata": {},
   "outputs": [
    {
     "name": "stdout",
     "output_type": "stream",
     "text": [
      "Euskara dago idatzia? Bai\n"
     ]
    }
   ],
   "source": [
    "testua =\"Teknologiak gure eguneroko bizitzan eragin handia izan du. Internetaren eta telefono adimendunen asmakuntzak gure komunikazio eta informazio sarbidea eraldatu du.\"\n",
    "badau = klasifikazio_boolearra(testua,hiztegi_eus,hiztegi_ez_eus,-9)\n",
    "print(f\"Euskara dago idatzia? {'Bai' if badau else 'Ez'}\")"
   ]
  },
  {
   "cell_type": "code",
   "execution_count": 127,
   "id": "66b13aba-044a-416d-b39c-30cd19beb098",
   "metadata": {},
   "outputs": [
    {
     "name": "stdout",
     "output_type": "stream",
     "text": [
      "Euskaraz dago idatzia? Ez\n"
     ]
    }
   ],
   "source": [
    "testua =\"La tecnología ha impactado enormemente nuestras vidas diarias. La invención de internet y los teléfonos inteligentes ha transformado la manera en que nos comunicamos y accedemos a la información.\"\n",
    "badau = klasifikazio_boolearra(testua,hiztegi_eus,hiztegi_ez_eus,-9)\n",
    "print(f\"Euskaraz dago idatzia? {'Bai' if badau else 'Ez'}\")"
   ]
  },
  {
   "cell_type": "code",
   "execution_count": 145,
   "id": "2285a01e-017b-41d7-b218-84da666d2139",
   "metadata": {},
   "outputs": [],
   "source": [
    "with open(\"Data/Validation/validation.json\",\"r\") as file:\n",
    "    val_ez_eus = json.load(file)\n",
    "with open(\"Data/Validation/validation_eus.jsonl\",\"r\") as file:\n",
    "    val_eus = json.load(file)"
   ]
  },
  {
   "cell_type": "code",
   "execution_count": 163,
   "id": "3e9d5697-4738-40ba-8b8f-c21abd5cabb8",
   "metadata": {},
   "outputs": [
    {
     "name": "stdout",
     "output_type": "stream",
     "text": [
      "%0.26125251922072107\n"
     ]
    }
   ],
   "source": [
    "eusk = 0\n",
    "bai = []\n",
    "for text in val_ez_eus:\n",
    "    badau = klasifikazio_boolearra(text,hiztegi_eus,hiztegi_ez_eus,-9)\n",
    "    if badau:\n",
    "        eusk += 1\n",
    "        bai.append(text)\n",
    "print(f'%{100*eusk/len(val_ez_eus)}')"
   ]
  },
  {
   "cell_type": "code",
   "execution_count": 164,
   "id": "23b38681-8a71-4bc9-bf27-53fc047fc775",
   "metadata": {},
   "outputs": [
    {
     "name": "stdout",
     "output_type": "stream",
     "text": [
      "35\n",
      "13397\n"
     ]
    }
   ],
   "source": [
    "print(len(bai))\n",
    "print(len(val_ez_eus))"
   ]
  },
  {
   "cell_type": "code",
   "execution_count": 148,
   "id": "dac28988-d71b-4630-ac89-5ddc9d67baf0",
   "metadata": {},
   "outputs": [
    {
     "name": "stdout",
     "output_type": "stream",
     "text": [
      "%0.29257465698143664\n"
     ]
    }
   ],
   "source": [
    "eusk_ez = 0\n",
    "ez = []\n",
    "for text in val_eus:\n",
    "    badau = klasifikazio_boolearra(text,hiztegi_eus,hiztegi_ez_eus,-9)\n",
    "    if not badau:\n",
    "        eusk_ez += 1\n",
    "        ez.append(text)\n",
    "print(f'%{100*eusk_ez/len(val_eus)}')"
   ]
  },
  {
   "cell_type": "code",
   "execution_count": 165,
   "id": "47c92009-001c-4937-b8bd-7eb03a544986",
   "metadata": {},
   "outputs": [
    {
     "name": "stdout",
     "output_type": "stream",
     "text": [
      "21\n",
      "9912\n"
     ]
    }
   ],
   "source": [
    "print(len(ez))\n",
    "print(len(val_eus))"
   ]
  },
  {
   "cell_type": "code",
   "execution_count": 161,
   "id": "f9101f04-fb35-493f-95c9-09f389d39386",
   "metadata": {},
   "outputs": [
    {
     "name": "stdout",
     "output_type": "stream",
     "text": [
      "Aldi honen isla dira: “Los novios”, “Membrillos y granados”, “Madrid desde Torres Blancas” edo “Gran Vía\".\n",
      "Goldwasser-ek bi aldiz irabazi du konputazio-teoriaren arloan ospetsua den \"Gödel Saria\" (Kurt Gödel): 1993an “The knowledge complexity of interactive proof systems” artikuluarengatik eta 2001ean “\"Interactive Proofs and the Hardness of Aproximating Cliques\"” artikuluarengatik.\n",
      "ALEMANIA .\n",
      "2015ean \"El mal camino\" nobela argitaratu zuen eta 2017an \"El extraño verano de Tom Harvey\".\n",
      "IFRAME : [ 1 ] http://www.youtube.com/embed/8jm1 _ VtLFpM\n",
      "ALEMANIA .\n",
      "Þann tuttugu maí munu Baskar standa fyrir einum fjölmennustu  hátíðarhöldum sem nokkur þjóð hefur staðið fyrir til stuðnings tungumáli sínu. Hundruð þúsunda manna munu taka þátt í þessum hátíðahöldum og taka höndum saman til að mynda órofna keðju sem mun bera táknrænan vott um tjáningarmátt tungumásins. Þátttakendur munu hlaupa tvö þúsund og þrjúhundruð kílómetra og sameina þannig flesta bæi og borgir í Baskalandi. Hlaupið stendur yfir í ellefu daga og tíu nætur, með veisluhöldum sem standa munu yfir í 210 klukkustundir. Baskaland er í Evrópu, mitt á milli suður Frakklands og norður Spánar..\n",
      "3月30日巴斯克公民將舉辦巴斯克語言的倡議。數以十萬計倡議者將無間斷地傳遞接力棒;接力棒已經成為語言的象徵。超過11天10夜，語言節日持續超過210小時，以及遍布大部分巴斯克城鎮，約2300公里的總距離。巴斯克地區位於歐洲法國南部和西班牙北部。.\n",
      "1993an eskuratu zuen doktoregoa unibertsitate berean egindako \"Efectos de las instrucciones en el procesamiento de textos científicos.\"\n",
      "Martxoak 28 : La Familia Valera Miranda ( Kuba ) .\n",
      "Aurretik , El Monte Ciencias du ( 8 ) .\n",
      "30 marca mieszkańcy Kraju Basków ruszają z największą inicjatywą promującą ich język. Wezmą w niej udział setki tysięcy ludzi, którzy bez chwili wytchnienia będą przekazywać sobie z rąk do rąk symbol języka baskijskiego. W czasie wydarzenia trwającego 11 dni, 10 nocy, 210 godzin, większość miast i wsi w Kraju Basków połączy się poprzez 2300 km bieg. Kraj Basków leży na południu Francji i Północy Hiszpanii, w Europie..\n",
      "Stella Royal British Legiongo kidea da.\n",
      "XXI .\n",
      "2009an, Jeff Buckley handiaren \"Last Goodbye\" abestia grabatu zuen \"He's Just Not That Into You\" filmaren soinu bandarentzako.\n",
      "Ny 30 Martsa ho avy izao hanomboka ny hetsika goavam-be Korrika mba hahafahan'ny firenena iray manohana ny fiteniny.Anarivony maro izao ny olona hiara-mientana sy hifandray tanana haneho fa ny fiteny no maha firenena ny firenena. Hankalazaina mandritran'ny 11 andro sy folo alina ny Korrika hamakivaky renivohitra sy tanana misy eto Pays Basque tsy mitrahatra ny hazakazaka ka mahatratra 2300 kilometatra ny halavany. Pays Basque dia firenena iray ao Europa izay mampifandray an'i Frantsa sy Hispania..\n",
      "Pada tanggal 30 Maret, penduduk Basque akan mengadakan inisiatif terbesar dari negara untuk bahasanya. Ratusan ribu penduduk akan berpartisipasi dalam sebuah inisiatif untuk mengoper baton yang telah menjadi simbol bahasa itu sendiri. Dalam kurun waktu 11 hari dan 10 malam festival bahasa ini akan berlangsung selama lebih dari 210 jam dan melewati sebagian besar desa-desa dan kota-kota di Basque Country. Jarak tempuh festival tersebut sekitar 2300 kilometer. Basque Country berada di bagian selatan Prancis dan bagian utara Spanyol, di Eropa..\n",
      "Fotografía : GOBIERNO DE NAFARROA\n",
      "Gidoia : Armyan Bernstein eta Dan Gordon , Rubin Hurricane Carter-en autobiografian oinarriturik .\n",
      "PERU .\n",
      "شهروندان باسکی برای زبان مادری خود دست به فشرده ترین ابتکار خواهندزد. صدهاهزار در این ابتکار شرکت کرده و باتونی را بیوقفه دست به دست خواهندگرداند. باتونی که خود به سنبل زبان تبدیل شده است. درطول 11 روز و 10 شب، فستیوال زبان حدود 210 ساعت طول خواهدکشید و در اکثر شهرها و دهکده های کشورباسک، درمجموع در طول 2300 کیلومتر، جریان خواهدداشت. کشور باسک در اروپا در شمال اسپانیا و در جنوب فرانسه قراردارد..\n"
     ]
    }
   ],
   "source": [
    "for text in ez:\n",
    "    print(text)"
   ]
  },
  {
   "cell_type": "markdown",
   "id": "e4ec0825-7986-46f8-b743-bb290a36144b",
   "metadata": {},
   "source": [
    "# Test"
   ]
  },
  {
   "cell_type": "code",
   "execution_count": 154,
   "id": "ce947bd6-3d32-4d61-9e2a-edd070258d67",
   "metadata": {},
   "outputs": [],
   "source": [
    "with open(\"Data/Test/test.json\",\"r\") as file:\n",
    "    ez_eus_test = json.load(file)\n",
    "with open(\"Data/Test/test_eus.jsonl\",\"r\") as file:\n",
    "    eus_test = json.load(file)"
   ]
  },
  {
   "cell_type": "code",
   "execution_count": 166,
   "id": "20d327a5-5d86-45f9-85a2-d22f749e3e1d",
   "metadata": {},
   "outputs": [
    {
     "name": "stdout",
     "output_type": "stream",
     "text": [
      "%0.21199273167777105\n"
     ]
    }
   ],
   "source": [
    "eusk_ez = 0\n",
    "ez = []\n",
    "for text in eus_test:\n",
    "    badau = klasifikazio_boolearra(text,hiztegi_eus,hiztegi_ez_eus,-9)\n",
    "    if not badau:\n",
    "        eusk_ez += 1\n",
    "        ez.append(text)\n",
    "print(f'%{100*eusk_ez/len(eus_test)}')"
   ]
  },
  {
   "cell_type": "code",
   "execution_count": 167,
   "id": "6a68934d-5139-4fff-b290-9c7c74051f64",
   "metadata": {},
   "outputs": [
    {
     "name": "stdout",
     "output_type": "stream",
     "text": [
      "21\n",
      "9906\n"
     ]
    }
   ],
   "source": [
    "print(len(ez))\n",
    "print(len(eus_test))"
   ]
  },
  {
   "cell_type": "code",
   "execution_count": 158,
   "id": "2c3cc7e5-2d06-4494-9d0f-01b7866f7850",
   "metadata": {},
   "outputs": [
    {
     "name": "stdout",
     "output_type": "stream",
     "text": [
      "%0.22369696517783907\n"
     ]
    }
   ],
   "source": [
    "eusk = 0\n",
    "bai = []\n",
    "for text in ez_eus_test:\n",
    "    badau = klasifikazio_boolearra(text,hiztegi_eus,hiztegi_ez_eus,-9)\n",
    "    if badau:\n",
    "        eusk += 1\n",
    "        bai.append(text)\n",
    "print(f'%{100*eusk/len(ez_eus_test)}')"
   ]
  },
  {
   "cell_type": "code",
   "execution_count": 159,
   "id": "4730c3d8-7680-4465-a891-3af4ea31443a",
   "metadata": {},
   "outputs": [
    {
     "name": "stdout",
     "output_type": "stream",
     "text": [
      "30\n",
      "13411\n"
     ]
    }
   ],
   "source": [
    "print(len(bai))\n",
    "print(len(ez_eus_test))"
   ]
  },
  {
   "cell_type": "code",
   "execution_count": 170,
   "id": "f1148e86-1be1-4c16-8936-3cbe2b586a92",
   "metadata": {},
   "outputs": [
    {
     "name": "stdout",
     "output_type": "stream",
     "text": [
      "Euskaraz dago idatzia? Bai\n",
      "Euskaraz dago idatzia? Bai\n",
      "Euskaraz dago idatzia? Ez\n",
      "Euskaraz dago idatzia? Bai\n",
      "Euskaraz dago idatzia? Ez\n",
      "Euskaraz dago idatzia? Bai\n",
      "Euskaraz dago idatzia? Bai\n",
      "Euskaraz dago idatzia? Bai\n",
      "Euskaraz dago idatzia? Bai\n",
      "Euskaraz dago idatzia? Ez\n"
     ]
    }
   ],
   "source": [
    "testua = \"Halare saiatukonaz zoze bilatzen\"\n",
    "badau = klasifikazio_boolearra(testua,hiztegi_eus,hiztegi_ez_eus,-9)\n",
    "print(f\"Euskaraz dago idatzia? {'Bai' if badau else 'Ez'}\")\n",
    "testua = \"Aunkesea urte bukaerarte\"\n",
    "badau = klasifikazio_boolearra(testua,hiztegi_eus,hiztegi_ez_eus,-9)\n",
    "print(f\"Euskaraz dago idatzia? {'Bai' if badau else 'Ez'}\")\n",
    "testua = \"Ni azaruan niju seuraski ya lanea bilboa\"\n",
    "badau = klasifikazio_boolearra(testua,hiztegi_eus,hiztegi_ez_eus,-9)\n",
    "print(f\"Euskaraz dago idatzia? {'Bai' if badau else 'Ez'}\")\n",
    "testua = \"Igual irail bukaeran barnara niju\"\n",
    "badau = klasifikazio_boolearra(testua,hiztegi_eus,hiztegi_ez_eus,-9)\n",
    "print(f\"Euskaraz dago idatzia? {'Bai' if badau else 'Ez'}\")\n",
    "testua = \"Ta porcierto igandin atsaldeko 7tan TOC donostin gratis\"\n",
    "badau = klasifikazio_boolearra(testua,hiztegi_eus,hiztegi_ez_eus,-9)\n",
    "print(f\"Euskaraz dago idatzia? {'Bai' if badau else 'Ez'}\")\n",
    "testua = \"Lautako busa hartukoit\"\n",
    "badau = klasifikazio_boolearra(testua,hiztegi_eus,hiztegi_ez_eus,-9)\n",
    "print(f\"Euskaraz dago idatzia? {'Bai' if badau else 'Ez'}\")\n",
    "testua = \"Mendiya da pero justo egun hortan zehar erromeriyak taola dozte\"\n",
    "badau = klasifikazio_boolearra(testua,hiztegi_eus,hiztegi_ez_eus,-9)\n",
    "print(f\"Euskaraz dago idatzia? {'Bai' if badau else 'Ez'}\")\n",
    "testua = \"Osa 27yan posiblegu mendi buelta gozo bat in ta 28yan artikutza\"\n",
    "badau = klasifikazio_boolearra(testua,hiztegi_eus,hiztegi_ez_eus,-9)\n",
    "print(f\"Euskaraz dago idatzia? {'Bai' if badau else 'Ez'}\")\n",
    "testua = \"Hombre posiblebaut zuekin jun bai\"\n",
    "badau = klasifikazio_boolearra(testua,hiztegi_eus,hiztegi_ez_eus,-9)\n",
    "print(f\"Euskaraz dago idatzia? {'Bai' if badau else 'Ez'}\")\n",
    "testua = \"Nor da?\"\n",
    "badau = klasifikazio_boolearra(testua,hiztegi_eus,hiztegi_ez_eus,-9)\n",
    "print(f\"Euskaraz dago idatzia? {'Bai' if badau else 'Ez'}\")"
   ]
  },
  {
   "cell_type": "code",
   "execution_count": 169,
   "id": "af8fb2c9-7cb8-4ab6-a5c5-5721b1760e4f",
   "metadata": {},
   "outputs": [
    {
     "name": "stdout",
     "output_type": "stream",
     "text": [
      "Euskaraz dago idatzia? Bai\n",
      "Euskaraz dago idatzia? Bai\n"
     ]
    }
   ],
   "source": [
    "testua = 'Pues ez dakit, es que ez dut uste oso sortzailea naizenik ni, sabes, enplan, gero ere sortzerako orduan como que naizela oso, formula asko errepikatzen ditut etab.'\n",
    "badau = klasifikazio_boolearra(testua,hiztegi_eus,hiztegi_ez_eus,-9)\n",
    "print(f\"Euskaraz dago idatzia? {'Bai' if badau else 'Ez'}\")\n",
    "testua = 'A ver da Como debate bat ya filosofikoago, baina sinmas ez dakit osa que más da'\n",
    "badau = klasifikazio_boolearra(testua,hiztegi_eus,hiztegi_ez_eus,-9)\n",
    "print(f\"Euskaraz dago idatzia? {'Bai' if badau else 'Ez'}\")"
   ]
  },
  {
   "cell_type": "code",
   "execution_count": 171,
   "id": "82362682-174e-441f-8c50-6ac0c41ed9da",
   "metadata": {},
   "outputs": [
    {
     "name": "stdout",
     "output_type": "stream",
     "text": [
      "Euskaraz dago idatzia? Bai\n"
     ]
    }
   ],
   "source": [
    "testua = 'Arront politta den mendi puntan gotti igota auzko aiekaruntz beitu ezkeo karrikara dijun kamiyua ikusiko dek'\n",
    "badau = klasifikazio_boolearra(testua,hiztegi_eus,hiztegi_ez_eus,-9)\n",
    "print(f\"Euskaraz dago idatzia? {'Bai' if badau else 'Ez'}\")"
   ]
  }
 ],
 "metadata": {
  "kernelspec": {
   "display_name": "Python 3 (ipykernel)",
   "language": "python",
   "name": "python3"
  },
  "language_info": {
   "codemirror_mode": {
    "name": "ipython",
    "version": 3
   },
   "file_extension": ".py",
   "mimetype": "text/x-python",
   "name": "python",
   "nbconvert_exporter": "python",
   "pygments_lexer": "ipython3",
   "version": "3.12.5"
  }
 },
 "nbformat": 4,
 "nbformat_minor": 5
}
