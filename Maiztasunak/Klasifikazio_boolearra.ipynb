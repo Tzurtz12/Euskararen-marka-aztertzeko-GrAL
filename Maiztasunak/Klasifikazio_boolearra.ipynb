{
 "cells": [
  {
   "cell_type": "code",
   "execution_count": 1,
   "id": "d9557b29-c27e-45eb-a934-59764a09d8f9",
   "metadata": {},
   "outputs": [],
   "source": [
    "import numpy as np\n",
    "import matplotlib.pyplot as plt\n",
    "import os\n",
    "import re\n",
    "from collections import Counter\n",
    "import json\n",
    "from itertools import islice"
   ]
  },
  {
   "cell_type": "code",
   "execution_count": 2,
   "id": "d668a658-20a8-4440-b673-fb93fab56c11",
   "metadata": {},
   "outputs": [],
   "source": [
    "with open(\"Hiztegiak/hiztegi_ez_eus_log.json\",\"r\") as file:\n",
    "    hiztegi_ez_eus = json.load(file)\n",
    "with open(\"Hiztegiak/hiztegi_log_eus.json\",\"r\") as file:\n",
    "    hiztegi_eus = json.load(file)"
   ]
  },
  {
   "cell_type": "code",
   "execution_count": 67,
   "id": "5aae0b78-5e58-4522-8477-29c5cd547e81",
   "metadata": {},
   "outputs": [
    {
     "name": "stdout",
     "output_type": "stream",
     "text": [
      "4095125\n",
      "3558797\n",
      "-8.785736979579099\n",
      "-8.726195979217117\n"
     ]
    }
   ],
   "source": [
    "print(len(hiztegi_ez_eus))\n",
    "print(len(hiztegi_eus))\n",
    "print(list(hiztegi_ez_eus.values())[-1])\n",
    "print(list(hiztegi_eus.values())[-1])"
   ]
  },
  {
   "cell_type": "code",
   "execution_count": 3,
   "id": "4cbfcab2-b92f-4aeb-9b87-33ccf756b4fa",
   "metadata": {},
   "outputs": [],
   "source": [
    "def testu_garbia(text):\n",
    "    \"\"\" \n",
    "    Testu bat jaso eta, edukia aztertzeko orduan kodifikazioarekin arazorik egon ez dadin,\n",
    "    dena minuskuletan idatzi, puntuazio markak eta zenbakiak ezabatzen ditu. \n",
    "    Argumentuak: Edozein eratan idatzitako testu bat.\n",
    "    Itzultzitakoa: Testu hori bera lista baten antolatua. Listako osagai bakoitza hitz bat izanik\n",
    "    zenbakiak eta puntuazio markak ezabatuz.\n",
    "    \"\"\"\n",
    "    text = text.lower() #Minuskulara pasatu\n",
    "    text = re.sub(r'[\\W_0-9]+', ' ', text) #Puntuazio markak eta zenbakiak ezabatu\n",
    "    return [word for word in text.split() if len(word) > 1]"
   ]
  },
  {
   "cell_type": "markdown",
   "id": "81f85313-5e55-49cb-b0aa-0ed3e0a5cdc9",
   "metadata": {},
   "source": [
    "## Balidazioa"
   ]
  },
  {
   "cell_type": "code",
   "execution_count": 4,
   "id": "dd5ea106-d143-4bca-bebe-e119d1a7566d",
   "metadata": {},
   "outputs": [],
   "source": [
    "def klasifikazio_boolearra(text, hiztegi_eus, hiztegi_ez_eus, oov, theta):\n",
    "    \"\"\" \n",
    "    Testu bat jaso eta euskaraz idatzia dagoen edo ez bueltatzen du, testua bi hiztegietara\n",
    "    zenbat hurbiltzen den kontsideratuz.\n",
    "    \n",
    "    Argumentuak:\n",
    "        - text (str): Testua.\n",
    "        - hiztegi_eus (dict): Euskarazko hitz-maiztasunen hiztegia.\n",
    "        - hiztegi_ez_eus (dict): Ez-euskarazko hitz-maiztasunen hiztegia.\n",
    "    \n",
    "    Itzulera:\n",
    "        - bool: True (euskaraz idatzia), False (ez).\n",
    "    \"\"\"\n",
    "    garbitu = testu_garbia(text)\n",
    "    kop = len(garbitu)  \n",
    "    maizt_eus = 0  \n",
    "    maizt_ez_eus = 0  \n",
    "    for word in garbitu:  \n",
    "        if word in hiztegi_eus:\n",
    "            maizt_eus += hiztegi_eus[word]\n",
    "        else:\n",
    "            maizt_eus += oov\n",
    "    for word in garbitu:  \n",
    "        if word in hiztegi_ez_eus:\n",
    "            maizt_ez_eus += hiztegi_ez_eus[word]\n",
    "        else:\n",
    "            maizt_ez_eus += oov\n",
    "    if kop != 0:\n",
    "        balio = (maizt_eus-maizt_ez_eus)/kop\n",
    "    else:\n",
    "        balio = -9\n",
    "    if balio > theta :\n",
    "        return True\n",
    "    else:\n",
    "        return False"
   ]
  },
  {
   "cell_type": "code",
   "execution_count": 100,
   "id": "374cd34e-e66b-457c-b42f-ba13b9db0238",
   "metadata": {},
   "outputs": [
    {
     "name": "stdout",
     "output_type": "stream",
     "text": [
      "Euskaraz dago idatzia? Ez\n"
     ]
    }
   ],
   "source": [
    "testua =\"Die Technologie hat unser tägliches Leben stark beeinflusst. Die Erfindung des Internets und der Smartphones hat die Art und Weise, wie wir kommunizieren und Informationen abrufen, verändert.\"\n",
    "badau = klasifikazio_boolearra(testua,hiztegi_eus,hiztegi_ez_eus,-9)\n",
    "print(f\"Euskaraz dago idatzia? {'Bai' if badau else 'Ez'}\")"
   ]
  },
  {
   "cell_type": "code",
   "execution_count": 6,
   "id": "eba07a2e-6cdc-4574-ad0d-c67ad430655d",
   "metadata": {},
   "outputs": [
    {
     "name": "stdout",
     "output_type": "stream",
     "text": [
      "Euskara dago idatzia? Bai\n"
     ]
    }
   ],
   "source": [
    "testua =\"Teknologiak gure eguneroko bizitzan eragin handia izan du. Internetaren eta telefono adimendunen asmakuntzak gure komunikazio eta informazio sarbidea eraldatu du.\"\n",
    "badau = klasifikazio_boolearra(testua,hiztegi_eus,hiztegi_ez_eus,-9)\n",
    "print(f\"Euskara dago idatzia? {'Bai' if badau else 'Ez'}\")"
   ]
  },
  {
   "cell_type": "code",
   "execution_count": 127,
   "id": "66b13aba-044a-416d-b39c-30cd19beb098",
   "metadata": {},
   "outputs": [
    {
     "name": "stdout",
     "output_type": "stream",
     "text": [
      "Euskaraz dago idatzia? Ez\n"
     ]
    }
   ],
   "source": [
    "testua =\"La tecnología ha impactado enormemente nuestras vidas diarias. La invención de internet y los teléfonos inteligentes ha transformado la manera en que nos comunicamos y accedemos a la información.\"\n",
    "badau = klasifikazio_boolearra(testua,hiztegi_eus,hiztegi_ez_eus,-9)\n",
    "print(f\"Euskaraz dago idatzia? {'Bai' if badau else 'Ez'}\")"
   ]
  },
  {
   "cell_type": "code",
   "execution_count": 5,
   "id": "2285a01e-017b-41d7-b218-84da666d2139",
   "metadata": {},
   "outputs": [],
   "source": [
    "with open(\"Data/Validation/validation.json\",\"r\") as file:\n",
    "    val_ez_eus = json.load(file)\n",
    "with open(\"Data/Validation/validation_eus.jsonl\",\"r\") as file:\n",
    "    val_eus = json.load(file)"
   ]
  },
  {
   "cell_type": "markdown",
   "id": "c7f78c8a-9d74-4195-bc0c-e084a06fe8ec",
   "metadata": {},
   "source": [
    "theta = np.arange(0.9, 1.1, 0.01)"
   ]
  },
  {
   "cell_type": "markdown",
   "id": "c770256c-1f4c-42de-80ae-20dbc5aea86a",
   "metadata": {},
   "source": [
    "### Euskera"
   ]
  },
  {
   "cell_type": "code",
   "execution_count": 13,
   "id": "2faa79a7-f5d6-4752-b943-120d1a8c8b02",
   "metadata": {},
   "outputs": [
    {
     "name": "stdout",
     "output_type": "stream",
     "text": [
      "%0.31318374876657085\n",
      "%0.3046033720880347\n",
      "%0.2874426187309623\n",
      "%0.28315243039169424\n",
      "%0.28315243039169424\n",
      "%0.2788622420524261\n",
      "%0.2788622420524261\n",
      "%0.2788622420524261\n",
      "%0.2788622420524261\n",
      "%0.2788622420524261\n",
      "%0.274572053713158\n",
      "%0.2702818653738899\n",
      "%0.2574113003560856\n",
      "%0.2574113003560856\n",
      "%0.25312111201681753\n",
      "%0.25312111201681753\n",
      "%0.2617014886953537\n",
      "%0.2617014886953537\n",
      "%0.26599167703462184\n",
      "%0.26599167703462184\n",
      "%0.26599167703462184\n",
      "%0.25312111201681753\n",
      "1.04\n"
     ]
    }
   ],
   "source": [
    "max_theta = 0\n",
    "maxim = 1\n",
    "for value in theta:\n",
    "    eusk = 0\n",
    "    bai = []\n",
    "    eusk_ez = 0\n",
    "    ez = []\n",
    "    for text in val_ez_eus:\n",
    "        badau = klasifikazio_boolearra(text,hiztegi_eus,hiztegi_ez_eus,-9, value)\n",
    "        if badau:\n",
    "            eusk += 1\n",
    "            bai.append(text)\n",
    "        val_erdera = 100*eusk/len(val_ez_eus)\n",
    "    for text in val_eus:\n",
    "        badau = klasifikazio_boolearra(text,hiztegi_eus,hiztegi_ez_eus,-9, value)\n",
    "        if not badau:\n",
    "            eusk_ez += 1\n",
    "            ez.append(text)\n",
    "    balio = (eusk+eusk_ez)/(len(val_ez_eus)+len(val_eus))\n",
    "    if balio < maxim:\n",
    "            maxim = balio\n",
    "            max_theta = value  \n",
    "    print(f'%{100*balio}')\n",
    "\n",
    "print(f'%{100*maxim}')\n",
    "print(max_theta)"
   ]
  },
  {
   "cell_type": "code",
   "execution_count": 16,
   "id": "706bcfe2-f0af-4cd5-a047-8fc446ab3c9d",
   "metadata": {},
   "outputs": [
    {
     "name": "stdout",
     "output_type": "stream",
     "text": [
      "Euskarazko errorea: %0.3026634382566586\n",
      "Euskarazko esaldi kop:29\n",
      "Erdarazko errorea: %0.22393073076061804\n",
      "Erdarazko esaldi kop:30\n"
     ]
    }
   ],
   "source": [
    "eusk = 0\n",
    "bai = []\n",
    "eusk_ez = 0\n",
    "ez = []\n",
    "for text in val_ez_eus:\n",
    "    badau = klasifikazio_boolearra(text,hiztegi_eus,hiztegi_ez_eus,-9, 1.04)\n",
    "    if badau:\n",
    "        eusk += 1\n",
    "        bai.append(text)\n",
    "    val_erdera = 100*eusk/len(val_ez_eus)\n",
    "for text in val_eus:\n",
    "    badau = klasifikazio_boolearra(text,hiztegi_eus,hiztegi_ez_eus,-9, 1.04)\n",
    "    if not badau:\n",
    "        eusk_ez += 1\n",
    "        ez.append(text)\n",
    "print(f'Euskarazko errorea: %{100*eusk/len(val_eus)}')\n",
    "print(f'Euskarazko esaldi kop:{eusk_ez}')\n",
    "print(f'Erdarazko errorea: %{100*eusk/len(val_ez_eus)}')\n",
    "print(f'Erdarazko esaldi kop:{eusk}')"
   ]
  },
  {
   "cell_type": "code",
   "execution_count": 20,
   "id": "32396c29-b490-4f74-a0a0-72abb610468d",
   "metadata": {},
   "outputs": [
    {
     "name": "stdout",
     "output_type": "stream",
     "text": [
      "0.25312111201681753\n",
      "99.74687888798319\n"
     ]
    }
   ],
   "source": [
    "luz = len(val_ez_eus)+len(val_eus)\n",
    "err = 29 + 30\n",
    "errorea = 100*err/luz\n",
    "print(errorea)\n",
    "print(100-errorea)"
   ]
  },
  {
   "cell_type": "markdown",
   "id": "e4ec0825-7986-46f8-b743-bb290a36144b",
   "metadata": {},
   "source": [
    "# Test"
   ]
  },
  {
   "cell_type": "code",
   "execution_count": 22,
   "id": "ce947bd6-3d32-4d61-9e2a-edd070258d67",
   "metadata": {},
   "outputs": [],
   "source": [
    "with open(\"Data/Test/test.json\",\"r\") as file:\n",
    "    ez_eus_test = json.load(file)\n",
    "with open(\"Data/Test/test_eus.jsonl\",\"r\") as file:\n",
    "    eus_test = json.load(file)"
   ]
  },
  {
   "cell_type": "code",
   "execution_count": 31,
   "id": "ae3a1c92-8bed-410b-991e-0e68f4a24d03",
   "metadata": {},
   "outputs": [
    {
     "name": "stdout",
     "output_type": "stream",
     "text": [
      "Euskarazko errorea: %0.2523722996163941\n",
      "Euskarazko esaldi kop:28\n",
      "Erdarazko errorea: %0.18641413764819925\n",
      "Erdarazko esaldi kop:25\n"
     ]
    }
   ],
   "source": [
    "eusk = 0\n",
    "bai = []\n",
    "eusk_ez = 0\n",
    "ez = []\n",
    "for text in ez_eus_test:\n",
    "    badau = klasifikazio_boolearra(text,hiztegi_eus,hiztegi_ez_eus,-9, 1.04)\n",
    "    if badau:\n",
    "        eusk += 1\n",
    "        bai.append(text)\n",
    "    val_erdera = 100*eusk/len(val_ez_eus)\n",
    "for text in eus_test:\n",
    "    badau = klasifikazio_boolearra(text,hiztegi_eus,hiztegi_ez_eus,-9, 1.04)\n",
    "    if not badau:\n",
    "        eusk_ez += 1\n",
    "        ez.append(text)\n",
    "print(f'Euskarazko errorea: %{100*eusk/len(eus_test)}')\n",
    "print(f'Euskarazko esaldi kop:{eusk_ez}')\n",
    "print(f'Erdarazko errorea: %{100*eusk/len(ez_eus_test)}')\n",
    "print(f'Erdarazko esaldi kop:{eusk}')"
   ]
  },
  {
   "cell_type": "code",
   "execution_count": 32,
   "id": "66f2fa84-f735-41a3-b134-00f56c3024f5",
   "metadata": {},
   "outputs": [
    {
     "name": "stdout",
     "output_type": "stream",
     "text": [
      "0.2273019685208217\n",
      "99.77269803147918\n"
     ]
    }
   ],
   "source": [
    "luz = len(ez_eus_test)+len(eus_test)\n",
    "err = 28 + 25\n",
    "errorea = 100*err/luz\n",
    "print(errorea)\n",
    "print(100-errorea)"
   ]
  },
  {
   "cell_type": "code",
   "execution_count": 25,
   "id": "f1148e86-1be1-4c16-8936-3cbe2b586a92",
   "metadata": {},
   "outputs": [
    {
     "name": "stdout",
     "output_type": "stream",
     "text": [
      "Euskaraz dago idatzia? Bai\n",
      "Euskaraz dago idatzia? Bai\n",
      "Euskaraz dago idatzia? Ez\n",
      "Euskaraz dago idatzia? Bai\n",
      "Euskaraz dago idatzia? Ez\n",
      "Euskaraz dago idatzia? Ez\n",
      "Euskaraz dago idatzia? Bai\n",
      "Euskaraz dago idatzia? Bai\n",
      "Euskaraz dago idatzia? Bai\n",
      "Euskaraz dago idatzia? Ez\n"
     ]
    }
   ],
   "source": [
    "testua = \"Halare saiatukonaz zoze bilatzen\"\n",
    "badau = klasifikazio_boolearra(testua,hiztegi_eus,hiztegi_ez_eus,-9, 1.04)\n",
    "print(f\"Euskaraz dago idatzia? {'Bai' if badau else 'Ez'}\")\n",
    "testua = \"Aunkesea urte bukaerarte\"\n",
    "badau = klasifikazio_boolearra(testua,hiztegi_eus,hiztegi_ez_eus,-9, 1.04)\n",
    "print(f\"Euskaraz dago idatzia? {'Bai' if badau else 'Ez'}\")\n",
    "testua = \"Ni azaruan niju seuraski ya lanea bilboa\"\n",
    "badau = klasifikazio_boolearra(testua,hiztegi_eus,hiztegi_ez_eus,-9, 1.04)\n",
    "print(f\"Euskaraz dago idatzia? {'Bai' if badau else 'Ez'}\")\n",
    "testua = \"Igual irail bukaeran barnara niju\"\n",
    "badau = klasifikazio_boolearra(testua,hiztegi_eus,hiztegi_ez_eus,-9, 1.04)\n",
    "print(f\"Euskaraz dago idatzia? {'Bai' if badau else 'Ez'}\")\n",
    "testua = \"Ta porcierto igandin atsaldeko 7tan TOC donostin gratis\"\n",
    "badau = klasifikazio_boolearra(testua,hiztegi_eus,hiztegi_ez_eus,-9, 1.04)\n",
    "print(f\"Euskaraz dago idatzia? {'Bai' if badau else 'Ez'}\")\n",
    "testua = \"Lautako busa hartukoit\"\n",
    "badau = klasifikazio_boolearra(testua,hiztegi_eus,hiztegi_ez_eus,-9, 1.04)\n",
    "print(f\"Euskaraz dago idatzia? {'Bai' if badau else 'Ez'}\")\n",
    "testua = \"Mendiya da pero justo egun hortan zehar erromeriyak taola dozte\"\n",
    "badau = klasifikazio_boolearra(testua,hiztegi_eus,hiztegi_ez_eus,-9, 1.04)\n",
    "print(f\"Euskaraz dago idatzia? {'Bai' if badau else 'Ez'}\")\n",
    "testua = \"Osa 27yan posiblegu mendi buelta gozo bat in ta 28yan artikutza\"\n",
    "badau = klasifikazio_boolearra(testua,hiztegi_eus,hiztegi_ez_eus,-9, 1.04)\n",
    "print(f\"Euskaraz dago idatzia? {'Bai' if badau else 'Ez'}\")\n",
    "testua = \"Hombre posiblebaut zuekin jun bai\"\n",
    "badau = klasifikazio_boolearra(testua,hiztegi_eus,hiztegi_ez_eus,-9, 1.04)\n",
    "print(f\"Euskaraz dago idatzia? {'Bai' if badau else 'Ez'}\")\n",
    "testua = \"Nor da?\"\n",
    "badau = klasifikazio_boolearra(testua,hiztegi_eus,hiztegi_ez_eus,-9, 1.04)\n",
    "print(f\"Euskaraz dago idatzia? {'Bai' if badau else 'Ez'}\")"
   ]
  },
  {
   "cell_type": "code",
   "execution_count": 33,
   "id": "af8fb2c9-7cb8-4ab6-a5c5-5721b1760e4f",
   "metadata": {},
   "outputs": [
    {
     "name": "stdout",
     "output_type": "stream",
     "text": [
      "Euskaraz dago idatzia? Bai\n",
      "Euskaraz dago idatzia? Bai\n"
     ]
    }
   ],
   "source": [
    "testua = 'Pues ez dakit, es que ez dut uste oso sortzailea naizenik ni, sabes, enplan, gero ere sortzerako orduan como que naizela oso, formula asko errepikatzen ditut etab.'\n",
    "badau = klasifikazio_boolearra(testua,hiztegi_eus,hiztegi_ez_eus,-9, 1)\n",
    "print(f\"Euskaraz dago idatzia? {'Bai' if badau else 'Ez'}\")\n",
    "testua = 'A ver da Como debate bat ya filosofikoago, baina sinmas ez dakit osa que más da'\n",
    "badau = klasifikazio_boolearra(testua,hiztegi_eus,hiztegi_ez_eus,-9, 1)\n",
    "print(f\"Euskaraz dago idatzia? {'Bai' if badau else 'Ez'}\")"
   ]
  },
  {
   "cell_type": "code",
   "execution_count": 171,
   "id": "82362682-174e-441f-8c50-6ac0c41ed9da",
   "metadata": {},
   "outputs": [
    {
     "name": "stdout",
     "output_type": "stream",
     "text": [
      "Euskaraz dago idatzia? Bai\n"
     ]
    }
   ],
   "source": [
    "testua = 'Arront politta den mendi puntan gotti igota auzko aiekaruntz beitu ezkeo karrikara dijun kamiyua ikusiko dek'\n",
    "badau = klasifikazio_boolearra(testua,hiztegi_eus,hiztegi_ez_eus,-9)\n",
    "print(f\"Euskaraz dago idatzia? {'Bai' if badau else 'Ez'}\")"
   ]
  }
 ],
 "metadata": {
  "kernelspec": {
   "display_name": "Python 3 (ipykernel)",
   "language": "python",
   "name": "python3"
  },
  "language_info": {
   "codemirror_mode": {
    "name": "ipython",
    "version": 3
   },
   "file_extension": ".py",
   "mimetype": "text/x-python",
   "name": "python",
   "nbconvert_exporter": "python",
   "pygments_lexer": "ipython3",
   "version": "3.12.5"
  }
 },
 "nbformat": 4,
 "nbformat_minor": 5
}
