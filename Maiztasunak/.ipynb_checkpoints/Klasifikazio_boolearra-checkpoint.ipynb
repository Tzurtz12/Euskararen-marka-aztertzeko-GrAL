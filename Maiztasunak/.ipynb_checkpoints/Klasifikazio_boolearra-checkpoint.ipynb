{
 "cells": [
  {
   "cell_type": "code",
   "execution_count": 239,
   "id": "d9557b29-c27e-45eb-a934-59764a09d8f9",
   "metadata": {},
   "outputs": [],
   "source": [
    "import numpy as np\n",
    "import matplotlib.pyplot as plt\n",
    "import os\n",
    "import re\n",
    "from collections import Counter\n",
    "import json\n",
    "from itertools import islice"
   ]
  },
  {
   "cell_type": "code",
   "execution_count": 240,
   "id": "d668a658-20a8-4440-b673-fb93fab56c11",
   "metadata": {},
   "outputs": [],
   "source": [
    "with open(\"Hiztegiak/hiztegi_ez_eus_log.json\",\"r\") as file:\n",
    "    hiztegi_ez_eus = json.load(file)\n",
    "with open(\"Hiztegiak/hiztegi_log_eus.json\",\"r\") as file:\n",
    "    hiztegi_eus = json.load(file)"
   ]
  },
  {
   "cell_type": "code",
   "execution_count": 214,
   "id": "5aae0b78-5e58-4522-8477-29c5cd547e81",
   "metadata": {},
   "outputs": [
    {
     "name": "stdout",
     "output_type": "stream",
     "text": [
      "4095125\n",
      "3558797\n",
      "-8.785736979579099\n",
      "-8.726195979217117\n"
     ]
    }
   ],
   "source": [
    "print(len(hiztegi_ez_eus))\n",
    "print(len(hiztegi_eus))\n",
    "print(list(hiztegi_ez_eus.values())[-1])\n",
    "print(list(hiztegi_eus.values())[-1])"
   ]
  },
  {
   "cell_type": "code",
   "execution_count": 241,
   "id": "4cbfcab2-b92f-4aeb-9b87-33ccf756b4fa",
   "metadata": {},
   "outputs": [],
   "source": [
    "def testu_garbia(text):\n",
    "    \"\"\" \n",
    "    Testu bat jaso eta, edukia aztertzeko orduan kodifikazioarekin arazorik egon ez dadin,\n",
    "    dena minuskuletan idatzi, puntuazio markak eta zenbakiak ezabatzen ditu. \n",
    "    Argumentuak: Edozein eratan idatzitako testu bat.\n",
    "    Itzultzitakoa: Testu hori bera lista baten antolatua. Listako osagai bakoitza hitz bat izanik\n",
    "    zenbakiak eta puntuazio markak ezabatuz.\n",
    "    \"\"\"\n",
    "    text = text.lower() #Minuskulara pasatu\n",
    "    text = re.sub(r'[\\W_0-9]+', ' ', text) #Puntuazio markak eta zenbakiak ezabatu\n",
    "    return [word for word in text.split() if len(word) > 1]"
   ]
  },
  {
   "cell_type": "code",
   "execution_count": 339,
   "id": "dd5ea106-d143-4bca-bebe-e119d1a7566d",
   "metadata": {},
   "outputs": [],
   "source": [
    "def klasifikazio_boolearra(text, hiztegi_eus, hiztegi_ez_eus, oov):\n",
    "    \"\"\" \n",
    "    Testu bat jaso eta euskaraz idatzia dagoen edo ez bueltatzen du, testua bi hiztegietara\n",
    "    zenbat hurbiltzen den kontsideratuz.\n",
    "    \n",
    "    Argumentuak:\n",
    "        - text (str): Testua.\n",
    "        - hiztegi_eus (dict): Euskarazko hitz-maiztasunen hiztegia.\n",
    "        - hiztegi_ez_eus (dict): Ez-euskarazko hitz-maiztasunen hiztegia.\n",
    "    \n",
    "    Itzulera:\n",
    "        - bool: True (euskaraz idatzia), False (ez).\n",
    "    \"\"\"\n",
    "    garbitu = testu_garbia(text)\n",
    "    kop = len(garbitu)  \n",
    "    maizt_eus = 0  \n",
    "    maizt_ez_eus = 0  \n",
    "    for word in garbitu:  \n",
    "        if word in hiztegi_eus:\n",
    "            maizt_eus += hiztegi_eus[word]\n",
    "        else:\n",
    "            maizt_eus += oov\n",
    "    for word in garbitu:  \n",
    "        if word in hiztegi_ez_eus:\n",
    "            maizt_ez_eus += hiztegi_ez_eus[word]\n",
    "        else:\n",
    "            maizt_ez_eus += oov\n",
    "    if kop != 0:\n",
    "        balio = (maizt_eus-maizt_ez_eus)/kop\n",
    "    else:\n",
    "        balio = -9\n",
    "    # print(maizt_eus)\n",
    "    # print(maizt_ez_eus)\n",
    "    #print(balio)\n",
    "    if balio > 0.88 : #0.88\n",
    "        return True\n",
    "    else:\n",
    "        return False"
   ]
  },
  {
   "cell_type": "code",
   "execution_count": 217,
   "id": "374cd34e-e66b-457c-b42f-ba13b9db0238",
   "metadata": {},
   "outputs": [
    {
     "name": "stdout",
     "output_type": "stream",
     "text": [
      "Euskaraz dago idatzia? Ez\n"
     ]
    }
   ],
   "source": [
    "testua =\"Die Technologie hat unser tägliches Leben stark beeinflusst. Die Erfindung des Internets und der Smartphones hat die Art und Weise, wie wir kommunizieren und Informationen abrufen, verändert.\"\n",
    "badau = klasifikazio_boolearra(testua,hiztegi_eus,hiztegi_ez_eus,-9)\n",
    "print(f\"Euskaraz dago idatzia? {'Bai' if badau else 'Ez'}\")"
   ]
  },
  {
   "cell_type": "code",
   "execution_count": 195,
   "id": "eba07a2e-6cdc-4574-ad0d-c67ad430655d",
   "metadata": {},
   "outputs": [
    {
     "name": "stdout",
     "output_type": "stream",
     "text": [
      "3.905410022459796\n",
      "Euskara dago idatzia? Bai\n"
     ]
    }
   ],
   "source": [
    "testua =\"Teknologiak gure eguneroko bizitzan eragin handia izan du. Internetaren eta telefono adimendunen asmakuntzak gure komunikazio eta informazio sarbidea eraldatu du.\"\n",
    "badau = klasifikazio_boolearra(testua,hiztegi_eus,hiztegi_ez_eus,-9)\n",
    "print(f\"Euskara dago idatzia? {'Bai' if badau else 'Ez'}\")"
   ]
  },
  {
   "cell_type": "code",
   "execution_count": 196,
   "id": "66b13aba-044a-416d-b39c-30cd19beb098",
   "metadata": {},
   "outputs": [
    {
     "name": "stdout",
     "output_type": "stream",
     "text": [
      "-1.4630217966788832\n",
      "Euskaraz dago idatzia? Ez\n"
     ]
    }
   ],
   "source": [
    "testua =\"La tecnología ha impactado enormemente nuestras vidas diarias. La invención de internet y los teléfonos inteligentes ha transformado la manera en que nos comunicamos y accedemos a la información.\"\n",
    "badau = klasifikazio_boolearra(testua,hiztegi_eus,hiztegi_ez_eus,-9)\n",
    "print(f\"Euskaraz dago idatzia? {'Bai' if badau else 'Ez'}\")"
   ]
  },
  {
   "cell_type": "code",
   "execution_count": 331,
   "id": "5aa8ee06-250e-43b5-9dba-b83111c446c3",
   "metadata": {},
   "outputs": [
    {
     "name": "stdout",
     "output_type": "stream",
     "text": [
      "1.9908127788001124\n",
      "Euskaraz dago idatzia? Bai\n",
      "2.2874350387922653\n",
      "Euskaraz dago idatzia? Bai\n",
      "0.2823705168279399\n",
      "Euskaraz dago idatzia? Ez\n",
      "1.5669444346760784\n",
      "Euskaraz dago idatzia? Bai\n",
      "0.3919671227342798\n",
      "Euskaraz dago idatzia? Ez\n",
      "1.036234457114779\n",
      "Euskaraz dago idatzia? Bai\n",
      "1.5379430446974376\n",
      "Euskaraz dago idatzia? Bai\n",
      "1.109791777545494\n",
      "Euskaraz dago idatzia? Bai\n",
      "1.2686082933567882\n",
      "Euskaraz dago idatzia? Bai\n",
      "0.7499177921362103\n",
      "Euskaraz dago idatzia? Ez\n"
     ]
    }
   ],
   "source": [
    "testua = \"Halare saiatukonaz zoze bilatzen\"\n",
    "badau = klasifikazio_boolearra(testua,hiztegi_eus,hiztegi_ez_eus,-9)\n",
    "print(f\"Euskaraz dago idatzia? {'Bai' if badau else 'Ez'}\")\n",
    "testua = \"Aunkesea urte bukaerarte\"\n",
    "badau = klasifikazio_boolearra(testua,hiztegi_eus,hiztegi_ez_eus,-9)\n",
    "print(f\"Euskaraz dago idatzia? {'Bai' if badau else 'Ez'}\")\n",
    "testua = \"Ni azaruan niju seuraski ya lanea bilboa\"\n",
    "badau = klasifikazio_boolearra(testua,hiztegi_eus,hiztegi_ez_eus,-9)\n",
    "print(f\"Euskaraz dago idatzia? {'Bai' if badau else 'Ez'}\")\n",
    "testua = \"Igual irail bukaeran barnara niju\"\n",
    "badau = klasifikazio_boolearra(testua,hiztegi_eus,hiztegi_ez_eus,-9)\n",
    "print(f\"Euskaraz dago idatzia? {'Bai' if badau else 'Ez'}\")\n",
    "testua = \"Ta porcierto igandin atsaldeko 7tan TOC donostin gratis\"\n",
    "badau = klasifikazio_boolearra(testua,hiztegi_eus,hiztegi_ez_eus,-9)\n",
    "print(f\"Euskaraz dago idatzia? {'Bai' if badau else 'Ez'}\")\n",
    "testua = \"Lautako busa hartukoit\"\n",
    "badau = klasifikazio_boolearra(testua,hiztegi_eus,hiztegi_ez_eus,-9)\n",
    "print(f\"Euskaraz dago idatzia? {'Bai' if badau else 'Ez'}\")\n",
    "testua = \"Mendiya da pero justo egun hortan zehar erromeriyak taola dozte\"\n",
    "badau = klasifikazio_boolearra(testua,hiztegi_eus,hiztegi_ez_eus,-9)\n",
    "print(f\"Euskaraz dago idatzia? {'Bai' if badau else 'Ez'}\")\n",
    "testua = \"Osa 27yan posiblegu mendi buelta gozo bat in ta 28yan artikutza\"\n",
    "badau = klasifikazio_boolearra(testua,hiztegi_eus,hiztegi_ez_eus,-9)\n",
    "print(f\"Euskaraz dago idatzia? {'Bai' if badau else 'Ez'}\")\n",
    "testua = \"Hombre posiblebaut zuekin jun bai\"\n",
    "badau = klasifikazio_boolearra(testua,hiztegi_eus,hiztegi_ez_eus,-9)\n",
    "print(f\"Euskaraz dago idatzia? {'Bai' if badau else 'Ez'}\")\n",
    "testua = \"Nor da?\"\n",
    "badau = klasifikazio_boolearra(testua,hiztegi_eus,hiztegi_ez_eus,-9)\n",
    "print(f\"Euskaraz dago idatzia? {'Bai' if badau else 'Ez'}\")"
   ]
  },
  {
   "cell_type": "code",
   "execution_count": 243,
   "id": "2285a01e-017b-41d7-b218-84da666d2139",
   "metadata": {},
   "outputs": [],
   "source": [
    "with open(\"Data/Validation/validation.json\",\"r\") as file:\n",
    "    val_ez_eus = json.load(file)"
   ]
  },
  {
   "cell_type": "code",
   "execution_count": 335,
   "id": "3e9d5697-4738-40ba-8b8f-c21abd5cabb8",
   "metadata": {},
   "outputs": [
    {
     "name": "stdout",
     "output_type": "stream",
     "text": [
      "%0.3582891692169889\n"
     ]
    }
   ],
   "source": [
    "eusk = 0\n",
    "bai = []\n",
    "for text in val_ez_eus:\n",
    "    badau = klasifikazio_boolearra(text,hiztegi_eus,hiztegi_ez_eus,-9)\n",
    "    if badau:\n",
    "        eusk += 1\n",
    "        bai.append(text)\n",
    "print(f'%{100*eusk/len(val_ez_eus)}')"
   ]
  },
  {
   "cell_type": "code",
   "execution_count": 337,
   "id": "5ac6cd1f-bc7a-45db-b7d6-923b3dd73e5a",
   "metadata": {},
   "outputs": [
    {
     "name": "stdout",
     "output_type": "stream",
     "text": [
      "Molt bé.\n",
      "1.2551201325521388\n",
      "(Aplaudiments) Molt bé.\n",
      "0.9280147619623875\n",
      "Mirem al voltant d'aquest auditori avui.\n",
      "0.9579685264905073\n",
      "Avanç ràpid.\n",
      "1.0748340164468644\n",
      "Quant d'aquesta història ... ...potser els pertany?\n",
      "1.0714772501027288\n",
      "Vaig marxar.\n",
      "2.0467048993625205\n",
      "Això és fantàstic.\n",
      "1.4134313390102555\n",
      "Els nens són de 25 països diferents.\n",
      "1.1781233836359644\n",
      "Amb aquesta planta gegant.\n",
      "1.3510119303151615\n",
      "Així doncs, Sr. Gore, gràcies.\n",
      "1.5314834092786895\n",
      "Gràcies.\n",
      "2.7347018635394305\n",
      "Rebíem llibres donats.\n",
      "1.0011969580729965\n",
      "Això funcionà.\n",
      "1.4156556113442704\n",
      "Moltes Gràcies.\n",
      "2.4837736383217033\n",
      "(Aplaudiments) Gràcies, moltes gràcies.\n",
      "1.9940132902414307\n",
      "Gràcies. Gràcies. Gràcies. Gràcies.\n",
      "2.7347018635394305\n",
      "Collan o tren\n",
      "1.2627434543834433\n",
      "a vosa e máis a miña.\n",
      "1.3700079098314621\n",
      "Ali kako?\n",
      "0.9197930640034686\n",
      "Hvala.\n",
      "1.0137835098013062\n",
      "Ez egy igaz történet -- minden szava igaz.\n",
      "1.6279588288512679\n",
      "Ez fontos.\n",
      "2.048119465862512\n",
      "Ez egy lehetőség.\n",
      "1.4856033092503285\n",
      "Nekem ilyenkor ez az érzésem támad.\n",
      "0.948952053375694\n",
      "ez a helyzet.\n",
      "2.048119465862512\n",
      "Még egy Aldi sincs.\n",
      "1.033368429962005\n",
      "De ez a tornácunk.\n",
      "0.9259272224286791\n",
      "Ez a legösszetettebb.\n",
      "2.048119465862512\n",
      "Ez kétharmados csökkenés.\n",
      "1.3654129772416752\n",
      "Ar kada esate girdėję apie amputuotos galūnės skausmą?\n",
      "0.9051594885954994\n",
      "Matematika yra daug platesnis dalykas, negu skaičiavimas.\n",
      "0.9143530241676042\n",
      "Išmokstama senovinių Balio menų.\n",
      "1.1873019808434897\n",
      "(Tepuk tangan)\n",
      "0.990687098440409\n",
      "Kita tidak mengerti kode yang digunakan otak.\n",
      "0.9752626128683072\n",
      "(Gelak ketawa) \"Ia hanya ia.\"\n",
      "1.511219383413915\n",
      "Kehidupan agak baik.\n",
      "1.9590911070642285\n",
      "Memang sukar.\n",
      "1.7490390175385704\n",
      "Barna elsker det.\n",
      "1.4229190346602536\n",
      "Det var kaos.\n",
      "1.2333413868085532\n",
      "Zgolj tišina, tako.\n",
      "0.9133618406384502\n",
      "Hvala.\n",
      "1.0137835098013062\n",
      "tako.\n",
      "2.165251505468488\n",
      "Ekonomia eshte kryesisht bujqesore.\n",
      "1.1466702290043091\n",
      "Pse keshtu?\n",
      "1.2676707995986565\n",
      "Ali kako?\n",
      "0.9197930640034686\n",
      "Bana öyle geliyor.\n",
      "1.013989241194487\n",
      "Dr. Zullinger da bizi tamamiyle destekliyor.\n",
      "0.9076804911644784\n",
      "Bu da Eric. Futbol takımında.\n",
      "0.8801802358946318\n"
     ]
    }
   ],
   "source": [
    "for text in bai:\n",
    "    print(text)\n",
    "    badau = klasifikazio_boolearra(text,hiztegi_eus,hiztegi_ez_eus,-9)"
   ]
  },
  {
   "cell_type": "code",
   "execution_count": 248,
   "id": "8fc7a77c-d99b-419f-8c25-2cd56a427790",
   "metadata": {},
   "outputs": [],
   "source": [
    "with open(\"Data/Validation/joined.jsonl\",\"r\") as file:\n",
    "    eus = json.load(file)"
   ]
  },
  {
   "cell_type": "code",
   "execution_count": 340,
   "id": "a5fd890a-94b6-490b-9e6f-877bfb3c5cb2",
   "metadata": {},
   "outputs": [
    {
     "name": "stdout",
     "output_type": "stream",
     "text": [
      "98.53676606779032\n"
     ]
    }
   ],
   "source": [
    "eusk = 0\n",
    "ez = []\n",
    "for text in eus:\n",
    "    badau = klasifikazio_boolearra(text,hiztegi_eus,hiztegi_ez_eus,-9)\n",
    "    if badau:\n",
    "        eusk += 1\n",
    "    else:\n",
    "        ez.append(text)\n",
    "print(f'{100*eusk/len(eus)}')"
   ]
  },
  {
   "cell_type": "code",
   "execution_count": 341,
   "id": "6531d564-4c54-43b2-99b7-e2709eb8ef83",
   "metadata": {},
   "outputs": [
    {
     "name": "stdout",
     "output_type": "stream",
     "text": [
      "XXI .\n",
      "PERU .\n",
      "SUDAN .\n",
      "PANAMA .\n",
      "A .\n",
      "La dcolonisation .\n",
      "De 1919 nous jours .\n",
      "A.C olin .\n",
      "1985 ) .\n",
      "M .\n",
      "Nationalisms : The Nation-State and Nationalism in the Twentieht Century .\n",
      "Polity Press .\n",
      ") .\n",
      "ALEMANIA .\n",
      "Lanza .\n",
      "Holliday , G .\n",
      "F .\n",
      "S .\n",
      "Felices , M .\n",
      "IRAN .\n",
      ".\n",
      "A .\n",
      "I .\n",
      "1. Reims 24 33 15 1 8 2. Caen 24 32 15 1 8 3. Rouen 25 32 13 5 7 4. Amiens 26 30 14 1 10 5. Angers 25 29 13 3 9 6. Hormadi 25 27 12 1 12 7. Lyon 25 21 10 0 15 8. Chamonix 25 14 7 0 18 9. Viry 24 12 6 0 18 18 .\n",
      "KOSOVO .\n",
      "NIGERIA .\n",
      "Aktoreak : Denzel Washington , Vicellous Reon Shanon , Deborah Unger , Liev Schreiber , John Hannah .\n",
      "SERBIA .\n",
      "Martxoak 22 : Les Tambours de Brazza ( Kongo ) .\n",
      "Martxoak 28 : La Familia Valera Miranda ( Kuba ) .\n",
      "Apirilak 19 : Sabri Brothers ( Pakistan ) .\n",
      "Arsenal - Bayern Munich\n",
      "\n",
      "Jean-Michel Iratchet , presidente del FN de Pirineos Atlánticos se explicó más claramente sobre este tema ayer ante los micrófonos de Radio Euskadi .\n",
      "Bere lanen artean daude \" Footnotes to a House of Love \" ( 2007 ) , \" The room called heaven \" ( 2012 ) edo \" We Had the Experience but Missed the Meaning \" ( 2014 ) .\n",
      "El electorado fiel del FN , adiestrado en la doctrina de la confabulación , engulle todo cuanto acontece a su duchessa sin mayores problemas .\n",
      "El venezolano Santos , colaborativo y voluntarioso , asumió el mando en las tareas ofensivas .\n",
      "Dentro del International Cheese Festival celebrado esta semana en Donostia , la asociación Artzai Gazta organizó el Foro Internacional del Pastoreo donde trataron el tema muy ampliamente .\n",
      "Entre el 2 y el 9 de febrero , el trompetista sueco Hakan Handenberger dirigirá tres obras de Haydn y el \" Concierto para orquesta \" de Lutoslawski .\n",
      "IFRAME : [ 1 ] http://www.youtube.com/embed/8jm1 _ VtLFpM\n",
      "El zaguero de Baraibar , que causó baja la semana pasada por esas molestias físicas , acudió ayer al frontón Beotibar para llevar a cabo una prueba con la ayuda de Rubén Beloki .\n",
      "Anunció que presentarán un proyecto de Ley de Consulta .\n",
      "op.cit .\n",
      "Pour un droit des peuples .\n",
      "Berger-Levrault .\n",
      "Iglesias , L .\n",
      "B .\n",
      "G .\n",
      ".\n",
      "IRAK .\n",
      "El balance industrial de un año que ya en su primer trimestre enfriaba los mensajes de optimismo de Lakua , al que cogieron con el pie cambiado anuncios como los de Arcelor Mittal del \" cese parcial de actividad \" en su planta de Zumarraga y de Tubos Reunidos de un ERE en Amurrio , se cierra \" mejor de lo que esperábamos todos \" , en opinión de Tapia .\n",
      "En concreto seis candidaturas obtuvieron los avales necesarios para opatr a lanzar el Txupinazo este año .\n",
      "IFRAME : [ 1 ] https : //www.youtube.com/embed/-dcA6nEz98M\n",
      "Hurrengo mendea ? * Ricardo Arregi Diaz De Heredia * [ Idazlea ] La ralit du temps a t remplace par la publicit du temps .\n",
      "Guy Debord .\n",
      "The right thing , U know .\n",
      ".\n",
      "ALEMANIA .\n",
      "« Pas de concessions aux terroristes espagnols » .\n",
      "Simplemente varios presos han decidido perder unos kilos por ese procedimiento » .\n",
      "K .\n",
      "G .\n",
      "También mostró su acuerdo a la propuesta de Podemos sobre el alcance de los incumplimientos de la Carta Social Europea por la legislación laboral instaurada en el Estado español en los últimos años .\n",
      "A Carlos Abilio , por cierto , no pareció gustarle mucho que el diputado José Ignacio Asensio le presentara como portavoz de la \" constructora \" .\n",
      "La proclamación de los miembros de ese nuevo consejo tendrá lugar el día 25 de marzo en la Escuela Navarra de Teatro .\n",
      "Fotografía : GOBIERNO DE NAFARROA\n",
      "IFRAME : [ 1 ] https : //www.youtube.com/embed/2rRso4F2LVU\n",
      "La obra se representará el sábado con un pase único a las 20.00 y previamente el dramaturgo Johannes Blum ofrecerá una charla .\n",
      "También esta misma semana se publicaba una investigación de la universidad de Copenague relacionando , de manera indudable , el uso de la píldora anticonceptiva con la depresión .\n",
      "De hecho , todo un ex primer ministro , como François Fillon , se dedicó a difundir rumores falsos sobre otros ataques en la noche parisina tras al atentado en Campos Elíseos .\n",
      "\n",
      "Seis películas han sido seleccionadas en Cine en Construcción 32 de entre un total de 149 películas inscritas procedentes de 20 países : \" Agosto \" de Armando Capó ( Costa Rica-Cuba-Estado francés ) ; \" Ferrugem/Hust ( Herrumbe ) \" de Aly Muritiba ( Brasil ) ; \" Kairos \" , de Nicolás Buenaventura ( Estado francés-Colombia ) ; \" Familia sumergida \" de María Alche ( Argentina-Brasil-Alemania ) , \" Niña errante \" de Rubén Mendoza ( Colombia-Estado francés ) y \" Rodantes \" de Leandro Lara ( Brasil-EEUU ) .\n",
      "Concretamente , la carrera atravesará la avenida Juan Pablo II , la calle Monjardín y la PA -- 33 en dirección a Olatz .\n",
      "Reclaman en las calles de Berna la puesta en libertad de Txapartegi\n",
      "Hemen guretzat utzi duena : \" Cuando paso por la iglesia que está al lado de mi casa , siempre digo que ' no voy a beber más ... pero tampoco menos ' \" .\n",
      "Moratoria en Barcelona\n",
      "Por todo ello , inciden en la necesidad de que se les dote de los mismos derechos y recursos.M.E.\n",
      "La única carrera profesional navarra recupera el nivel perdido en anteriores ediciones , aunque no la categoría HC , con la participación de cinco equipos World Tour con los bloques que van a presentar en la Itzulia .\n",
      "INTERVENCIONES\n"
     ]
    }
   ],
   "source": [
    "for text in ez:\n",
    "    print(text)"
   ]
  },
  {
   "cell_type": "code",
   "execution_count": 278,
   "id": "9fa66c8b-83f7-42ab-88a6-bf8bd8d16599",
   "metadata": {},
   "outputs": [],
   "source": [
    "with open(\"Data/Validation/joined_b.jsonl\",\"r\") as file:\n",
    "    eus_korref = json.load(file)"
   ]
  },
  {
   "cell_type": "code",
   "execution_count": 342,
   "id": "33f28246-5f11-408d-86d2-c173de81398f",
   "metadata": {},
   "outputs": [
    {
     "name": "stdout",
     "output_type": "stream",
     "text": [
      "%100.0\n"
     ]
    }
   ],
   "source": [
    "eusk = 0\n",
    "ez = []\n",
    "for text in eus_korref:\n",
    "    badau = klasifikazio_boolearra(text,hiztegi_eus,hiztegi_ez_eus,-9)\n",
    "    if badau:\n",
    "        eusk += 1\n",
    "    else:\n",
    "        ez.append(text)\n",
    "print(f'%{100*eusk/len(eus_korref)}')"
   ]
  },
  {
   "cell_type": "code",
   "execution_count": 277,
   "id": "b1e72a17-e704-43ec-8f62-921a7f2cf371",
   "metadata": {},
   "outputs": [],
   "source": [
    "with open(\"Data/Validation/joined_BEC.jsonl\",\"r\") as file:\n",
    "    eus_BEC = json.load(file)"
   ]
  },
  {
   "cell_type": "code",
   "execution_count": 343,
   "id": "18b2d8d8-d143-45c7-bd55-1043879f5cb5",
   "metadata": {},
   "outputs": [
    {
     "name": "stdout",
     "output_type": "stream",
     "text": [
      "%85.45266067726331\n"
     ]
    }
   ],
   "source": [
    "eusk = 0\n",
    "ez = []\n",
    "for text in eus_BEC:\n",
    "    badau = klasifikazio_boolearra(text,hiztegi_eus,hiztegi_ez_eus,-9)\n",
    "    if badau:\n",
    "        eusk += 1\n",
    "    else:\n",
    "        ez.append(text)\n",
    "print(f'%{100*eusk/len(eus_BEC)}')"
   ]
  },
  {
   "cell_type": "code",
   "execution_count": 250,
   "id": "22583bf1-991d-4636-856f-c654ca688328",
   "metadata": {},
   "outputs": [],
   "source": [
    "with open(\"Data/Validation/esaldiak.json\",\"r\") as file:\n",
    "    esaldiak1 = json.load(file)"
   ]
  },
  {
   "cell_type": "code",
   "execution_count": 344,
   "id": "99000552-4b2a-4c00-9bfa-3a538c69b9b5",
   "metadata": {},
   "outputs": [
    {
     "name": "stdout",
     "output_type": "stream",
     "text": [
      "%87.98014540811073\n"
     ]
    }
   ],
   "source": [
    "eusk = 0\n",
    "bi = []\n",
    "for text in esaldiak1:\n",
    "    badau = klasifikazio_boolearra(text,hiztegi_eus,hiztegi_ez_eus,-9)\n",
    "    if badau:\n",
    "        eusk += 1\n",
    "    else:\n",
    "        bi.append(text)\n",
    "print(f'%{100*eusk/len(esaldiak1)}')"
   ]
  },
  {
   "cell_type": "code",
   "execution_count": 252,
   "id": "b52f716c-9adf-4e53-962a-8354b9fac3cd",
   "metadata": {},
   "outputs": [],
   "source": [
    "with open(\"Data/Validation/esaldiak_proba.json\",\"r\") as file:\n",
    "    esaldiak2 = json.load(file)"
   ]
  },
  {
   "cell_type": "code",
   "execution_count": 253,
   "id": "74f909d7-d599-44bd-a922-4ae6157c9e00",
   "metadata": {},
   "outputs": [],
   "source": [
    "with open(\"Data/Validation/esaldi_luz_proba.json\",\"r\") as file:\n",
    "    esaldiak3 = json.load(file)"
   ]
  },
  {
   "cell_type": "code",
   "execution_count": 346,
   "id": "a03dcbd8-ff3e-4590-b005-24c7db41d37c",
   "metadata": {},
   "outputs": [
    {
     "name": "stdout",
     "output_type": "stream",
     "text": [
      "1.0\n"
     ]
    }
   ],
   "source": [
    "eusk = 0\n",
    "for text in esaldiak2:\n",
    "    badau = klasifikazio_boolearra(text,hiztegi_eus,hiztegi_ez_eus,-9)\n",
    "    if badau:\n",
    "        eusk += 1\n",
    "print(eusk/len(esaldiak2))"
   ]
  },
  {
   "cell_type": "code",
   "execution_count": 347,
   "id": "fe6711f7-45d4-4623-86b5-5e708d1118b4",
   "metadata": {},
   "outputs": [
    {
     "name": "stdout",
     "output_type": "stream",
     "text": [
      "1.0\n"
     ]
    }
   ],
   "source": [
    "eusk = 0\n",
    "for text in esaldiak3:\n",
    "    badau = klasifikazio_boolearra(text,hiztegi_eus,hiztegi_ez_eus,-9)\n",
    "    if badau:\n",
    "        eusk += 1\n",
    "print(eusk/len(esaldiak3))"
   ]
  },
  {
   "cell_type": "markdown",
   "id": "e4ec0825-7986-46f8-b743-bb290a36144b",
   "metadata": {},
   "source": [
    "# Test"
   ]
  },
  {
   "cell_type": "code",
   "execution_count": 318,
   "id": "ce947bd6-3d32-4d61-9e2a-edd070258d67",
   "metadata": {},
   "outputs": [],
   "source": [
    "with open(\"Data/Test/test.json\",\"r\") as file:\n",
    "    ez_eus_test = json.load(file)\n",
    "with open(\"Data/Test/joined.jsonl\",\"r\") as file:\n",
    "    eus_test = json.load(file)"
   ]
  },
  {
   "cell_type": "code",
   "execution_count": 350,
   "id": "20d327a5-5d86-45f9-85a2-d22f749e3e1d",
   "metadata": {},
   "outputs": [
    {
     "name": "stdout",
     "output_type": "stream",
     "text": [
      "%99.56896551724138\n"
     ]
    }
   ],
   "source": [
    "eusk = 0\n",
    "ez = []\n",
    "for text in eus_test:\n",
    "    badau = klasifikazio_boolearra(text,hiztegi_eus,hiztegi_ez_eus,-9)\n",
    "    if badau:\n",
    "        eusk += 1\n",
    "    else:\n",
    "        ez.append(text)\n",
    "print(f'%{100*eusk/len(eus_test)}')"
   ]
  },
  {
   "cell_type": "code",
   "execution_count": 351,
   "id": "707c2f1b-e745-462f-ba96-ef56f71a4106",
   "metadata": {},
   "outputs": [
    {
     "name": "stdout",
     "output_type": "stream",
     "text": [
      "%0.2908060547311908\n"
     ]
    }
   ],
   "source": [
    "eusk = 0\n",
    "bai = []\n",
    "for text in ez_eus_test:\n",
    "    badau = klasifikazio_boolearra(text,hiztegi_eus,hiztegi_ez_eus,-9)\n",
    "    if badau:\n",
    "        eusk += 1\n",
    "        bai.append(text)\n",
    "print(f'%{100*eusk/len(ez_eus_test)}')"
   ]
  },
  {
   "cell_type": "code",
   "execution_count": 352,
   "id": "30bcadd2-bee6-46fa-beb2-8835fca96aaf",
   "metadata": {},
   "outputs": [
    {
     "name": "stdout",
     "output_type": "stream",
     "text": [
      "U, seguin a taula.\n",
      "I tothom es va seure a taula\n",
      "Són tots visionaris molt pràctics.\n",
      "Moltes gràcies.\n",
      "I potser les històries són dades amb ànima.\n",
      "D'això es tracta.\n",
      "Jo vaig dir: \"bé, estic bé.\"\n",
      "(Riures) (Aplaudiment) Gràcies.\n",
      "Així és. Només certesa.\n",
      "Har du nogen anbefalinger?\"\n",
      "Nii ongi.\n",
      "Hvala.\n",
      "Ez a kapzsiságot jelenti.\n",
      "Ez őrület;\n",
      "Ez a második lépés.\n",
      "Ez elképesztően sok erőfeszítés.\n",
      "Valaki kérdezi, igaz-e ez vagy az a dolog.\n",
      "Ez egy fő tantárgy.\n",
      "Minek az alapjai?\n",
      "Ez őrültség.\n",
      "Tik tyla ir tiek.\n",
      "Ini benar-benar sebuah pencapaian yang tidak bisa diabaikan begitu saja.\n",
      "Tentu saja tidak.\n",
      "Tentu saja bukan sebuah pemerintahan demokratis.\n",
      "Tidak.\n",
      "Tidak.\n",
      "Tentu saja.\n",
      "Ia agak menarik.\n",
      "Ia agak menarik.\n",
      "Sebenarnya, jarak masanya tidak begitu jauh. Jarak masa itu terlalu jauh.\n",
      "Sebenarnya, jarak masanya tidak begitu jauh. Jarak masa itu terlalu jauh.\n",
      "Bayangkan enjin berbunyi klak, klak, klak, klak, klak, klak, klak\n",
      "Juruterbang telah pun berpatah balik, walaupun kita tidak berada begitu jauh pun.\n",
      "Hvala lepa.\n",
      "Da.\n",
      "Hvala lepa.\n",
      "Da!\n",
      "Hvala.\n",
      "Öyleyse bu durum bizi nereye getiriyor?\n"
     ]
    }
   ],
   "source": [
    "for text in bai:\n",
    "    print(text)\n",
    "    badau = klasifikazio_boolearra(text,hiztegi_eus,hiztegi_ez_eus,-9)"
   ]
  }
 ],
 "metadata": {
  "kernelspec": {
   "display_name": "Python 3 (ipykernel)",
   "language": "python",
   "name": "python3"
  },
  "language_info": {
   "codemirror_mode": {
    "name": "ipython",
    "version": 3
   },
   "file_extension": ".py",
   "mimetype": "text/x-python",
   "name": "python",
   "nbconvert_exporter": "python",
   "pygments_lexer": "ipython3",
   "version": "3.12.5"
  }
 },
 "nbformat": 4,
 "nbformat_minor": 5
}
