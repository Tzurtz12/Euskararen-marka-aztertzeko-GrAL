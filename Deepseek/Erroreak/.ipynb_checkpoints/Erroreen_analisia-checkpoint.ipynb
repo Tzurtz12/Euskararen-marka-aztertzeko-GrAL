{
 "cells": [
  {
   "cell_type": "code",
   "execution_count": 18,
   "id": "0d64fb68-8b61-4518-874b-1a37fe95a32e",
   "metadata": {},
   "outputs": [],
   "source": [
    "import json\n",
    "import random\n",
    "import ast"
   ]
  },
  {
   "cell_type": "markdown",
   "id": "b4b4e6be-05b4-47a7-bb2d-f48d9cde94b2",
   "metadata": {},
   "source": [
    "## Lehenengo sailkapenaren analisia:"
   ]
  },
  {
   "cell_type": "code",
   "execution_count": 23,
   "id": "b7615b1c-36d5-4542-89a5-66a82bfe8e88",
   "metadata": {},
   "outputs": [],
   "source": [
    "with open('berriak_sailkatuta.txt') as f:\n",
    "    lista_1 = [ast.literal_eval(line.strip()) for line in f]\n",
    "with open (\"./berriak_sailkatuta_2.jsonl\", \"r\") as file: #wikipedia\n",
    "    lista_2 = json.load(file) "
   ]
  },
  {
   "cell_type": "code",
   "execution_count": 24,
   "id": "8e21df8a-72ae-4d7e-97cf-99ca7244be02",
   "metadata": {},
   "outputs": [
    {
     "name": "stdout",
     "output_type": "stream",
     "text": [
      "267\n"
     ]
    }
   ],
   "source": [
    "ind = []\n",
    "for j in range(2000):\n",
    "    if lista_1[j][1] != lista_2[j][1] :\n",
    "        ind.append(j)\n",
    "print(len(ind))"
   ]
  },
  {
   "cell_type": "code",
   "execution_count": null,
   "id": "5599ec1c-73dc-48b9-b1c3-e470e2918c8a",
   "metadata": {},
   "outputs": [],
   "source": [
    "for j in ind:\n",
    "    print(lista_1[j][0])\n",
    "    print(lista_1[j][1])\n",
    "    print(lista_2[j][1])"
   ]
  },
  {
   "cell_type": "markdown",
   "id": "53b862fc-c230-4529-99f1-91b9efad4b32",
   "metadata": {},
   "source": [
    "### Lehen sailkapen definitiboa, sailkapen berdina egindako esaldiekin:"
   ]
  },
  {
   "cell_type": "code",
   "execution_count": 25,
   "id": "128b1c90-6437-42ed-accf-91b68f8dc3e8",
   "metadata": {},
   "outputs": [
    {
     "name": "stdout",
     "output_type": "stream",
     "text": [
      "1733\n"
     ]
    }
   ],
   "source": [
    "def_1 = []\n",
    "for i in range(2000):\n",
    "    if i not in ind:\n",
    "        def_1.append(lista_1[i])\n",
    "print(len(def_1))"
   ]
  },
  {
   "cell_type": "code",
   "execution_count": 26,
   "id": "40879985-e02b-433a-ac17-fdfe09e1b642",
   "metadata": {},
   "outputs": [],
   "source": [
    "with open(\"./berriak_sailkatuta_def_1.jsonl\",\"w\") as file:\n",
    "        json.dump(def_1,file)"
   ]
  },
  {
   "cell_type": "markdown",
   "id": "fad97115-98a8-4022-af46-0b893e207325",
   "metadata": {},
   "source": [
    "## Bigarren sailkapenaren analisia:"
   ]
  },
  {
   "cell_type": "code",
   "execution_count": 2,
   "id": "061d35d0-8df9-42b7-9414-e3e492b0e828",
   "metadata": {},
   "outputs": [],
   "source": [
    "with open('berriak_sailkatuta_b.txt') as f:\n",
    "    lista_1 = [ast.literal_eval(line.strip()) for line in f]\n",
    "with open('berriak_sailkatuta_b_2.txt') as f:\n",
    "    lista_2 = [ast.literal_eval(line.strip()) for line in f]"
   ]
  },
  {
   "cell_type": "code",
   "execution_count": 3,
   "id": "60dc84d4-c099-4ab0-b6a5-95ddcc7b732a",
   "metadata": {},
   "outputs": [
    {
     "name": "stdout",
     "output_type": "stream",
     "text": [
      "264\n"
     ]
    }
   ],
   "source": [
    "ind = []\n",
    "for j in range(2000):\n",
    "    if lista_1[j][1] != lista_2[j][1] :\n",
    "        ind.append(j)\n",
    "print(len(ind))"
   ]
  },
  {
   "cell_type": "markdown",
   "id": "60e35ef3-22a5-4e42-94ad-3a169539dc06",
   "metadata": {},
   "source": [
    "### Bigarren sailkapen definitiboa, sailkapen berdina egindako esaldiekin:"
   ]
  },
  {
   "cell_type": "code",
   "execution_count": 5,
   "id": "6dfb447d-60c4-4502-ab8d-0e09c17e7ed1",
   "metadata": {},
   "outputs": [
    {
     "name": "stdout",
     "output_type": "stream",
     "text": [
      "1736\n"
     ]
    }
   ],
   "source": [
    "def_2 = []\n",
    "for i in range(2000):\n",
    "    if i not in ind:\n",
    "        def_2.append(lista_1[i])\n",
    "print(len(def_2))"
   ]
  },
  {
   "cell_type": "code",
   "execution_count": 6,
   "id": "59201094-1376-4ce4-9e12-a687451a6096",
   "metadata": {},
   "outputs": [],
   "source": [
    "with open(\"./berriak_sailkatuta_def_2.jsonl\",\"w\") as file:\n",
    "        json.dump(def_2,file)"
   ]
  },
  {
   "cell_type": "code",
   "execution_count": 10,
   "id": "b8430073-dfa4-4246-a4e7-1cdc2e3280fd",
   "metadata": {},
   "outputs": [
    {
     "name": "stdout",
     "output_type": "stream",
     "text": [
      "3469\n"
     ]
    }
   ],
   "source": [
    "with open (\"./berriak_sailkatuta_def_1.jsonl\", \"r\") as file: #wikipedia\n",
    "    def_1 = json.load(file) \n",
    "with open (\"./berriak_sailkatuta_def_2.jsonl\", \"r\") as file: #wikipedia\n",
    "    def_2 = json.load(file) \n",
    "\n",
    "defi = def_1 + def_2\n",
    "print(len(defi))"
   ]
  },
  {
   "cell_type": "code",
   "execution_count": 11,
   "id": "2356f1b7-88de-4b8f-b3e4-0bff9ba0c4da",
   "metadata": {},
   "outputs": [],
   "source": [
    "with open(\"./berriak_sailkatuta_def.jsonl\",\"w\") as file:\n",
    "        json.dump(defi,file)"
   ]
  },
  {
   "cell_type": "markdown",
   "id": "0fccd5cd-c856-4472-812d-d8b6447c2c6b",
   "metadata": {},
   "source": [
    "## Hirugarren sailkapenaren analisia:"
   ]
  },
  {
   "cell_type": "code",
   "execution_count": 13,
   "id": "5c301d7b-6ba0-48d8-a1d8-2e1a58a7e12e",
   "metadata": {},
   "outputs": [],
   "source": [
    "with open('berriak_sailkatuta_c.txt') as f:\n",
    "    lista_1 = [ast.literal_eval(line.strip()) for line in f]\n",
    "with open('berriak_sailkatuta_c_2.txt') as f:\n",
    "    lista_2 = [ast.literal_eval(line.strip()) for line in f]"
   ]
  },
  {
   "cell_type": "code",
   "execution_count": 14,
   "id": "5decfda6-e7d0-4956-b02d-b889fea69922",
   "metadata": {},
   "outputs": [
    {
     "name": "stdout",
     "output_type": "stream",
     "text": [
      "303\n"
     ]
    }
   ],
   "source": [
    "ind = []\n",
    "for j in range(2000):\n",
    "    if lista_1[j][1] != lista_2[j][1] :\n",
    "        ind.append(j)\n",
    "print(len(ind))"
   ]
  },
  {
   "cell_type": "markdown",
   "id": "d7c58538-6d09-404d-9ca3-837aa9962258",
   "metadata": {},
   "source": [
    "### Hirugarren sailkapen definitiboa, sailkapen berdina egindako esaldiekin:"
   ]
  },
  {
   "cell_type": "code",
   "execution_count": 15,
   "id": "9d949e11-7c51-49e0-a085-13bdbfb8da70",
   "metadata": {},
   "outputs": [
    {
     "name": "stdout",
     "output_type": "stream",
     "text": [
      "1697\n"
     ]
    }
   ],
   "source": [
    "def_3 = []\n",
    "for i in range(2000):\n",
    "    if i not in ind:\n",
    "        def_3.append(lista_1[i])\n",
    "print(len(def_3))"
   ]
  },
  {
   "cell_type": "code",
   "execution_count": 16,
   "id": "0396e466-63a7-41a0-b2db-0eda2886a92e",
   "metadata": {},
   "outputs": [],
   "source": [
    "with open(\"./berriak_sailkatuta_def_3.jsonl\",\"w\") as file:\n",
    "        json.dump(def_3,file)"
   ]
  },
  {
   "cell_type": "markdown",
   "id": "783493f7-9f19-4aba-a440-c05cf65308f7",
   "metadata": {},
   "source": [
    "## Laugarren sailkapenaren analisia:"
   ]
  },
  {
   "cell_type": "code",
   "execution_count": 19,
   "id": "9fa25805-67e4-41cd-b6d1-f28745e2e0a8",
   "metadata": {},
   "outputs": [],
   "source": [
    "with open('berriak_sailkatuta_d.txt') as f:\n",
    "    lista_1 = [ast.literal_eval(line.strip()) for line in f]\n",
    "with open('berriak_sailkatuta_d_2.txt') as f:\n",
    "    lista_2 = [ast.literal_eval(line.strip()) for line in f]"
   ]
  },
  {
   "cell_type": "code",
   "execution_count": 20,
   "id": "a64a91a0-79c3-4c15-b768-73d903534a3f",
   "metadata": {},
   "outputs": [
    {
     "name": "stdout",
     "output_type": "stream",
     "text": [
      "277\n"
     ]
    }
   ],
   "source": [
    "ind = []\n",
    "for j in range(2000):\n",
    "    if lista_1[j][1] != lista_2[j][1] :\n",
    "        ind.append(j)\n",
    "print(len(ind))"
   ]
  },
  {
   "cell_type": "markdown",
   "id": "604a9374-2545-4f3e-86e9-f4b585608432",
   "metadata": {},
   "source": [
    "### Laugarren sailkapen definitiboa, sailkapen berdina egindako esaldiekin:"
   ]
  },
  {
   "cell_type": "code",
   "execution_count": 21,
   "id": "785472de-2829-43c7-98d4-217f784ef405",
   "metadata": {},
   "outputs": [
    {
     "name": "stdout",
     "output_type": "stream",
     "text": [
      "1723\n"
     ]
    }
   ],
   "source": [
    "def_4 = []\n",
    "for i in range(2000):\n",
    "    if i not in ind:\n",
    "        def_4.append(lista_1[i])\n",
    "print(len(def_4))"
   ]
  },
  {
   "cell_type": "code",
   "execution_count": 22,
   "id": "e6a97c50-dd34-4bbf-89de-ff89cf462e78",
   "metadata": {},
   "outputs": [],
   "source": [
    "with open(\"./berriak_sailkatuta_def_4.jsonl\",\"w\") as file:\n",
    "        json.dump(def_4,file)"
   ]
  },
  {
   "cell_type": "code",
   "execution_count": 27,
   "id": "041de6e7-9169-4cf6-a6db-e6c76e536c99",
   "metadata": {},
   "outputs": [
    {
     "name": "stdout",
     "output_type": "stream",
     "text": [
      "3394\n"
     ]
    }
   ],
   "source": [
    "with open (\"./berriak_sailkatuta_def_3.jsonl\", \"r\") as file: #wikipedia\n",
    "    def_3 = json.load(file) \n",
    "with open (\"./berriak_sailkatuta_def_3.jsonl\", \"r\") as file: #wikipedia\n",
    "    def_4 = json.load(file) \n",
    "\n",
    "defi = def_3 + def_4\n",
    "print(len(defi))"
   ]
  },
  {
   "cell_type": "code",
   "execution_count": 28,
   "id": "312ea5e4-dd4b-4bfb-b087-f42cba6ef892",
   "metadata": {},
   "outputs": [],
   "source": [
    "with open(\"./berriak_sailkatuta_def_b.jsonl\",\"w\") as file:\n",
    "        json.dump(defi,file)"
   ]
  }
 ],
 "metadata": {
  "kernelspec": {
   "display_name": "Python 3 (ipykernel)",
   "language": "python",
   "name": "python3"
  },
  "language_info": {
   "codemirror_mode": {
    "name": "ipython",
    "version": 3
   },
   "file_extension": ".py",
   "mimetype": "text/x-python",
   "name": "python",
   "nbconvert_exporter": "python",
   "pygments_lexer": "ipython3",
   "version": "3.12.5"
  }
 },
 "nbformat": 4,
 "nbformat_minor": 5
}
