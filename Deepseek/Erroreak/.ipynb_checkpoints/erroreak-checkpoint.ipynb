{
 "cells": [
  {
   "cell_type": "code",
   "execution_count": 45,
   "id": "1794d03b-84d1-445d-95cb-d8def2d41019",
   "metadata": {},
   "outputs": [],
   "source": [
    "import json\n",
    "import random\n",
    "import ast"
   ]
  },
  {
   "cell_type": "code",
   "execution_count": 46,
   "id": "83668d67-6bfe-4076-816a-72629437cb1d",
   "metadata": {},
   "outputs": [],
   "source": [
    "with open('berriak_sailkatuta.txt') as f:\n",
    "    lista = [ast.literal_eval(line.strip()) for line in f]"
   ]
  },
  {
   "cell_type": "code",
   "execution_count": 50,
   "id": "2a543092-55c1-4474-9469-6a6e5aeb3be0",
   "metadata": {},
   "outputs": [],
   "source": [
    "zenb = []\n",
    "while True:\n",
    "    num = random.randint(0,2000)\n",
    "    if num not in zenb:\n",
    "        zenb.append(num)\n",
    "    if len(zenb) == 100:\n",
    "        break\n",
    "    "
   ]
  },
  {
   "cell_type": "code",
   "execution_count": 26,
   "id": "26205c0a-426d-45aa-9213-98a7223f21b4",
   "metadata": {},
   "outputs": [
    {
     "name": "stdout",
     "output_type": "stream",
     "text": [
      "100\n"
     ]
    }
   ],
   "source": [
    "print(len(set(zenb)))"
   ]
  },
  {
   "cell_type": "code",
   "execution_count": 51,
   "id": "842ae14d-6b48-4c59-9577-e530208a8b9a",
   "metadata": {},
   "outputs": [],
   "source": [
    "sailkapen = []\n",
    "for i in zenb:\n",
    "    sailkapen.append(lista[i])"
   ]
  },
  {
   "cell_type": "code",
   "execution_count": 52,
   "id": "ae658996-5125-44c5-bb11-94f9a9595276",
   "metadata": {},
   "outputs": [],
   "source": [
    "klasifikazioa = [\n",
    "    \"Zientzia eta teknologia\",\n",
    "    \"Ekonomia\",\n",
    "    \"Politika\",\n",
    "    \"Gizartea\",\n",
    "    \"Geografia\",\n",
    "    \"Historia\",\n",
    "    \"Kirola\"]"
   ]
  },
  {
   "cell_type": "code",
   "execution_count": 178,
   "id": "a89de90e-5baa-423d-9ce7-0a5160373c0d",
   "metadata": {},
   "outputs": [
    {
     "name": "stdout",
     "output_type": "stream",
     "text": [
      "('Aspaldi ez dela, Golden Warriors maitatzeko mila modu ezagutzen zituen NBAko zaleak: bosteko gaztea, baloi zirkulazio arina, aparkalekutik sartutako hirukoak. Egun, ordea, hura gorrotatzeko mila modu okurritzen zaizkio NBAko zaleari. Eta, bat-batean, Darth Vader traza ere sumatzen dio azken hiru urteetan bi bider txapeldun izandakoari. Lehendik zuen taldeari Kevin Durant erantsi izana, Draymond Greenen azpikeria nekagarriak eta gero eta banakako jokaldi gehiago gehitu zaizkio. Bigarren urtez jarraian, ikusle neutralaren babesik gabe ekingo dio Golden Statek finalari. Aurkariaren liderraren epopeia zapuztea izango da Steve Kerr entrenatzailearen lehentasuna, iraganean James egoki defendatu duten Durant eta Andre Iguodala gainean ipinita —azkena min hartuta dago—. James lurtar batekin, finala tramite burokratiko bizkor bilakatuko litzateke.', 'Kirola')\n"
     ]
    }
   ],
   "source": [
    "print(sailkapen[2])"
   ]
  },
  {
   "cell_type": "code",
   "execution_count": 172,
   "id": "8b4c57d9-037d-43d5-9919-23e66b985365",
   "metadata": {},
   "outputs": [],
   "source": [
    "Nire_sailkapena=[\n",
    "    \"Gizartea/Other\",\n",
    "    \"Gizartea/Other\",\n",
    "    \"Kirola\",\n",
    "    \"Geografia/Other\",\n",
    "    \"Gizartea\",\n",
    "    \"Politika/Gizartea\",\n",
    "    \"Gizartea\",\n",
    "    \"Gizartea\",\n",
    "    \"Gizartea\",\n",
    "    \"Kirola\",\n",
    "    \"Other\",\n",
    "    \"Kirola\",\n",
    "    \"Kirola\",\n",
    "    \"Gizartea\",\n",
    "    \"Kirola\",\n",
    "    \"Politika\",\n",
    "    \"Gizartea\",\n",
    "    \"Kirola\",\n",
    "    \"Gizartea\",\n",
    "    \"Gizartea\",\n",
    "    \"Politika/Other\",\n",
    "    \"Other\",\n",
    "    \"Gizartea\",\n",
    "    \"Politika\",\n",
    "    \"Gizartea\",\n",
    "    \"Gizartea\",\n",
    "    \"Gizartea\",\n",
    "    \"Gizartea\",\n",
    "    \"Historia\",\n",
    "    \"Politika\", \n",
    "    \"Gizartea/Other\",\n",
    "    \"Gizartea\",\n",
    "    \"Gizartea\",\n",
    "    \"Politika\",\n",
    "    \"Gizartea\",\n",
    "    \"Politika/Gizartea\",\n",
    "    \"Politika\",\n",
    "    \"Gizartea\",\n",
    "    \"Geografia/Other\",\n",
    "    \"Kirola\",\n",
    "    \"Kirola\",\n",
    "    \"Politika/Gizartea\",\n",
    "    \"Politika\", \n",
    "    \"Zientzia eta teknologia\",\n",
    "    \"Ekonomia/Gizartea\",\n",
    "    \"Other\",\n",
    "    \"Gizartea\",\n",
    "    \"Politika\", \n",
    "    \"Zientzia eta teknologia\",\n",
    "    \"Politika\", \n",
    "    \"Gizartea\",\n",
    "    \"Politika/Gizartea\",\n",
    "    \"Gizartea\",\n",
    "    \"Gizartea/Other\",\n",
    "    \"Politika\",\n",
    "    \"Other\",\n",
    "    \"Politika\",\n",
    "    \"Politika\",\n",
    "    \"Gizartea/Other\",\n",
    "    \"Gizartea/Other\",\n",
    "    \"Gizartea\",\n",
    "    \"Ekonomia\",\n",
    "    \"Gizartea\",\n",
    "    \"Politika\",\n",
    "    \"Kirola\",\n",
    "    \"Politika\",\n",
    "    \"Gizartea\",\n",
    "    \"Gizartea/Other\",\n",
    "    \"Kirola\",\n",
    "    \"Gizartea\",\n",
    "    \"Politika\",\n",
    "    \"Other\",\n",
    "    \"Politika/Gizartea\",\n",
    "    \"Kirola\",\n",
    "    \"Other\",\n",
    "    \"Kirola\",\n",
    "    \"Politika\",\n",
    "    \"Gizartea/Other\",\n",
    "    \"Ekonomia\",\n",
    "    \"Gizartea\",\n",
    "    \"Gizartea/Other\",\n",
    "    \"Gizartea/Other\",\n",
    "    \"Gizartea/Other\",\n",
    "    \"Gizartea\",\n",
    "    \"Gizartea/Other\",\n",
    "    \"Gizartea/Other\",\n",
    "    \"Politika\",\n",
    "    \"Politika/Gizartea\",\n",
    "    \"Other\",\n",
    "    \"Other\",\n",
    "    \"Gizartea\",\n",
    "    \"Gizartea\",\n",
    "    \"Politika/Gizartea\",\n",
    "    \"Gizartea/Other\",\n",
    "    \"Gizartea/Other\",\n",
    "    \"Gizartea/Other\",\n",
    "    \"Ekonomia\",\n",
    "    \"Other\",\n",
    "    \"Other\",\n",
    "    \"Gizartea/Other\"\n",
    "]"
   ]
  },
  {
   "cell_type": "code",
   "execution_count": 173,
   "id": "011c59cb-53df-480a-8a8f-851a55be3e2c",
   "metadata": {},
   "outputs": [
    {
     "name": "stdout",
     "output_type": "stream",
     "text": [
      "100\n"
     ]
    }
   ],
   "source": [
    "print(len(Nire_sailkapena))"
   ]
  },
  {
   "cell_type": "code",
   "execution_count": 190,
   "id": "702a8fc7-5f31-431a-91a5-ee659d6242b0",
   "metadata": {},
   "outputs": [
    {
     "name": "stdout",
     "output_type": "stream",
     "text": [
      "Hilero bezala, gaur aterako dira Kalez Kale Kantarin aritzen diren kideak, Kaxkoko kaleak alaitzera. 12:30etan abiatuko dira Plaza Berritik, eta kaleetan barrena ibiliko dira, bazkalordura arte.\n",
      "Gizartea\n",
      "Gizartea\n",
      "Ikastolen Elkarteak ezohiko batzar bat egin du asteazkenean Araba, Bizkaia eta Gipuzkoako ikastolekin. Hezkuntza Sailaren onarpen aginduan jasotako zenbait punturen aurka agertu dira eta exijitu dute Euskal Hezkuntza Sistema osatzen duten ikastetxe guztiek matrikulaziorako baldintza berak izatea.\n",
      "Gizartea\n",
      "Politika/Gizartea\n",
      "Egun gogorrak izan ziren guretzat Benta tabernaren historiaren amaieraz jabetzen ari ginelako. Baina hor zeundeten zuek, guri benetako babesa ematen.Egia esan, ez genuen espero horrelako amaiera polita eskainiko zenigutenik: opariak, malkoak, hitz politak, eskertzak…Lerro hauen bidez, gure eskerrik beroena eman nahi dizuegu hainbeste urtetan tabernan ibiltzeagatik eta azkeneko egunetan gure ondoan egoteagatik. Bene-benetan mila esker guztioi!”Benta Tabernako langileak\n",
      "Gizartea\n",
      "Gizartea/Other\n",
      "Espeleologo guztien arazoa da, Gorosabelek azaldu duenez. «Ez dago espeleologo profesionalik». Armintxeko altxorra aurkitu dutenek beste zerbaitez bizi dira: bat peoia da adreilu lantegi batean; besteak, abokatuak, sukaldariak, delineatzaileak... eta fisioterapeuta, noski.\n",
      "Gizartea\n",
      "Gizartea/Other\n",
      "Makal gabiltza irakurleetan. Irakurle onak dauzkagu, baina gutxi. Zergatik? Seguru asko, denbora faltan gabiltzalako, eginkizun gehiegirekin, eta estimulu askorekin: pare bat orduan ekintza bakar batean egoteko zailtasunak ditugu. Pantailaz inguratuta gaude. Ez da gauza bera pelikula bat etxean edo zinema aretoan ikustea, aretoan alboratu egiten baita inguruko dena, eta kontatzen ari diren istorioan zentratzen baitzara. Liburuekin, berriz, bakoitzak  jarri behar du kontzentrazioa, eta geroz eta zailagoa da hori. Ez gurean bakarrik; esango nuke Mendebalde osoaren arazoa dela.\n",
      "Gizartea\n",
      "Gizartea/Other\n",
      " Koronabirusaren testuinguruaren eraginez, Lauak-en aktibitate ekonomikoaren apaltzearen ondorioz datoz kanporaketak –lan eskaerak %40 jaitsi zaizkie aurten–. Zuzendaritzak zehazten duenez, %50 jaitsi da bere aktibitatea 2020an. 2019an 160 milioi euro irabazi bazituen, aurten 100 milioi irabaziko lituzke. Aeronotikaren sektorean dabilen enpresa da Lauak, hegazkinentzako piezak ekoizten dabilena. Enpresa euskalduna da, 1975ean sorturikoa eta lantegi gehiago ditu Okzitanian, Portugalen, Mexikon, Kanadan eta Indian.\n",
      "Ekonomia\n",
      "Ekonomia\n",
      "Fatuarteren ustez, udal gobernuak amiantoa dagoen elementuen inbentario bat egin, plangintza bat abian jarri eta gardentasunez jokatu behar du, \"eskumenen aitzakietan ezkutatu gabe\".\n",
      "Gizartea\n",
      "Other\n",
      " Mizpira da fruitu horietako bat,  Mespilus germanica . Berezko mizpirarik ez dut ezagutzen. Inoiz jakiterik ez dut lortu, baina hazitik erabat antzua ote espezie hau? Mizpira izatekotan beste landareren baten gainean txertatutakoa behar du: irasagarrondoa ( Cydonia oblonga ), elorri zuria ( Crataegus  spp.), udareondoa ( Pyrus communis ), maaltza ( Pyrus cordata ), mizpirondo japoniarra ( Eryobotria japonica ), nashi udareondoa ( Pyrus pyrifolia ) eta gurbea ( Sorbus domestica ). Mizpirak ez du helduta irauteko ohitura; ia ondu aurretik usteltzen hasten da. Zoritu gabe hirotzeko joera horrek ez du, ordea, fruitua alferrik galtzen: usteltzen ari denean da gozoena; gaur egungo ahosabaietarako harrigarri gerta daiteke, baina ahozurienentzat apeta da.   \n",
      "Other\n",
      "Other\n",
      "Egileen arabera, 80 hamarkadan \"emakumeak eszenarioetan hartzen duen lekuari buruzko dokumentala\" da. Usua Garin, Andrea Lopetegi eta Izotz Barrio zarauztarrek ekoiztu dute Lourdes Olangua abeslariari buruzko ikus-entzunezkoa, eta Etxeluzen izango dira biharko emanaldian.\n",
      "Gizartea\n",
      "Gizartea/Other\n"
     ]
    }
   ],
   "source": [
    "for j in range(91,100):\n",
    "    print(sailkapen[j][0])\n",
    "    print(sailkapen[j][1])\n",
    "    print(Nire_sailkapena[j])"
   ]
  }
 ],
 "metadata": {
  "kernelspec": {
   "display_name": "Python 3 (ipykernel)",
   "language": "python",
   "name": "python3"
  },
  "language_info": {
   "codemirror_mode": {
    "name": "ipython",
    "version": 3
   },
   "file_extension": ".py",
   "mimetype": "text/x-python",
   "name": "python",
   "nbconvert_exporter": "python",
   "pygments_lexer": "ipython3",
   "version": "3.12.5"
  }
 },
 "nbformat": 4,
 "nbformat_minor": 5
}
