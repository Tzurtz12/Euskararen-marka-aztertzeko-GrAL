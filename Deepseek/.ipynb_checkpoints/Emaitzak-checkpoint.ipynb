{
 "cells": [
  {
   "cell_type": "code",
   "execution_count": 26,
   "id": "dab84dad-f5e5-4617-816c-cf6d51cb6898",
   "metadata": {},
   "outputs": [
    {
     "name": "stdout",
     "output_type": "stream",
     "text": [
      "Total: 22\n",
      "  Geografia: 2\n",
      "  Gizartea: 6\n",
      "  Historia: 1\n",
      "  Kirola: 4\n",
      "  Other: 2\n",
      "  Politika: 7\n"
     ]
    }
   ],
   "source": [
    "from collections import Counter\n",
    "with open('berriak_sailkatuta.txt') as f:\n",
    "    c = Counter( eval(line)[1] for line in f)\n",
    "print(f'Total: {c.total()}')\n",
    "for k,v in sorted(c.items()):\n",
    "    print(f'  {k}: {v}')"
   ]
  },
  {
   "cell_type": "code",
   "execution_count": 23,
   "id": "8ae851aa-58f6-402e-8c96-7918b686b6b7",
   "metadata": {},
   "outputs": [
    {
     "data": {
      "text/plain": [
       "2000"
      ]
     },
     "execution_count": 23,
     "metadata": {},
     "output_type": "execute_result"
    }
   ],
   "source": [
    "import json\n",
    "with open (\"zelaiHandi_berriak_ds.jsonl\", \"r\") as file: #wikipedia\n",
    "    berriak = json.load(file) \n",
    "len(berriak)"
   ]
  }
 ],
 "metadata": {
  "kernelspec": {
   "display_name": "Python 3 (ipykernel)",
   "language": "python",
   "name": "python3"
  },
  "language_info": {
   "codemirror_mode": {
    "name": "ipython",
    "version": 3
   },
   "file_extension": ".py",
   "mimetype": "text/x-python",
   "name": "python",
   "nbconvert_exporter": "python",
   "pygments_lexer": "ipython3",
   "version": "3.12.5"
  }
 },
 "nbformat": 4,
 "nbformat_minor": 5
}
