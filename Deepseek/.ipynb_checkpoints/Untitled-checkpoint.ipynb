{
 "cells": [
  {
   "cell_type": "code",
   "execution_count": 2,
   "id": "111f63d5-d45c-4518-90fb-1fe97521eed0",
   "metadata": {},
   "outputs": [],
   "source": [
    "import json\n",
    "\n",
    "filename=\"wiki_50_sailkatuta.jsonl\"\n",
    "with open(filename) as json_data:\n",
    "    d = json.load(json_data)"
   ]
  },
  {
   "cell_type": "code",
   "execution_count": 8,
   "id": "00b04686-c3f2-4ff8-97cb-70f9833c99e5",
   "metadata": {},
   "outputs": [
    {
     "data": {
      "text/plain": [
       "Counter({'Politika  ': 24,\n",
       "         'Historia  ': 12,\n",
       "         'Gai sozialak  ': 6,\n",
       "         'Zientzia eta teknologia  ': 3,\n",
       "         'Geografia  ': 3,\n",
       "         'Ekonomia  ': 2})"
      ]
     },
     "execution_count": 8,
     "metadata": {},
     "output_type": "execute_result"
    }
   ],
   "source": [
    "from collections import Counter\n",
    "Counter(c for _,c in d)"
   ]
  },
  {
   "cell_type": "code",
   "execution_count": 9,
   "id": "47a64ab0-d708-48cf-b570-82d26bd03af0",
   "metadata": {},
   "outputs": [],
   "source": [
    "with open (\"./zelaiHandi_wiki_ds.jsonl\", \"r\") as file: #wikipedia\n",
    "    wiki_ds = json.load(file) "
   ]
  },
  {
   "cell_type": "code",
   "execution_count": 13,
   "id": "b1503faf-1c37-44ea-add5-b8c75f91c63f",
   "metadata": {},
   "outputs": [
    {
     "data": {
      "text/plain": [
       "[2024, 2358, 2149, 2225, 2353, 2036, 2415, 2146, 2208, 2028]"
      ]
     },
     "execution_count": 13,
     "metadata": {},
     "output_type": "execute_result"
    }
   ],
   "source": [
    "[len(txt) for txt in wiki_ds][:10]"
   ]
  },
  {
   "cell_type": "code",
   "execution_count": 14,
   "id": "46405570-650c-4614-a9dd-c6eebdcb4e20",
   "metadata": {},
   "outputs": [
    {
     "data": {
      "text/plain": [
       "[2002, 2002, 2003, 2005, 2006, 2006, 2007, 2007, 2008, 2009]"
      ]
     },
     "execution_count": 14,
     "metadata": {},
     "output_type": "execute_result"
    }
   ],
   "source": [
    "wiki_ds.sort(key=len)\n",
    "[len(txt) for txt in wiki_ds][:10]"
   ]
  }
 ],
 "metadata": {
  "kernelspec": {
   "display_name": "Python 3 (ipykernel)",
   "language": "python",
   "name": "python3"
  },
  "language_info": {
   "codemirror_mode": {
    "name": "ipython",
    "version": 3
   },
   "file_extension": ".py",
   "mimetype": "text/x-python",
   "name": "python",
   "nbconvert_exporter": "python",
   "pygments_lexer": "ipython3",
   "version": "3.12.5"
  }
 },
 "nbformat": 4,
 "nbformat_minor": 5
}
