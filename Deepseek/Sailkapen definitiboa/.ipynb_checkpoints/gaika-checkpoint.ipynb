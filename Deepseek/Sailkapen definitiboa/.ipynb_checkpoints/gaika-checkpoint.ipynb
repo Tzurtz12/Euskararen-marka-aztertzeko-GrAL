{
 "cells": [
  {
   "cell_type": "code",
   "execution_count": 21,
   "id": "60532aa3-7a54-47bb-a9a7-7e3fa311a956",
   "metadata": {},
   "outputs": [],
   "source": [
    "import json"
   ]
  },
  {
   "cell_type": "code",
   "execution_count": 23,
   "id": "c0308bf2-7867-49b9-b5f5-c8c6a654caf6",
   "metadata": {},
   "outputs": [],
   "source": [
    "with open (\"./berriak_sailkatuta_def_b.jsonl\", \"r\") as file: #wikipedia\n",
    "    zerrenda = json.load(file) "
   ]
  },
  {
   "cell_type": "code",
   "execution_count": 24,
   "id": "4ead6d19-e637-42ec-b049-bbe6f185872a",
   "metadata": {},
   "outputs": [
    {
     "data": {
      "text/plain": [
       "Counter({'Gizartea': 1528,\n",
       "         'Politika': 682,\n",
       "         'Kirola': 494,\n",
       "         'Ekonomia': 238,\n",
       "         'Zientzia eta teknologia': 150,\n",
       "         'Other': 134,\n",
       "         'Historia': 102,\n",
       "         'Geografia': 66})"
      ]
     },
     "execution_count": 24,
     "metadata": {},
     "output_type": "execute_result"
    }
   ],
   "source": [
    "from collections import Counter\n",
    "Counter(c for _,c in zerrenda)"
   ]
  },
  {
   "cell_type": "code",
   "execution_count": 25,
   "id": "bd10ddaf-eb27-43fb-a81b-98fa3c84f5d8",
   "metadata": {},
   "outputs": [
    {
     "name": "stdout",
     "output_type": "stream",
     "text": [
      "1528\n",
      "682\n",
      "494\n",
      "66\n",
      "238\n",
      "150\n",
      "102\n",
      "134\n"
     ]
    }
   ],
   "source": [
    "Gizartea = []\n",
    "Politika = []\n",
    "Kirola = []\n",
    "Ekonomia = []\n",
    "Zientzia_eta_teknologia = []\n",
    "Historia = [] \n",
    "Other = [] \n",
    "Geografia = []\n",
    "\n",
    "for esaldi in zerrenda:\n",
    "    match esaldi[1]:\n",
    "        case 'Gizartea':\n",
    "            Gizartea.append(esaldi[0])\n",
    "        case 'Politika':\n",
    "            Politika.append(esaldi[0])\n",
    "        case 'Kirola':\n",
    "            Kirola.append(esaldi[0])\n",
    "        case 'Geografia':\n",
    "            Geografia.append(esaldi[0])\n",
    "        case 'Ekonomia':\n",
    "            Ekonomia.append(esaldi[0])\n",
    "        case 'Zientzia eta teknologia':\n",
    "            Zientzia_eta_teknologia.append(esaldi[0])\n",
    "        case 'Historia':\n",
    "            Historia.append(esaldi[0])\n",
    "        case 'Other':\n",
    "            Other.append(esaldi[0])\n",
    "print(len(Gizartea))\n",
    "print(len(Politika))\n",
    "print(len(Kirola))\n",
    "print(len(Geografia))\n",
    "print(len(Ekonomia))\n",
    "print(len(Zientzia_eta_teknologia))\n",
    "print(len(Historia))\n",
    "print(len(Other))\n"
   ]
  },
  {
   "cell_type": "code",
   "execution_count": 26,
   "id": "32f96113-e2fa-4d09-ade1-6a3d7aaa19cf",
   "metadata": {},
   "outputs": [],
   "source": [
    "with open(\"./gizartea_2.jsonl\",\"w\") as file:\n",
    "        json.dump(Gizartea,file)\n",
    "with open(\"./politika_2.jsonl\",\"w\") as file:\n",
    "        json.dump(Politika,file)\n",
    "with open(\"./kirola_2.jsonl\",\"w\") as file:\n",
    "        json.dump(Kirola,file)\n",
    "with open(\"./geografia_2.jsonl\",\"w\") as file:\n",
    "        json.dump(Geografia,file)\n",
    "with open(\"./ekonomia_2.jsonl\",\"w\") as file:\n",
    "        json.dump(Ekonomia,file)\n",
    "with open(\"./zientzia_teknologia_2.jsonl\",\"w\") as file:\n",
    "        json.dump(Zientzia_eta_teknologia,file)\n",
    "with open(\"./historia_2.jsonl\",\"w\") as file:\n",
    "        json.dump(Historia,file)\n",
    "with open(\"./other_2.jsonl\",\"w\") as file:\n",
    "        json.dump(Other,file)"
   ]
  }
 ],
 "metadata": {
  "kernelspec": {
   "display_name": "Python 3 (ipykernel)",
   "language": "python",
   "name": "python3"
  },
  "language_info": {
   "codemirror_mode": {
    "name": "ipython",
    "version": 3
   },
   "file_extension": ".py",
   "mimetype": "text/x-python",
   "name": "python",
   "nbconvert_exporter": "python",
   "pygments_lexer": "ipython3",
   "version": "3.12.5"
  }
 },
 "nbformat": 4,
 "nbformat_minor": 5
}
