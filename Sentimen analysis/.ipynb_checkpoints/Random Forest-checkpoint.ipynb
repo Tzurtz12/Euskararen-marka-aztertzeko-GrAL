{
 "cells": [
  {
   "cell_type": "markdown",
   "id": "7ff7d424-a99c-4e6c-a4b9-2d8e6e1246fc",
   "metadata": {},
   "source": [
    "# Random Forest:\n",
    "\n",
    "Sentimenduen sailkapena:\n",
    "* Positiboa --> 0\n",
    "* Neutroa --> 1\n",
    "* Negatiboa --> 2"
   ]
  },
  {
   "cell_type": "code",
   "execution_count": 18,
   "id": "64b9cba5-1260-425d-9df1-151fdbc95c3f",
   "metadata": {},
   "outputs": [],
   "source": [
    "import numpy as np\n",
    "from sklearn.model_selection import GridSearchCV\n",
    "from sklearn.utils._testing import ignore_warnings\n",
    "from sklearn.exceptions import ConvergenceWarning\n",
    "from sklearn.model_selection import train_test_split\n",
    "from sklearn.ensemble import RandomForestClassifier\n",
    "from sklearn.metrics import accuracy_score\n",
    "from sklearn.datasets import make_classification"
   ]
  },
  {
   "cell_type": "code",
   "execution_count": 14,
   "id": "c088b3cb-f577-461d-ae1c-06ad31c35cb3",
   "metadata": {},
   "outputs": [],
   "source": [
    "with open('Data/Forms/X_train.bin', 'rb') as f:\n",
    "    X_train = np.load(f)\n",
    "with open('Data/Forms/X_test.bin', 'rb') as f:\n",
    "    X_test = np.load(f)\n",
    "with open('Data/Forms/y_train.bin', 'rb') as f:\n",
    "    y_train = np.load(f)\n",
    "with open('Data/Forms/y_test.bin', 'rb') as f:\n",
    "    y_test = np.load(f)\n",
    "class Dataset:\n",
    "    def __init__(self, X_train, X_test, y_train, y_test):\n",
    "        self.X_train = X_train\n",
    "        self.X_test = X_test\n",
    "        self.y_train = y_train\n",
    "        self.y_test = y_test\n",
    "data = Dataset(X_train, X_test, y_train, y_test)"
   ]
  },
  {
   "cell_type": "code",
   "execution_count": 19,
   "id": "21fc40cc-ab40-4c86-aad1-7d1fda2a4480",
   "metadata": {},
   "outputs": [],
   "source": [
    "with open('Data/X_train.bin', 'rb') as f:\n",
    "    X_train = np.load(f)\n",
    "with open('Data/X_test.bin', 'rb') as f:\n",
    "    X_test = np.load(f)\n",
    "with open('Data/y_train.bin', 'rb') as f:\n",
    "    y_train = np.load(f)\n",
    "with open('Data/y_test.bin', 'rb') as f:\n",
    "    y_test = np.load(f)\n",
    "class Dataset:\n",
    "    def __init__(self, X_train, X_test, y_train, y_test):\n",
    "        self.X_train = X_train\n",
    "        self.X_test = X_test\n",
    "        self.y_train = y_train\n",
    "        self.y_test = y_test\n",
    "data = Dataset(X_train, X_test, y_train, y_test)"
   ]
  },
  {
   "cell_type": "code",
   "execution_count": 20,
   "id": "fcf6d503-7e47-460b-aa36-b50cf350e9b3",
   "metadata": {},
   "outputs": [],
   "source": [
    "def score(data, model):\n",
    "    y_pred = model.predict(data.X_test)\n",
    "    return accuracy_score(data.y_test, y_pred)\n",
    "    \n",
    "@ignore_warnings(category=ConvergenceWarning)\n",
    "def fit_score(data, model):\n",
    "    model.fit(data.X_train, data.y_train)\n",
    "    return score(data, model)"
   ]
  },
  {
   "cell_type": "code",
   "execution_count": 21,
   "id": "7eda6c60-8fb8-4d98-9d33-b9ba139e2e44",
   "metadata": {},
   "outputs": [],
   "source": [
    "@ignore_warnings(category=ConvergenceWarning)\n",
    "def search_hyperparameters(data, model, param_grid, cv=5, verbose=0):\n",
    "    grid_search = GridSearchCV(estimator=model, param_grid=param_grid,\n",
    "                               cv=cv,scoring='accuracy',verbose=verbose\n",
    "    )\n",
    "    grid_search.fit(data.X_train,data.y_train)\n",
    "    return grid_search"
   ]
  },
  {
   "cell_type": "code",
   "execution_count": 8,
   "id": "8917d9ab-788a-4da7-b38c-3c9902b336c9",
   "metadata": {},
   "outputs": [
    {
     "name": "stdout",
     "output_type": "stream",
     "text": [
      "Fitting 5 folds for each of 9 candidates, totalling 45 fits\n",
      "[CV] END .......................criterion=gini, max_depth=10; total time=   0.8s\n",
      "[CV] END .......................criterion=gini, max_depth=10; total time=   0.8s\n",
      "[CV] END .......................criterion=gini, max_depth=10; total time=   0.8s\n",
      "[CV] END .......................criterion=gini, max_depth=10; total time=   0.8s\n",
      "[CV] END .......................criterion=gini, max_depth=10; total time=   0.8s\n",
      "[CV] END .......................criterion=gini, max_depth=15; total time=   0.8s\n",
      "[CV] END .......................criterion=gini, max_depth=15; total time=   0.9s\n",
      "[CV] END .......................criterion=gini, max_depth=15; total time=   0.8s\n",
      "[CV] END .......................criterion=gini, max_depth=15; total time=   0.8s\n",
      "[CV] END .......................criterion=gini, max_depth=15; total time=   0.8s\n",
      "[CV] END .......................criterion=gini, max_depth=20; total time=   0.8s\n",
      "[CV] END .......................criterion=gini, max_depth=20; total time=   0.8s\n",
      "[CV] END .......................criterion=gini, max_depth=20; total time=   0.8s\n",
      "[CV] END .......................criterion=gini, max_depth=20; total time=   0.8s\n",
      "[CV] END .......................criterion=gini, max_depth=20; total time=   0.8s\n",
      "[CV] END ....................criterion=entropy, max_depth=10; total time=   1.2s\n",
      "[CV] END ....................criterion=entropy, max_depth=10; total time=   1.2s\n",
      "[CV] END ....................criterion=entropy, max_depth=10; total time=   1.2s\n",
      "[CV] END ....................criterion=entropy, max_depth=10; total time=   1.2s\n",
      "[CV] END ....................criterion=entropy, max_depth=10; total time=   1.2s\n",
      "[CV] END ....................criterion=entropy, max_depth=15; total time=   1.2s\n",
      "[CV] END ....................criterion=entropy, max_depth=15; total time=   1.2s\n",
      "[CV] END ....................criterion=entropy, max_depth=15; total time=   1.2s\n",
      "[CV] END ....................criterion=entropy, max_depth=15; total time=   1.2s\n",
      "[CV] END ....................criterion=entropy, max_depth=15; total time=   1.2s\n",
      "[CV] END ....................criterion=entropy, max_depth=20; total time=   1.2s\n",
      "[CV] END ....................criterion=entropy, max_depth=20; total time=   1.2s\n",
      "[CV] END ....................criterion=entropy, max_depth=20; total time=   1.2s\n",
      "[CV] END ....................criterion=entropy, max_depth=20; total time=   1.2s\n",
      "[CV] END ....................criterion=entropy, max_depth=20; total time=   1.2s\n",
      "[CV] END ...................criterion=log_loss, max_depth=10; total time=   1.2s\n",
      "[CV] END ...................criterion=log_loss, max_depth=10; total time=   1.2s\n",
      "[CV] END ...................criterion=log_loss, max_depth=10; total time=   1.2s\n",
      "[CV] END ...................criterion=log_loss, max_depth=10; total time=   1.2s\n",
      "[CV] END ...................criterion=log_loss, max_depth=10; total time=   1.2s\n",
      "[CV] END ...................criterion=log_loss, max_depth=15; total time=   1.2s\n",
      "[CV] END ...................criterion=log_loss, max_depth=15; total time=   1.2s\n",
      "[CV] END ...................criterion=log_loss, max_depth=15; total time=   1.2s\n",
      "[CV] END ...................criterion=log_loss, max_depth=15; total time=   1.2s\n",
      "[CV] END ...................criterion=log_loss, max_depth=15; total time=   1.2s\n",
      "[CV] END ...................criterion=log_loss, max_depth=20; total time=   1.2s\n",
      "[CV] END ...................criterion=log_loss, max_depth=20; total time=   1.2s\n",
      "[CV] END ...................criterion=log_loss, max_depth=20; total time=   1.2s\n",
      "[CV] END ...................criterion=log_loss, max_depth=20; total time=   1.2s\n",
      "[CV] END ...................criterion=log_loss, max_depth=20; total time=   1.2s\n",
      "grid_search.best_params_ = {'criterion': 'gini', 'max_depth': 15}\n",
      "grid_search.best_score_ = np.float64(0.7313067784765898)\n"
     ]
    }
   ],
   "source": [
    "params = {\n",
    "    'criterion' : ['gini', 'entropy', 'log_loss'], \n",
    "    'max_depth' : [10, 15, 20]          \n",
    "}\n",
    "model = RandomForestClassifier(random_state=42)\n",
    "grid_search = search_hyperparameters(data, model, params, verbose=2)\n",
    "print(f'{grid_search.best_params_ = }')\n",
    "print(f'{grid_search.best_score_ = }')"
   ]
  },
  {
   "cell_type": "code",
   "execution_count": 9,
   "id": "dec0cdd6-1fb9-49d8-bf14-b54fd3f2747e",
   "metadata": {},
   "outputs": [
    {
     "name": "stdout",
     "output_type": "stream",
     "text": [
      "Fitting 5 folds for each of 18 candidates, totalling 90 fits\n",
      "[CV] END .......................criterion=gini, max_depth=10; total time=   0.8s\n",
      "[CV] END .......................criterion=gini, max_depth=10; total time=   0.8s\n",
      "[CV] END .......................criterion=gini, max_depth=10; total time=   0.8s\n",
      "[CV] END .......................criterion=gini, max_depth=10; total time=   0.8s\n",
      "[CV] END .......................criterion=gini, max_depth=10; total time=   0.9s\n",
      "[CV] END .......................criterion=gini, max_depth=11; total time=   0.8s\n",
      "[CV] END .......................criterion=gini, max_depth=11; total time=   0.9s\n",
      "[CV] END .......................criterion=gini, max_depth=11; total time=   0.8s\n",
      "[CV] END .......................criterion=gini, max_depth=11; total time=   0.8s\n",
      "[CV] END .......................criterion=gini, max_depth=11; total time=   0.8s\n",
      "[CV] END .......................criterion=gini, max_depth=12; total time=   0.8s\n",
      "[CV] END .......................criterion=gini, max_depth=12; total time=   0.8s\n",
      "[CV] END .......................criterion=gini, max_depth=12; total time=   0.9s\n",
      "[CV] END .......................criterion=gini, max_depth=12; total time=   0.8s\n",
      "[CV] END .......................criterion=gini, max_depth=12; total time=   0.8s\n",
      "[CV] END .......................criterion=gini, max_depth=13; total time=   0.8s\n",
      "[CV] END .......................criterion=gini, max_depth=13; total time=   0.9s\n",
      "[CV] END .......................criterion=gini, max_depth=13; total time=   0.8s\n",
      "[CV] END .......................criterion=gini, max_depth=13; total time=   0.8s\n",
      "[CV] END .......................criterion=gini, max_depth=13; total time=   0.8s\n",
      "[CV] END .......................criterion=gini, max_depth=14; total time=   0.8s\n",
      "[CV] END .......................criterion=gini, max_depth=14; total time=   0.8s\n",
      "[CV] END .......................criterion=gini, max_depth=14; total time=   0.8s\n",
      "[CV] END .......................criterion=gini, max_depth=14; total time=   0.8s\n",
      "[CV] END .......................criterion=gini, max_depth=14; total time=   0.8s\n",
      "[CV] END .......................criterion=gini, max_depth=15; total time=   0.8s\n",
      "[CV] END .......................criterion=gini, max_depth=15; total time=   0.9s\n",
      "[CV] END .......................criterion=gini, max_depth=15; total time=   0.8s\n",
      "[CV] END .......................criterion=gini, max_depth=15; total time=   0.9s\n",
      "[CV] END .......................criterion=gini, max_depth=15; total time=   0.8s\n",
      "[CV] END ....................criterion=entropy, max_depth=10; total time=   1.2s\n",
      "[CV] END ....................criterion=entropy, max_depth=10; total time=   1.2s\n",
      "[CV] END ....................criterion=entropy, max_depth=10; total time=   1.2s\n",
      "[CV] END ....................criterion=entropy, max_depth=10; total time=   1.2s\n",
      "[CV] END ....................criterion=entropy, max_depth=10; total time=   1.2s\n",
      "[CV] END ....................criterion=entropy, max_depth=11; total time=   1.2s\n",
      "[CV] END ....................criterion=entropy, max_depth=11; total time=   1.2s\n",
      "[CV] END ....................criterion=entropy, max_depth=11; total time=   1.2s\n",
      "[CV] END ....................criterion=entropy, max_depth=11; total time=   1.2s\n",
      "[CV] END ....................criterion=entropy, max_depth=11; total time=   1.2s\n",
      "[CV] END ....................criterion=entropy, max_depth=12; total time=   1.2s\n",
      "[CV] END ....................criterion=entropy, max_depth=12; total time=   1.2s\n",
      "[CV] END ....................criterion=entropy, max_depth=12; total time=   1.2s\n",
      "[CV] END ....................criterion=entropy, max_depth=12; total time=   1.2s\n",
      "[CV] END ....................criterion=entropy, max_depth=12; total time=   1.2s\n",
      "[CV] END ....................criterion=entropy, max_depth=13; total time=   1.2s\n",
      "[CV] END ....................criterion=entropy, max_depth=13; total time=   1.2s\n",
      "[CV] END ....................criterion=entropy, max_depth=13; total time=   1.2s\n",
      "[CV] END ....................criterion=entropy, max_depth=13; total time=   1.2s\n",
      "[CV] END ....................criterion=entropy, max_depth=13; total time=   1.2s\n",
      "[CV] END ....................criterion=entropy, max_depth=14; total time=   1.2s\n",
      "[CV] END ....................criterion=entropy, max_depth=14; total time=   1.2s\n",
      "[CV] END ....................criterion=entropy, max_depth=14; total time=   1.2s\n",
      "[CV] END ....................criterion=entropy, max_depth=14; total time=   1.2s\n",
      "[CV] END ....................criterion=entropy, max_depth=14; total time=   1.2s\n",
      "[CV] END ....................criterion=entropy, max_depth=15; total time=   1.2s\n",
      "[CV] END ....................criterion=entropy, max_depth=15; total time=   1.2s\n",
      "[CV] END ....................criterion=entropy, max_depth=15; total time=   1.2s\n",
      "[CV] END ....................criterion=entropy, max_depth=15; total time=   1.2s\n",
      "[CV] END ....................criterion=entropy, max_depth=15; total time=   1.2s\n",
      "[CV] END ...................criterion=log_loss, max_depth=10; total time=   1.2s\n",
      "[CV] END ...................criterion=log_loss, max_depth=10; total time=   1.2s\n",
      "[CV] END ...................criterion=log_loss, max_depth=10; total time=   1.2s\n",
      "[CV] END ...................criterion=log_loss, max_depth=10; total time=   1.2s\n",
      "[CV] END ...................criterion=log_loss, max_depth=10; total time=   1.2s\n",
      "[CV] END ...................criterion=log_loss, max_depth=11; total time=   1.2s\n",
      "[CV] END ...................criterion=log_loss, max_depth=11; total time=   1.2s\n",
      "[CV] END ...................criterion=log_loss, max_depth=11; total time=   1.2s\n",
      "[CV] END ...................criterion=log_loss, max_depth=11; total time=   1.2s\n",
      "[CV] END ...................criterion=log_loss, max_depth=11; total time=   1.2s\n",
      "[CV] END ...................criterion=log_loss, max_depth=12; total time=   1.2s\n",
      "[CV] END ...................criterion=log_loss, max_depth=12; total time=   1.2s\n",
      "[CV] END ...................criterion=log_loss, max_depth=12; total time=   1.2s\n",
      "[CV] END ...................criterion=log_loss, max_depth=12; total time=   1.2s\n",
      "[CV] END ...................criterion=log_loss, max_depth=12; total time=   1.2s\n",
      "[CV] END ...................criterion=log_loss, max_depth=13; total time=   1.2s\n",
      "[CV] END ...................criterion=log_loss, max_depth=13; total time=   1.2s\n",
      "[CV] END ...................criterion=log_loss, max_depth=13; total time=   1.2s\n",
      "[CV] END ...................criterion=log_loss, max_depth=13; total time=   1.2s\n",
      "[CV] END ...................criterion=log_loss, max_depth=13; total time=   1.2s\n",
      "[CV] END ...................criterion=log_loss, max_depth=14; total time=   1.2s\n",
      "[CV] END ...................criterion=log_loss, max_depth=14; total time=   1.2s\n",
      "[CV] END ...................criterion=log_loss, max_depth=14; total time=   1.2s\n",
      "[CV] END ...................criterion=log_loss, max_depth=14; total time=   1.2s\n",
      "[CV] END ...................criterion=log_loss, max_depth=14; total time=   1.2s\n",
      "[CV] END ...................criterion=log_loss, max_depth=15; total time=   1.2s\n",
      "[CV] END ...................criterion=log_loss, max_depth=15; total time=   1.2s\n",
      "[CV] END ...................criterion=log_loss, max_depth=15; total time=   1.2s\n",
      "[CV] END ...................criterion=log_loss, max_depth=15; total time=   1.2s\n",
      "[CV] END ...................criterion=log_loss, max_depth=15; total time=   1.2s\n",
      "grid_search.best_params_ = {'criterion': 'gini', 'max_depth': 11}\n",
      "grid_search.best_score_ = np.float64(0.7313067784765898)\n"
     ]
    }
   ],
   "source": [
    "params = {\n",
    "    'criterion' : ['gini', 'entropy', 'log_loss'], \n",
    "    'max_depth' : [10, 11, 12, 13, 14, 15]          \n",
    "}\n",
    "model = RandomForestClassifier(random_state=42)\n",
    "grid_search = search_hyperparameters(data, model, params, verbose=2)\n",
    "print(f'{grid_search.best_params_ = }')\n",
    "print(f'{grid_search.best_score_ = }')"
   ]
  },
  {
   "cell_type": "code",
   "execution_count": 16,
   "id": "4635baba-c27c-430a-81d2-6786b9b47019",
   "metadata": {},
   "outputs": [
    {
     "name": "stdout",
     "output_type": "stream",
     "text": [
      "Accuracy: 76.5%\n"
     ]
    }
   ],
   "source": [
    "model = RandomForestClassifier(random_state=42) \n",
    "print(f'Accuracy: {fit_score(data, model)*100:.1f}%')"
   ]
  },
  {
   "cell_type": "code",
   "execution_count": 17,
   "id": "8e7e2841-1ebe-47d2-b7a4-e1c64f8f7b28",
   "metadata": {},
   "outputs": [
    {
     "name": "stdout",
     "output_type": "stream",
     "text": [
      "Accuracy: 77.9%\n"
     ]
    }
   ],
   "source": [
    "model = RandomForestClassifier(random_state=42, max_depth = 11, criterion = 'gini') \n",
    "print(f'Accuracy: {fit_score(data, model)*100:.1f}%')"
   ]
  },
  {
   "cell_type": "code",
   "execution_count": 23,
   "id": "2cae483e-aaf0-4f94-a0a8-94220ef75847",
   "metadata": {},
   "outputs": [
    {
     "name": "stdout",
     "output_type": "stream",
     "text": [
      "Fitting 5 folds for each of 9 candidates, totalling 45 fits\n",
      "[CV] END .......................criterion=gini, max_depth=10; total time=   2.5s\n",
      "[CV] END .......................criterion=gini, max_depth=10; total time=   2.5s\n",
      "[CV] END .......................criterion=gini, max_depth=10; total time=   2.5s\n",
      "[CV] END .......................criterion=gini, max_depth=10; total time=   2.5s\n",
      "[CV] END .......................criterion=gini, max_depth=10; total time=   2.5s\n",
      "[CV] END .......................criterion=gini, max_depth=11; total time=   2.5s\n",
      "[CV] END .......................criterion=gini, max_depth=11; total time=   2.5s\n",
      "[CV] END .......................criterion=gini, max_depth=11; total time=   2.5s\n",
      "[CV] END .......................criterion=gini, max_depth=11; total time=   2.6s\n",
      "[CV] END .......................criterion=gini, max_depth=11; total time=   2.6s\n",
      "[CV] END .......................criterion=gini, max_depth=12; total time=   2.6s\n",
      "[CV] END .......................criterion=gini, max_depth=12; total time=   2.6s\n",
      "[CV] END .......................criterion=gini, max_depth=12; total time=   2.5s\n",
      "[CV] END .......................criterion=gini, max_depth=12; total time=   2.6s\n",
      "[CV] END .......................criterion=gini, max_depth=12; total time=   2.6s\n",
      "[CV] END ....................criterion=entropy, max_depth=10; total time=   3.6s\n",
      "[CV] END ....................criterion=entropy, max_depth=10; total time=   3.6s\n",
      "[CV] END ....................criterion=entropy, max_depth=10; total time=   3.5s\n",
      "[CV] END ....................criterion=entropy, max_depth=10; total time=   3.6s\n",
      "[CV] END ....................criterion=entropy, max_depth=10; total time=   3.6s\n",
      "[CV] END ....................criterion=entropy, max_depth=11; total time=   3.6s\n",
      "[CV] END ....................criterion=entropy, max_depth=11; total time=   3.6s\n",
      "[CV] END ....................criterion=entropy, max_depth=11; total time=   3.6s\n",
      "[CV] END ....................criterion=entropy, max_depth=11; total time=   3.6s\n",
      "[CV] END ....................criterion=entropy, max_depth=11; total time=   3.6s\n",
      "[CV] END ....................criterion=entropy, max_depth=12; total time=   3.6s\n",
      "[CV] END ....................criterion=entropy, max_depth=12; total time=   3.6s\n",
      "[CV] END ....................criterion=entropy, max_depth=12; total time=   5.1s\n",
      "[CV] END ....................criterion=entropy, max_depth=12; total time=   7.2s\n",
      "[CV] END ....................criterion=entropy, max_depth=12; total time=   9.6s\n",
      "[CV] END ...................criterion=log_loss, max_depth=10; total time=   9.0s\n",
      "[CV] END ...................criterion=log_loss, max_depth=10; total time=   8.6s\n",
      "[CV] END ...................criterion=log_loss, max_depth=10; total time=  10.8s\n",
      "[CV] END ...................criterion=log_loss, max_depth=10; total time=   9.5s\n",
      "[CV] END ...................criterion=log_loss, max_depth=10; total time=   8.8s\n",
      "[CV] END ...................criterion=log_loss, max_depth=11; total time=   7.0s\n",
      "[CV] END ...................criterion=log_loss, max_depth=11; total time=   7.3s\n",
      "[CV] END ...................criterion=log_loss, max_depth=11; total time=   7.8s\n",
      "[CV] END ...................criterion=log_loss, max_depth=11; total time=   6.9s\n",
      "[CV] END ...................criterion=log_loss, max_depth=11; total time=   9.0s\n",
      "[CV] END ...................criterion=log_loss, max_depth=12; total time=   6.8s\n",
      "[CV] END ...................criterion=log_loss, max_depth=12; total time=   4.6s\n",
      "[CV] END ...................criterion=log_loss, max_depth=12; total time=   6.3s\n",
      "[CV] END ...................criterion=log_loss, max_depth=12; total time=   6.3s\n",
      "[CV] END ...................criterion=log_loss, max_depth=12; total time=   6.7s\n",
      "grid_search.best_params_ = {'criterion': 'entropy', 'max_depth': 12}\n",
      "grid_search.best_score_ = np.float64(0.7882528263103803)\n"
     ]
    }
   ],
   "source": [
    "params = {\n",
    "    'criterion' : ['gini', 'entropy', 'log_loss'], \n",
    "    'max_depth' : [10, 11, 12]          \n",
    "}\n",
    "model = RandomForestClassifier(random_state=42)\n",
    "grid_search = search_hyperparameters(data, model, params, verbose=2)\n",
    "print(f'{grid_search.best_params_ = }')\n",
    "print(f'{grid_search.best_score_ = }')"
   ]
  },
  {
   "cell_type": "code",
   "execution_count": null,
   "id": "c1e0869c-f61d-40ef-9df6-23228d3cf5c0",
   "metadata": {},
   "outputs": [],
   "source": [
    "model = RandomForestClassifier(random_state=42) \n",
    "print(f'Accuracy: {fit_score(data, model)*100:.1f}%')"
   ]
  },
  {
   "cell_type": "code",
   "execution_count": null,
   "id": "56f470ea-59f6-4ec4-b159-b7ce8ca18a5d",
   "metadata": {},
   "outputs": [],
   "source": [
    "model = RandomForestClassifier(random_state=42, max_depth = 11, criterion = 'gini') \n",
    "print(f'Accuracy: {fit_score(data, model)*100:.1f}%')"
   ]
  }
 ],
 "metadata": {
  "kernelspec": {
   "display_name": "Python 3 (ipykernel)",
   "language": "python",
   "name": "python3"
  },
  "language_info": {
   "codemirror_mode": {
    "name": "ipython",
    "version": 3
   },
   "file_extension": ".py",
   "mimetype": "text/x-python",
   "name": "python",
   "nbconvert_exporter": "python",
   "pygments_lexer": "ipython3",
   "version": "3.12.5"
  }
 },
 "nbformat": 4,
 "nbformat_minor": 5
}
