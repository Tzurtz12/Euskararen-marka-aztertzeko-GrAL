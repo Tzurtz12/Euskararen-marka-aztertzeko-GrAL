{
 "cells": [
  {
   "cell_type": "markdown",
   "id": "fbeb3026-2dc4-443f-97c1-e5e39a9d1316",
   "metadata": {},
   "source": [
    "# SVM:\n",
    "\n",
    "Sentimenduen sailkapena:\n",
    "* Positiboa --> 0\n",
    "* Neutroa --> 1\n",
    "* Negatiboa --> 2"
   ]
  },
  {
   "cell_type": "code",
   "execution_count": 1,
   "id": "793a12fe-90fd-4834-8f91-658b59456c76",
   "metadata": {},
   "outputs": [],
   "source": [
    "import numpy as np\n",
    "from sklearn.model_selection import GridSearchCV\n",
    "from sklearn.utils._testing import ignore_warnings\n",
    "from sklearn.exceptions import ConvergenceWarning\n",
    "from sklearn.svm import SVC\n",
    "from sklearn.metrics import accuracy_score\n",
    "from sklearn.multiclass import OneVsRestClassifier\n",
    "from sklearn.datasets import load_iris\n",
    "from sklearn.model_selection import ValidationCurveDisplay\n",
    "from sklearn.utils import shuffle"
   ]
  },
  {
   "cell_type": "code",
   "execution_count": 34,
   "id": "c098130f-67f4-4fa9-a46c-8b26b8cc84e0",
   "metadata": {},
   "outputs": [],
   "source": [
    "with open('Data/Forms/X_train.bin', 'rb') as f:\n",
    "    X_train = np.load(f)\n",
    "with open('Data/Forms/X_test.bin', 'rb') as f:\n",
    "    X_test = np.load(f)\n",
    "with open('Data/Forms/y_train.bin', 'rb') as f:\n",
    "    y_train = np.load(f)\n",
    "with open('Data/Forms/y_test.bin', 'rb') as f:\n",
    "    y_test = np.load(f)\n",
    "class Dataset:\n",
    "    def __init__(self, X_train, X_test, y_train, y_test):\n",
    "        self.X_train = X_train\n",
    "        self.X_test = X_test\n",
    "        self.y_train = y_train\n",
    "        self.y_test = y_test\n",
    "data = Dataset(X_train, X_test, y_train, y_test)"
   ]
  },
  {
   "cell_type": "markdown",
   "id": "5d581386-efec-43e7-a4c9-0771839f2a60",
   "metadata": {},
   "source": [
    "### GPT-ko esaldiekin"
   ]
  },
  {
   "cell_type": "code",
   "execution_count": 2,
   "id": "010924e0-1a4d-439d-920a-33ba674aedb2",
   "metadata": {},
   "outputs": [],
   "source": [
    "with open('Data/X_train.bin', 'rb') as f:\n",
    "    X_train = np.load(f)\n",
    "with open('Data/X_test.bin', 'rb') as f:\n",
    "    X_test = np.load(f)\n",
    "with open('Data/y_train.bin', 'rb') as f:\n",
    "    y_train = np.load(f)\n",
    "with open('Data/y_test.bin', 'rb') as f:\n",
    "    y_test = np.load(f)\n",
    "class Dataset:\n",
    "    def __init__(self, X_train, X_test, y_train, y_test):\n",
    "        self.X_train = X_train\n",
    "        self.X_test = X_test\n",
    "        self.y_train = y_train\n",
    "        self.y_test = y_test\n",
    "data = Dataset(X_train, X_test, y_train, y_test)"
   ]
  },
  {
   "cell_type": "code",
   "execution_count": 4,
   "id": "743b452e-43d1-4dc5-8e79-ef11a00f87c7",
   "metadata": {},
   "outputs": [],
   "source": [
    "def score(data, model):\n",
    "    y_pred = model.predict(data.X_test)\n",
    "    return accuracy_score(data.y_test, y_pred)\n",
    "    \n",
    "@ignore_warnings(category=ConvergenceWarning)\n",
    "def fit_score(data, model):\n",
    "    model.fit(data.X_train, data.y_train)\n",
    "    return score(data, model)"
   ]
  },
  {
   "cell_type": "code",
   "execution_count": 8,
   "id": "83b2c8ee-2ae1-44dc-96d1-29a3f0036a9a",
   "metadata": {},
   "outputs": [],
   "source": [
    "@ignore_warnings(category=ConvergenceWarning)\n",
    "def search_hyperparameters(data, model, param_grid, cv=5, verbose=0):\n",
    "    grid_search = GridSearchCV(estimator=model, param_grid=param_grid,\n",
    "                               cv=cv,scoring='accuracy',verbose=verbose\n",
    "    )\n",
    "    grid_search.fit(data.X_train, data.y_train)\n",
    "    return grid_search"
   ]
  },
  {
   "cell_type": "markdown",
   "id": "9784c73a-e288-45db-a99a-7b6e86a644a0",
   "metadata": {},
   "source": [
    "## One-to-one approach:\n",
    "Breaks down the multiclass problem into multiple binary classification problems. A binary classifier per each pair of classes. the classifier can use $\\pmb{\\frac{m (m-1)}{2}}$ SVMs:"
   ]
  },
  {
   "cell_type": "code",
   "execution_count": 16,
   "id": "f349e000-73cb-48aa-9863-bd8d4670e5a8",
   "metadata": {},
   "outputs": [
    {
     "name": "stdout",
     "output_type": "stream",
     "text": [
      "Fitting 5 folds for each of 18 candidates, totalling 90 fits\n",
      "[CV] END .............................C=1e-06, kernel=linear; total time=   0.1s\n",
      "[CV] END .............................C=1e-06, kernel=linear; total time=   0.1s\n",
      "[CV] END .............................C=1e-06, kernel=linear; total time=   0.1s\n",
      "[CV] END .............................C=1e-06, kernel=linear; total time=   0.1s\n",
      "[CV] END .............................C=1e-06, kernel=linear; total time=   0.1s\n",
      "[CV] END ...............................C=1e-06, kernel=poly; total time=   0.2s\n",
      "[CV] END ...............................C=1e-06, kernel=poly; total time=   0.2s\n",
      "[CV] END ...............................C=1e-06, kernel=poly; total time=   0.2s\n",
      "[CV] END ...............................C=1e-06, kernel=poly; total time=   0.2s\n",
      "[CV] END ...............................C=1e-06, kernel=poly; total time=   0.2s\n",
      "[CV] END ................................C=1e-06, kernel=rbf; total time=   0.2s\n",
      "[CV] END ................................C=1e-06, kernel=rbf; total time=   0.2s\n",
      "[CV] END ................................C=1e-06, kernel=rbf; total time=   0.2s\n",
      "[CV] END ................................C=1e-06, kernel=rbf; total time=   0.2s\n",
      "[CV] END ................................C=1e-06, kernel=rbf; total time=   0.2s\n",
      "[CV] END .............................C=1e-05, kernel=linear; total time=   0.1s\n",
      "[CV] END .............................C=1e-05, kernel=linear; total time=   0.1s\n",
      "[CV] END .............................C=1e-05, kernel=linear; total time=   0.1s\n",
      "[CV] END .............................C=1e-05, kernel=linear; total time=   0.1s\n",
      "[CV] END .............................C=1e-05, kernel=linear; total time=   0.1s\n",
      "[CV] END ...............................C=1e-05, kernel=poly; total time=   0.2s\n",
      "[CV] END ...............................C=1e-05, kernel=poly; total time=   0.2s\n",
      "[CV] END ...............................C=1e-05, kernel=poly; total time=   0.2s\n",
      "[CV] END ...............................C=1e-05, kernel=poly; total time=   0.2s\n",
      "[CV] END ...............................C=1e-05, kernel=poly; total time=   0.2s\n",
      "[CV] END ................................C=1e-05, kernel=rbf; total time=   0.2s\n",
      "[CV] END ................................C=1e-05, kernel=rbf; total time=   0.2s\n",
      "[CV] END ................................C=1e-05, kernel=rbf; total time=   0.2s\n",
      "[CV] END ................................C=1e-05, kernel=rbf; total time=   0.2s\n",
      "[CV] END ................................C=1e-05, kernel=rbf; total time=   0.2s\n",
      "[CV] END ............................C=0.0001, kernel=linear; total time=   0.1s\n",
      "[CV] END ............................C=0.0001, kernel=linear; total time=   0.1s\n",
      "[CV] END ............................C=0.0001, kernel=linear; total time=   0.1s\n",
      "[CV] END ............................C=0.0001, kernel=linear; total time=   0.1s\n",
      "[CV] END ............................C=0.0001, kernel=linear; total time=   0.1s\n",
      "[CV] END ..............................C=0.0001, kernel=poly; total time=   0.2s\n",
      "[CV] END ..............................C=0.0001, kernel=poly; total time=   0.2s\n",
      "[CV] END ..............................C=0.0001, kernel=poly; total time=   0.2s\n",
      "[CV] END ..............................C=0.0001, kernel=poly; total time=   0.2s\n",
      "[CV] END ..............................C=0.0001, kernel=poly; total time=   0.2s\n",
      "[CV] END ...............................C=0.0001, kernel=rbf; total time=   0.2s\n",
      "[CV] END ...............................C=0.0001, kernel=rbf; total time=   0.2s\n",
      "[CV] END ...............................C=0.0001, kernel=rbf; total time=   0.2s\n",
      "[CV] END ...............................C=0.0001, kernel=rbf; total time=   0.2s\n",
      "[CV] END ...............................C=0.0001, kernel=rbf; total time=   0.2s\n",
      "[CV] END .................................C=1, kernel=linear; total time=   0.1s\n",
      "[CV] END .................................C=1, kernel=linear; total time=   0.1s\n",
      "[CV] END .................................C=1, kernel=linear; total time=   0.1s\n",
      "[CV] END .................................C=1, kernel=linear; total time=   0.1s\n",
      "[CV] END .................................C=1, kernel=linear; total time=   0.1s\n",
      "[CV] END ...................................C=1, kernel=poly; total time=   0.2s\n",
      "[CV] END ...................................C=1, kernel=poly; total time=   0.2s\n",
      "[CV] END ...................................C=1, kernel=poly; total time=   0.2s\n",
      "[CV] END ...................................C=1, kernel=poly; total time=   0.2s\n",
      "[CV] END ...................................C=1, kernel=poly; total time=   0.2s\n",
      "[CV] END ....................................C=1, kernel=rbf; total time=   0.2s\n",
      "[CV] END ....................................C=1, kernel=rbf; total time=   0.2s\n",
      "[CV] END ....................................C=1, kernel=rbf; total time=   0.2s\n",
      "[CV] END ....................................C=1, kernel=rbf; total time=   0.2s\n",
      "[CV] END ....................................C=1, kernel=rbf; total time=   0.2s\n",
      "[CV] END ................................C=10, kernel=linear; total time=   0.1s\n",
      "[CV] END ................................C=10, kernel=linear; total time=   0.1s\n",
      "[CV] END ................................C=10, kernel=linear; total time=   0.1s\n",
      "[CV] END ................................C=10, kernel=linear; total time=   0.1s\n",
      "[CV] END ................................C=10, kernel=linear; total time=   0.1s\n",
      "[CV] END ..................................C=10, kernel=poly; total time=   0.2s\n",
      "[CV] END ..................................C=10, kernel=poly; total time=   0.2s\n",
      "[CV] END ..................................C=10, kernel=poly; total time=   0.2s\n",
      "[CV] END ..................................C=10, kernel=poly; total time=   0.2s\n",
      "[CV] END ..................................C=10, kernel=poly; total time=   0.2s\n",
      "[CV] END ...................................C=10, kernel=rbf; total time=   0.2s\n",
      "[CV] END ...................................C=10, kernel=rbf; total time=   0.2s\n",
      "[CV] END ...................................C=10, kernel=rbf; total time=   0.2s\n",
      "[CV] END ...................................C=10, kernel=rbf; total time=   0.2s\n",
      "[CV] END ...................................C=10, kernel=rbf; total time=   0.2s\n",
      "[CV] END ...............................C=100, kernel=linear; total time=   0.1s\n",
      "[CV] END ...............................C=100, kernel=linear; total time=   0.1s\n",
      "[CV] END ...............................C=100, kernel=linear; total time=   0.1s\n",
      "[CV] END ...............................C=100, kernel=linear; total time=   0.1s\n",
      "[CV] END ...............................C=100, kernel=linear; total time=   0.1s\n",
      "[CV] END .................................C=100, kernel=poly; total time=   0.2s\n",
      "[CV] END .................................C=100, kernel=poly; total time=   0.1s\n",
      "[CV] END .................................C=100, kernel=poly; total time=   0.2s\n",
      "[CV] END .................................C=100, kernel=poly; total time=   0.2s\n",
      "[CV] END .................................C=100, kernel=poly; total time=   0.1s\n",
      "[CV] END ..................................C=100, kernel=rbf; total time=   0.1s\n",
      "[CV] END ..................................C=100, kernel=rbf; total time=   0.2s\n",
      "[CV] END ..................................C=100, kernel=rbf; total time=   0.1s\n",
      "[CV] END ..................................C=100, kernel=rbf; total time=   0.1s\n",
      "[CV] END ..................................C=100, kernel=rbf; total time=   0.1s\n",
      "grid_search.best_params_ = {'C': 1e-05, 'kernel': 'linear'}\n",
      "grid_search.best_score_ = np.float64(0.809853249475891)\n"
     ]
    }
   ],
   "source": [
    "params = {'C': [1e-6, 1e-5, 1e-4, 1, 10, 100], 'kernel': ['linear', 'poly', 'rbf']} #linear’, ‘poly’, ‘rbf’, ‘sigmoid’, ‘precomputed’\n",
    "model = SVC(random_state=42)\n",
    "grid_search = search_hyperparameters(data, model, params, verbose=2)\n",
    "print(f'{grid_search.best_params_ = }')\n",
    "print(f'{grid_search.best_score_ = }')"
   ]
  },
  {
   "cell_type": "code",
   "execution_count": 21,
   "id": "16fd9438-f39e-4a0a-a8ed-cc9948f77e63",
   "metadata": {},
   "outputs": [
    {
     "name": "stdout",
     "output_type": "stream",
     "text": [
      "Accuracy: 79.4%\n"
     ]
    }
   ],
   "source": [
    "model = SVC(random_state=42, kernel = 'linear', C = 1e-5, ) # Best param: {C = 1e-6, kernel = 'linear'}\n",
    "print(f'Accuracy: {fit_score(data, model)*100:.1f}%')"
   ]
  },
  {
   "cell_type": "code",
   "execution_count": 22,
   "id": "f5557f09-b147-42e6-82ee-d5d7b93afbe7",
   "metadata": {},
   "outputs": [
    {
     "name": "stdout",
     "output_type": "stream",
     "text": [
      "Accuracy: 45.6%\n"
     ]
    }
   ],
   "source": [
    "model = SVC(random_state=42)\n",
    "print(f'Accuracy: {fit_score(data, model)*100:.1f}%')"
   ]
  },
  {
   "cell_type": "markdown",
   "id": "4f607d04-5eea-4a35-971e-de6077490fe0",
   "metadata": {},
   "source": [
    "### gpt gehituta"
   ]
  },
  {
   "cell_type": "code",
   "execution_count": 38,
   "id": "9a2aabe6-f1bc-4c78-ac32-e79c9902f7dd",
   "metadata": {},
   "outputs": [
    {
     "name": "stdout",
     "output_type": "stream",
     "text": [
      "Fitting 5 folds for each of 9 candidates, totalling 45 fits\n",
      "[CV] END .............................C=1e-06, kernel=linear; total time=   1.1s\n",
      "[CV] END .............................C=1e-06, kernel=linear; total time=   1.1s\n",
      "[CV] END .............................C=1e-06, kernel=linear; total time=   1.1s\n",
      "[CV] END .............................C=1e-06, kernel=linear; total time=   1.1s\n",
      "[CV] END .............................C=1e-06, kernel=linear; total time=   1.1s\n",
      "[CV] END ...............................C=1e-06, kernel=poly; total time=   2.1s\n",
      "[CV] END ...............................C=1e-06, kernel=poly; total time=   1.7s\n",
      "[CV] END ...............................C=1e-06, kernel=poly; total time=   2.2s\n",
      "[CV] END ...............................C=1e-06, kernel=poly; total time=   1.7s\n",
      "[CV] END ...............................C=1e-06, kernel=poly; total time=   1.8s\n",
      "[CV] END ................................C=1e-06, kernel=rbf; total time=   2.0s\n",
      "[CV] END ................................C=1e-06, kernel=rbf; total time=   1.9s\n",
      "[CV] END ................................C=1e-06, kernel=rbf; total time=   2.2s\n",
      "[CV] END ................................C=1e-06, kernel=rbf; total time=   1.9s\n",
      "[CV] END ................................C=1e-06, kernel=rbf; total time=   1.9s\n",
      "[CV] END .............................C=1e-05, kernel=linear; total time=   0.9s\n",
      "[CV] END .............................C=1e-05, kernel=linear; total time=   0.9s\n",
      "[CV] END .............................C=1e-05, kernel=linear; total time=   0.9s\n",
      "[CV] END .............................C=1e-05, kernel=linear; total time=   0.8s\n",
      "[CV] END .............................C=1e-05, kernel=linear; total time=   0.9s\n",
      "[CV] END ...............................C=1e-05, kernel=poly; total time=   1.7s\n",
      "[CV] END ...............................C=1e-05, kernel=poly; total time=   1.7s\n",
      "[CV] END ...............................C=1e-05, kernel=poly; total time=   1.7s\n",
      "[CV] END ...............................C=1e-05, kernel=poly; total time=   1.7s\n",
      "[CV] END ...............................C=1e-05, kernel=poly; total time=   1.7s\n",
      "[CV] END ................................C=1e-05, kernel=rbf; total time=   1.9s\n",
      "[CV] END ................................C=1e-05, kernel=rbf; total time=   1.9s\n",
      "[CV] END ................................C=1e-05, kernel=rbf; total time=   1.9s\n",
      "[CV] END ................................C=1e-05, kernel=rbf; total time=   1.9s\n",
      "[CV] END ................................C=1e-05, kernel=rbf; total time=   1.9s\n",
      "[CV] END ............................C=0.0001, kernel=linear; total time=   0.9s\n",
      "[CV] END ............................C=0.0001, kernel=linear; total time=   0.9s\n",
      "[CV] END ............................C=0.0001, kernel=linear; total time=   0.8s\n",
      "[CV] END ............................C=0.0001, kernel=linear; total time=   0.8s\n",
      "[CV] END ............................C=0.0001, kernel=linear; total time=   0.9s\n",
      "[CV] END ..............................C=0.0001, kernel=poly; total time=   1.7s\n",
      "[CV] END ..............................C=0.0001, kernel=poly; total time=   1.7s\n",
      "[CV] END ..............................C=0.0001, kernel=poly; total time=   1.7s\n",
      "[CV] END ..............................C=0.0001, kernel=poly; total time=   1.7s\n",
      "[CV] END ..............................C=0.0001, kernel=poly; total time=   1.7s\n",
      "[CV] END ...............................C=0.0001, kernel=rbf; total time=   1.9s\n",
      "[CV] END ...............................C=0.0001, kernel=rbf; total time=   1.9s\n",
      "[CV] END ...............................C=0.0001, kernel=rbf; total time=   1.9s\n",
      "[CV] END ...............................C=0.0001, kernel=rbf; total time=   1.9s\n",
      "[CV] END ...............................C=0.0001, kernel=rbf; total time=   1.9s\n",
      "grid_search.best_params_ = {'C': 1e-05, 'kernel': 'linear'}\n",
      "grid_search.best_score_ = np.float64(0.8554881808838644)\n"
     ]
    }
   ],
   "source": [
    "params = {'C': [1e-6, 1e-5, 1e-4], 'kernel': ['linear', 'poly', 'rbf']} #linear’, ‘poly’, ‘rbf’, ‘sigmoid’, ‘precomputed’\n",
    "model = SVC(random_state=42)\n",
    "grid_search = search_hyperparameters(data, model, params, verbose=2)\n",
    "print(f'{grid_search.best_params_ = }')\n",
    "print(f'{grid_search.best_score_ = }')"
   ]
  },
  {
   "cell_type": "code",
   "execution_count": 5,
   "id": "871e55b1-4d80-4881-a06a-c77c0ff3ac87",
   "metadata": {},
   "outputs": [
    {
     "name": "stdout",
     "output_type": "stream",
     "text": [
      "Accuracy: 82.9%\n"
     ]
    }
   ],
   "source": [
    "model = SVC(random_state=42, kernel = 'linear', C = 1e-5, ) # Best param: {C = 1e-6, kernel = 'linear'}\n",
    "print(f'Accuracy: {fit_score(data, model)*100:.1f}%')"
   ]
  },
  {
   "cell_type": "code",
   "execution_count": 6,
   "id": "9c98a7ca-7ac1-46c8-8f15-a8196e8aeb2d",
   "metadata": {},
   "outputs": [
    {
     "name": "stdout",
     "output_type": "stream",
     "text": [
      "Accuracy: 75.4%\n"
     ]
    }
   ],
   "source": [
    "model = SVC(random_state=42)\n",
    "print(f'Accuracy: {fit_score(data, model)*100:.1f}%')"
   ]
  },
  {
   "cell_type": "markdown",
   "id": "7870da90-b800-4914-a421-e780d8e62a1d",
   "metadata": {},
   "source": [
    "## One-to-rest approach:\n",
    "The breakdown is set to a binary classifier per each class. The classifier can use $\\pmb{m}$ SVMs. Each SVM would predict membership in one of the $\\pmb{m}$ classes:"
   ]
  },
  {
   "cell_type": "code",
   "execution_count": 8,
   "id": "028d857e-fa8c-4589-839b-233cbe0d311a",
   "metadata": {},
   "outputs": [
    {
     "name": "stdout",
     "output_type": "stream",
     "text": [
      "Fitting 5 folds for each of 9 candidates, totalling 45 fits\n",
      "[CV] END .......estimator__C=1e-07, estimator__kernel=linear; total time=   0.4s\n",
      "[CV] END .......estimator__C=1e-07, estimator__kernel=linear; total time=   0.4s\n",
      "[CV] END .......estimator__C=1e-07, estimator__kernel=linear; total time=   0.4s\n",
      "[CV] END .......estimator__C=1e-07, estimator__kernel=linear; total time=   0.4s\n",
      "[CV] END .......estimator__C=1e-07, estimator__kernel=linear; total time=   0.4s\n",
      "[CV] END .........estimator__C=1e-07, estimator__kernel=poly; total time=   0.4s\n",
      "[CV] END .........estimator__C=1e-07, estimator__kernel=poly; total time=   0.4s\n",
      "[CV] END .........estimator__C=1e-07, estimator__kernel=poly; total time=   0.4s\n",
      "[CV] END .........estimator__C=1e-07, estimator__kernel=poly; total time=   0.4s\n",
      "[CV] END .........estimator__C=1e-07, estimator__kernel=poly; total time=   0.3s\n",
      "[CV] END ..........estimator__C=1e-07, estimator__kernel=rbf; total time=   0.4s\n",
      "[CV] END ..........estimator__C=1e-07, estimator__kernel=rbf; total time=   0.4s\n",
      "[CV] END ..........estimator__C=1e-07, estimator__kernel=rbf; total time=   0.4s\n",
      "[CV] END ..........estimator__C=1e-07, estimator__kernel=rbf; total time=   0.4s\n",
      "[CV] END ..........estimator__C=1e-07, estimator__kernel=rbf; total time=   0.4s\n",
      "[CV] END .......estimator__C=1e-06, estimator__kernel=linear; total time=   0.3s\n",
      "[CV] END .......estimator__C=1e-06, estimator__kernel=linear; total time=   0.3s\n",
      "[CV] END .......estimator__C=1e-06, estimator__kernel=linear; total time=   0.3s\n",
      "[CV] END .......estimator__C=1e-06, estimator__kernel=linear; total time=   0.3s\n",
      "[CV] END .......estimator__C=1e-06, estimator__kernel=linear; total time=   0.3s\n",
      "[CV] END .........estimator__C=1e-06, estimator__kernel=poly; total time=   0.4s\n",
      "[CV] END .........estimator__C=1e-06, estimator__kernel=poly; total time=   0.3s\n",
      "[CV] END .........estimator__C=1e-06, estimator__kernel=poly; total time=   0.3s\n",
      "[CV] END .........estimator__C=1e-06, estimator__kernel=poly; total time=   0.4s\n",
      "[CV] END .........estimator__C=1e-06, estimator__kernel=poly; total time=   0.4s\n",
      "[CV] END ..........estimator__C=1e-06, estimator__kernel=rbf; total time=   0.4s\n",
      "[CV] END ..........estimator__C=1e-06, estimator__kernel=rbf; total time=   0.4s\n",
      "[CV] END ..........estimator__C=1e-06, estimator__kernel=rbf; total time=   0.4s\n",
      "[CV] END ..........estimator__C=1e-06, estimator__kernel=rbf; total time=   0.4s\n",
      "[CV] END ..........estimator__C=1e-06, estimator__kernel=rbf; total time=   0.4s\n",
      "[CV] END .......estimator__C=1e-05, estimator__kernel=linear; total time=   0.3s\n",
      "[CV] END .......estimator__C=1e-05, estimator__kernel=linear; total time=   0.3s\n",
      "[CV] END .......estimator__C=1e-05, estimator__kernel=linear; total time=   0.3s\n",
      "[CV] END .......estimator__C=1e-05, estimator__kernel=linear; total time=   0.3s\n",
      "[CV] END .......estimator__C=1e-05, estimator__kernel=linear; total time=   0.3s\n",
      "[CV] END .........estimator__C=1e-05, estimator__kernel=poly; total time=   0.4s\n",
      "[CV] END .........estimator__C=1e-05, estimator__kernel=poly; total time=   0.4s\n",
      "[CV] END .........estimator__C=1e-05, estimator__kernel=poly; total time=   0.4s\n",
      "[CV] END .........estimator__C=1e-05, estimator__kernel=poly; total time=   0.4s\n",
      "[CV] END .........estimator__C=1e-05, estimator__kernel=poly; total time=   0.4s\n",
      "[CV] END ..........estimator__C=1e-05, estimator__kernel=rbf; total time=   0.4s\n",
      "[CV] END ..........estimator__C=1e-05, estimator__kernel=rbf; total time=   0.4s\n",
      "[CV] END ..........estimator__C=1e-05, estimator__kernel=rbf; total time=   0.4s\n",
      "[CV] END ..........estimator__C=1e-05, estimator__kernel=rbf; total time=   0.4s\n",
      "[CV] END ..........estimator__C=1e-05, estimator__kernel=rbf; total time=   0.4s\n",
      "grid_search.best_params_ = {'estimator__C': 1e-06, 'estimator__kernel': 'linear'}\n",
      "grid_search.best_score_ = np.float64(0.8061495457721873)\n"
     ]
    }
   ],
   "source": [
    "params = {'estimator__C': [1e-7, 1e-6, 1e-5, 1, 10, 100], 'estimator__kernel': ['linear', 'poly', 'rbf']}\n",
    "model = OneVsRestClassifier(SVC(random_state=42))\n",
    "grid_search = search_hyperparameters(data, model, params,  verbose=2)\n",
    "\n",
    "\n",
    "print(f'{grid_search.best_params_ = }')\n",
    "print(f'{grid_search.best_score_ = }')"
   ]
  },
  {
   "cell_type": "code",
   "execution_count": 23,
   "id": "e8564a22-90b6-4a78-ac79-3739791a0d84",
   "metadata": {},
   "outputs": [
    {
     "name": "stdout",
     "output_type": "stream",
     "text": [
      "Accuracy: 76.5%\n"
     ]
    }
   ],
   "source": [
    "model = OneVsRestClassifier(SVC(random_state=42, kernel='linear', C=1e-6)) # best {'estimator__C': 1e-6, 'estimator__kernel': 'linear'}\n",
    "print(f'Accuracy: {fit_score(data, model)*100:.1f}%')"
   ]
  },
  {
   "cell_type": "code",
   "execution_count": 24,
   "id": "a8869bb6-a81b-4131-893a-cdaa37a1d6a5",
   "metadata": {},
   "outputs": [
    {
     "name": "stdout",
     "output_type": "stream",
     "text": [
      "Accuracy: 69.1%\n"
     ]
    }
   ],
   "source": [
    "model = OneVsRestClassifier(SVC(random_state=42))\n",
    "print(f'Accuracy: {fit_score(data, model)*100:.1f}%')"
   ]
  },
  {
   "cell_type": "markdown",
   "id": "2845d722-90bf-49dd-b89f-be46b0ae571c",
   "metadata": {},
   "source": [
    "### gpt gehituta"
   ]
  },
  {
   "cell_type": "code",
   "execution_count": 9,
   "id": "b0f6e133-9504-486a-9dc3-af2244cbe789",
   "metadata": {},
   "outputs": [
    {
     "name": "stdout",
     "output_type": "stream",
     "text": [
      "Fitting 5 folds for each of 9 candidates, totalling 45 fits\n",
      "[CV] END .......estimator__C=1e-07, estimator__kernel=linear; total time=   3.1s\n",
      "[CV] END .......estimator__C=1e-07, estimator__kernel=linear; total time=   3.1s\n",
      "[CV] END .......estimator__C=1e-07, estimator__kernel=linear; total time=   3.1s\n",
      "[CV] END .......estimator__C=1e-07, estimator__kernel=linear; total time=   3.6s\n",
      "[CV] END .......estimator__C=1e-07, estimator__kernel=linear; total time=   3.0s\n",
      "[CV] END .........estimator__C=1e-07, estimator__kernel=poly; total time=   2.9s\n",
      "[CV] END .........estimator__C=1e-07, estimator__kernel=poly; total time=   2.9s\n",
      "[CV] END .........estimator__C=1e-07, estimator__kernel=poly; total time=   2.9s\n",
      "[CV] END .........estimator__C=1e-07, estimator__kernel=poly; total time=   2.9s\n",
      "[CV] END .........estimator__C=1e-07, estimator__kernel=poly; total time=   2.9s\n",
      "[CV] END ..........estimator__C=1e-07, estimator__kernel=rbf; total time=   3.3s\n",
      "[CV] END ..........estimator__C=1e-07, estimator__kernel=rbf; total time=   3.3s\n",
      "[CV] END ..........estimator__C=1e-07, estimator__kernel=rbf; total time=   3.3s\n",
      "[CV] END ..........estimator__C=1e-07, estimator__kernel=rbf; total time=   3.3s\n",
      "[CV] END ..........estimator__C=1e-07, estimator__kernel=rbf; total time=   3.3s\n",
      "[CV] END .......estimator__C=1e-06, estimator__kernel=linear; total time=   2.4s\n",
      "[CV] END .......estimator__C=1e-06, estimator__kernel=linear; total time=   2.4s\n",
      "[CV] END .......estimator__C=1e-06, estimator__kernel=linear; total time=   2.4s\n",
      "[CV] END .......estimator__C=1e-06, estimator__kernel=linear; total time=   2.3s\n",
      "[CV] END .......estimator__C=1e-06, estimator__kernel=linear; total time=   2.4s\n",
      "[CV] END .........estimator__C=1e-06, estimator__kernel=poly; total time=   3.2s\n",
      "[CV] END .........estimator__C=1e-06, estimator__kernel=poly; total time=   2.9s\n",
      "[CV] END .........estimator__C=1e-06, estimator__kernel=poly; total time=   3.0s\n",
      "[CV] END .........estimator__C=1e-06, estimator__kernel=poly; total time=   3.0s\n",
      "[CV] END .........estimator__C=1e-06, estimator__kernel=poly; total time=   3.2s\n",
      "[CV] END ..........estimator__C=1e-06, estimator__kernel=rbf; total time=   3.3s\n",
      "[CV] END ..........estimator__C=1e-06, estimator__kernel=rbf; total time=   3.3s\n",
      "[CV] END ..........estimator__C=1e-06, estimator__kernel=rbf; total time=   3.3s\n",
      "[CV] END ..........estimator__C=1e-06, estimator__kernel=rbf; total time=   3.3s\n",
      "[CV] END ..........estimator__C=1e-06, estimator__kernel=rbf; total time=   3.3s\n",
      "[CV] END .......estimator__C=1e-05, estimator__kernel=linear; total time=   2.0s\n",
      "[CV] END .......estimator__C=1e-05, estimator__kernel=linear; total time=   1.9s\n",
      "[CV] END .......estimator__C=1e-05, estimator__kernel=linear; total time=   1.9s\n",
      "[CV] END .......estimator__C=1e-05, estimator__kernel=linear; total time=   1.9s\n",
      "[CV] END .......estimator__C=1e-05, estimator__kernel=linear; total time=   2.0s\n",
      "[CV] END .........estimator__C=1e-05, estimator__kernel=poly; total time=   3.1s\n",
      "[CV] END .........estimator__C=1e-05, estimator__kernel=poly; total time=   2.9s\n",
      "[CV] END .........estimator__C=1e-05, estimator__kernel=poly; total time=   3.0s\n",
      "[CV] END .........estimator__C=1e-05, estimator__kernel=poly; total time=   2.9s\n",
      "[CV] END .........estimator__C=1e-05, estimator__kernel=poly; total time=   3.0s\n",
      "[CV] END ..........estimator__C=1e-05, estimator__kernel=rbf; total time=   3.3s\n",
      "[CV] END ..........estimator__C=1e-05, estimator__kernel=rbf; total time=   3.3s\n",
      "[CV] END ..........estimator__C=1e-05, estimator__kernel=rbf; total time=   3.3s\n",
      "[CV] END ..........estimator__C=1e-05, estimator__kernel=rbf; total time=   3.3s\n",
      "[CV] END ..........estimator__C=1e-05, estimator__kernel=rbf; total time=   3.3s\n",
      "grid_search.best_params_ = {'estimator__C': 1e-05, 'estimator__kernel': 'linear'}\n",
      "grid_search.best_score_ = np.float64(0.868365878725591)\n"
     ]
    }
   ],
   "source": [
    "params = {'estimator__C': [1e-7, 1e-6, 1e-5], 'estimator__kernel': ['linear', 'poly', 'rbf']}\n",
    "model = OneVsRestClassifier(SVC(random_state=42))\n",
    "grid_search = search_hyperparameters(data, model, params,  verbose=2)\n",
    "\n",
    "\n",
    "print(f'{grid_search.best_params_ = }')\n",
    "print(f'{grid_search.best_score_ = }')"
   ]
  },
  {
   "cell_type": "code",
   "execution_count": 13,
   "id": "6a83be68-1054-4ec6-984a-20fe0e42fd7d",
   "metadata": {},
   "outputs": [
    {
     "name": "stdout",
     "output_type": "stream",
     "text": [
      "Accuracy: 83.4%\n"
     ]
    }
   ],
   "source": [
    "model = OneVsRestClassifier(SVC(random_state=42, kernel='linear', C=1e-5)) # best {'estimator__C': 1e-6, 'estimator__kernel': 'linear'}\n",
    "print(f'Accuracy: {fit_score(data, model)*100:.1f}%')"
   ]
  },
  {
   "cell_type": "code",
   "execution_count": 11,
   "id": "ed1caa84-dd06-4791-9246-d25c4cbfc023",
   "metadata": {},
   "outputs": [
    {
     "name": "stdout",
     "output_type": "stream",
     "text": [
      "Accuracy: 80.6%\n"
     ]
    }
   ],
   "source": [
    "model = OneVsRestClassifier(SVC(random_state=42))\n",
    "print(f'Accuracy: {fit_score(data, model)*100:.1f}%')"
   ]
  }
 ],
 "metadata": {
  "kernelspec": {
   "display_name": "Python 3 (ipykernel)",
   "language": "python",
   "name": "python3"
  },
  "language_info": {
   "codemirror_mode": {
    "name": "ipython",
    "version": 3
   },
   "file_extension": ".py",
   "mimetype": "text/x-python",
   "name": "python",
   "nbconvert_exporter": "python",
   "pygments_lexer": "ipython3",
   "version": "3.12.5"
  }
 },
 "nbformat": 4,
 "nbformat_minor": 5
}
