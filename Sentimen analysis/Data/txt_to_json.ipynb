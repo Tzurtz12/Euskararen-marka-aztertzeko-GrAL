{
 "cells": [
  {
   "cell_type": "code",
   "execution_count": 50,
   "id": "0756acff-4bb2-4449-84b1-34937dd94a17",
   "metadata": {},
   "outputs": [],
   "source": [
    "import numpy as np\n",
    "import matplotlib.pyplot as plt\n",
    "import os\n",
    "import re\n",
    "from collections import Counter\n",
    "import json\n",
    "from itertools import islice\n",
    "import ast"
   ]
  },
  {
   "cell_type": "code",
   "execution_count": 36,
   "id": "a5903822-80f3-45aa-ad5c-c81c290b3a5c",
   "metadata": {},
   "outputs": [],
   "source": [
    "with open('pos_forms.txt', 'r') as f:\n",
    "    positive_forms = [linea.strip() for linea in f if linea.strip()]\n",
    "with open('negative_forms.txt', 'r') as f:\n",
    "    negative_forms = [linea.strip() for linea in f if linea.strip()]\n",
    "with open('neutral_forms.txt', 'r') as f:\n",
    "    neutral_forms = [linea.strip() for linea in f if linea.strip()]"
   ]
  },
  {
   "cell_type": "code",
   "execution_count": 37,
   "id": "df1b3811-27fd-4b91-9f7c-282a440bc004",
   "metadata": {},
   "outputs": [
    {
     "name": "stdout",
     "output_type": "stream",
     "text": [
      "136\n",
      "104\n",
      "104\n"
     ]
    }
   ],
   "source": [
    "print(len(positive_forms))\n",
    "print(len(negative_forms))\n",
    "print(len(neutral_forms))"
   ]
  },
  {
   "cell_type": "code",
   "execution_count": 47,
   "id": "8ad8ac9a-2f47-4158-ad22-3bf9eb5a8de0",
   "metadata": {},
   "outputs": [
    {
     "name": "stdout",
     "output_type": "stream",
     "text": [
      "\"\n",
      "103\n"
     ]
    }
   ],
   "source": [
    "neu = []\n",
    "for text in neutral_forms:\n",
    "    if len(text) < 2:\n",
    "        print(text)\n",
    "    else:\n",
    "        neu.append(text)\n",
    "print(len(neu))"
   ]
  },
  {
   "cell_type": "code",
   "execution_count": 48,
   "id": "c38bb34e-81d5-446e-816a-b0574c468284",
   "metadata": {},
   "outputs": [],
   "source": [
    "with open('neutral.jsonl', 'w') as f:\n",
    "    json.dump(neu,f)"
   ]
  },
  {
   "cell_type": "markdown",
   "id": "f61fb1ce-027b-4752-9892-04c463ecef50",
   "metadata": {},
   "source": [
    "### Lortutako esaldiak:\n",
    "* **Positiboa:** 130 esaldi\n",
    "* **Negatiboa:** 103 esaldi\n",
    "* **Neutroa:** 103 esaldi"
   ]
  },
  {
   "cell_type": "markdown",
   "id": "84e7f828-7bb9-44e5-9430-29c28380c453",
   "metadata": {},
   "source": [
    "### **CHATGPT**-ren esaldiak"
   ]
  },
  {
   "cell_type": "code",
   "execution_count": 52,
   "id": "f95c19ef-4676-4058-be78-27dcdd9cf0d2",
   "metadata": {},
   "outputs": [],
   "source": [
    "with open('positive.txt', 'r') as f:\n",
    "    positive = [linea.strip() for linea in f if linea.strip()]\n",
    "with open('negative.txt', 'r') as f:\n",
    "    negative = [linea.strip() for linea in f if linea.strip()]\n",
    "with open('neutral.txt', 'r') as f:\n",
    "    neutral = [linea.strip() for linea in f if linea.strip()]"
   ]
  },
  {
   "cell_type": "code",
   "execution_count": 53,
   "id": "787d9234-3b16-45d2-a7eb-eddbda5b61c8",
   "metadata": {},
   "outputs": [
    {
     "name": "stdout",
     "output_type": "stream",
     "text": [
      "178\n",
      "180\n",
      "180\n"
     ]
    }
   ],
   "source": [
    "print(len(positive))\n",
    "print(len(negative))\n",
    "print(len(neutral))"
   ]
  },
  {
   "cell_type": "code",
   "execution_count": 55,
   "id": "124d3b48-d878-4a83-b2f3-7673b3904f99",
   "metadata": {},
   "outputs": [],
   "source": [
    "with open('neutral_gpt.jsonl', 'w') as f:\n",
    "    json.dump(neutral,f)\n",
    "with open('positive_gpt.jsonl', 'w') as f:\n",
    "    json.dump(positive,f)\n",
    "with open('negative_gpt.jsonl', 'w') as f:\n",
    "    json.dump(negative,f)"
   ]
  }
 ],
 "metadata": {
  "kernelspec": {
   "display_name": "Python 3 (ipykernel)",
   "language": "python",
   "name": "python3"
  },
  "language_info": {
   "codemirror_mode": {
    "name": "ipython",
    "version": 3
   },
   "file_extension": ".py",
   "mimetype": "text/x-python",
   "name": "python",
   "nbconvert_exporter": "python",
   "pygments_lexer": "ipython3",
   "version": "3.12.5"
  }
 },
 "nbformat": 4,
 "nbformat_minor": 5
}
