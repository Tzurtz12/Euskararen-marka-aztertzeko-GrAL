{
 "cells": [
  {
   "cell_type": "markdown",
   "id": "2b57ef85-77ae-4631-900d-31713a128d1e",
   "metadata": {},
   "source": [
    "# Entrenamendurako datu basea prestatzeko kodea\n",
    "\n",
    "Sentimenduen sailkapena:\n",
    "* Positiboa --> 0\n",
    "* Neutroa --> 1\n",
    "* Negatiboa --> 2"
   ]
  },
  {
   "cell_type": "code",
   "execution_count": 19,
   "id": "ea3a3268-ac7a-4a02-b46c-791074f2ec7d",
   "metadata": {},
   "outputs": [],
   "source": [
    "import numpy as np\n",
    "from sklearn.model_selection import GridSearchCV\n",
    "from sklearn.utils._testing import ignore_warnings\n",
    "from sklearn.exceptions import ConvergenceWarning\n",
    "from sklearn.model_selection import train_test_split\n",
    "from sklearn.linear_model import LogisticRegression\n",
    "from sklearn.metrics import accuracy_score"
   ]
  },
  {
   "cell_type": "code",
   "execution_count": 3,
   "id": "c6b437de-49a4-401b-b1d5-5320e2a0dd00",
   "metadata": {},
   "outputs": [],
   "source": [
    "with open('Data/positive.bin', 'rb') as f:\n",
    "    positive = np.load(f)\n",
    "with open('Data/neutral.bin', 'rb') as f:\n",
    "    neutral = np.load(f)\n",
    "with open('Data/negative.bin', 'rb') as f:\n",
    "    negative = np.load(f)"
   ]
  },
  {
   "cell_type": "markdown",
   "id": "d3ac04ae-4962-4dd8-b3bc-a52674751284",
   "metadata": {},
   "source": [
    "print(positive.shape[0])\n",
    "print(neutral.shape[0])\n",
    "print(negative.shape[0])"
   ]
  },
  {
   "cell_type": "code",
   "execution_count": 6,
   "id": "4f6eabaa-ae70-4536-9937-8ca9ffbc9bca",
   "metadata": {},
   "outputs": [],
   "source": [
    "positive_label = np.zeros(positive.shape[0])\n",
    "neutral_label = np.ones(neutral.shape[0])\n",
    "negative_label = np.full(negative.shape[0],2.0,dtype = float)"
   ]
  },
  {
   "cell_type": "code",
   "execution_count": 7,
   "id": "295c731e-d390-414c-907f-c3b32a81f644",
   "metadata": {},
   "outputs": [],
   "source": [
    "X = np.concatenate((positive, neutral, negative))\n",
    "y = np.concatenate((positive_label, neutral_label, negative_label))"
   ]
  },
  {
   "cell_type": "code",
   "execution_count": 8,
   "id": "43af769e-4d7e-4923-a48a-26c9cf5449e6",
   "metadata": {},
   "outputs": [],
   "source": [
    "X_train, X_test, y_train, y_test = \\\n",
    "    train_test_split(X, y, test_size=0.2, random_state=42)"
   ]
  },
  {
   "cell_type": "code",
   "execution_count": 9,
   "id": "2815b617-d28e-49d8-ab97-2b3820608c67",
   "metadata": {},
   "outputs": [],
   "source": [
    "with open('Data/X_train.bin', 'wb') as f:\n",
    "    np.save(f,X_train)\n",
    "with open('Data/X_test.bin', 'wb') as f:\n",
    "    np.save(f,X_test)\n",
    "with open('Data/y_train.bin', 'wb') as f:\n",
    "    np.save(f,y_train)\n",
    "with open('Data/y_test.bin', 'wb') as f:\n",
    "    np.save(f,y_test)"
   ]
  },
  {
   "cell_type": "markdown",
   "id": "6c40baf5-b5d3-4384-aa79-d1f0752ee586",
   "metadata": {},
   "source": [
    "### gpt"
   ]
  },
  {
   "cell_type": "code",
   "execution_count": 20,
   "id": "33415510-f131-42ca-868a-ab5c24fd176b",
   "metadata": {},
   "outputs": [],
   "source": [
    "with open('Data/Forms/positive.bin', 'rb') as f:\n",
    "    positive_1 = np.load(f)\n",
    "with open('Data/Forms/neutral.bin', 'rb') as f:\n",
    "    neutral_1 = np.load(f)\n",
    "with open('Data/Forms/negative.bin', 'rb') as f:\n",
    "    negative_1 = np.load(f)"
   ]
  },
  {
   "cell_type": "code",
   "execution_count": 21,
   "id": "c09c7586-6de2-4692-8f5b-26b132c27c34",
   "metadata": {},
   "outputs": [],
   "source": [
    "with open('Data/GPT/positive_gpt.bin', 'rb') as f:\n",
    "    positive_2 = np.load(f)\n",
    "with open('Data/GPT/neutral_gpt.bin', 'rb') as f:\n",
    "    neutral_2 = np.load(f)\n",
    "with open('Data/GPT/negative_gpt.bin', 'rb') as f:\n",
    "    negative_2 = np.load(f)"
   ]
  },
  {
   "cell_type": "code",
   "execution_count": 28,
   "id": "141230e2-a89d-444f-b681-31489174de86",
   "metadata": {},
   "outputs": [
    {
     "name": "stdout",
     "output_type": "stream",
     "text": [
      "308\n",
      "283\n",
      "283\n"
     ]
    }
   ],
   "source": [
    "positive = np.concatenate((positive_1, positive_2))\n",
    "print(len(positive))\n",
    "neutral = np.concatenate((neutral_1, neutral_2))\n",
    "print(len(neutral))\n",
    "negative = np.concatenate((negative_1, negative_2))\n",
    "print(len(negative))"
   ]
  },
  {
   "cell_type": "code",
   "execution_count": 29,
   "id": "45325efa-8b8e-4107-9952-84e5bb69a8fe",
   "metadata": {},
   "outputs": [],
   "source": [
    "positive_label = np.zeros(positive.shape[0])\n",
    "neutral_label = np.ones(neutral.shape[0])\n",
    "negative_label = np.full(negative.shape[0],2.0,dtype = float)"
   ]
  },
  {
   "cell_type": "code",
   "execution_count": 30,
   "id": "0c13155d-a037-47f5-b68d-1fae1b059a49",
   "metadata": {},
   "outputs": [
    {
     "name": "stdout",
     "output_type": "stream",
     "text": [
      "874\n",
      "874\n"
     ]
    }
   ],
   "source": [
    "X = np.concatenate((positive, neutral, negative))\n",
    "print(len(X))\n",
    "y = np.concatenate((positive_label, neutral_label, negative_label))\n",
    "print(len(y))"
   ]
  },
  {
   "cell_type": "code",
   "execution_count": 32,
   "id": "4be1bf3b-0985-4020-893e-8aa769603235",
   "metadata": {},
   "outputs": [],
   "source": [
    "X_train, X_test, y_train, y_test = \\\n",
    "    train_test_split(X, y, test_size=0.2, random_state=42)"
   ]
  },
  {
   "cell_type": "code",
   "execution_count": 33,
   "id": "626d55a5-2427-4918-b690-deb54aed574c",
   "metadata": {},
   "outputs": [],
   "source": [
    "with open('Data/X_train.bin', 'wb') as f:\n",
    "    np.save(f,X_train)\n",
    "with open('Data/X_test.bin', 'wb') as f:\n",
    "    np.save(f,X_test)\n",
    "with open('Data/y_train.bin', 'wb') as f:\n",
    "    np.save(f,y_train)\n",
    "with open('Data/y_test.bin', 'wb') as f:\n",
    "    np.save(f,y_test)"
   ]
  }
 ],
 "metadata": {
  "kernelspec": {
   "display_name": "Python 3 (ipykernel)",
   "language": "python",
   "name": "python3"
  },
  "language_info": {
   "codemirror_mode": {
    "name": "ipython",
    "version": 3
   },
   "file_extension": ".py",
   "mimetype": "text/x-python",
   "name": "python",
   "nbconvert_exporter": "python",
   "pygments_lexer": "ipython3",
   "version": "3.12.5"
  }
 },
 "nbformat": 4,
 "nbformat_minor": 5
}
